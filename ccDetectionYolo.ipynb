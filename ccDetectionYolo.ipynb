{
  "cells": [
    {
      "cell_type": "code",
      "execution_count": 1,
      "id": "b6d0d5cd",
      "metadata": {
        "id": "b6d0d5cd"
      },
      "outputs": [],
      "source": [
        "import cv2\n",
        "import matplotlib.pyplot as plt\n",
        "import numpy as np\n",
        "import pandas as pd\n",
        "import os\n",
        "import random\n",
        "import math"
      ]
    },
    {
      "cell_type": "markdown",
      "source": [
        "In these code lines, essential Python libraries for computer vision and data manipulation are imported. The script utilizes OpenCV (cv2) for computer vision tasks, such as image processing and computer graphics. matplotlib.pyplot is imported for visualizations. NumPy (np) is employed for numerical operations, and Pandas (pd) is used for data manipulation and analysis. The os module supports interaction with the operating system, facilitating file and directory operations. The random module is imported for generating random numbers or making random selections. Overall, these libraries provide the foundational tools for performing computer vision operations, creating visualizations, handling numerical data, and interacting with the file system."
      ],
      "metadata": {
        "id": "9zWcy7ynB8-i"
      },
      "id": "9zWcy7ynB8-i"
    },
    {
      "cell_type": "code",
      "execution_count": 2,
      "id": "08c0f534",
      "metadata": {
        "id": "08c0f534"
      },
      "outputs": [],
      "source": [
        "# Defining imshow function\n",
        "def imshow(image = None, title = \"Image\", size = 10):\n",
        "    w, h = image.shape[0], image.shape[1]\n",
        "    aspect_ratio = w/h\n",
        "    plt.figure(figsize = (size * aspect_ratio, size))\n",
        "    plt.imshow(cv2.cvtColor(image, cv2.COLOR_BGR2RGB))\n",
        "    plt.title(title)\n",
        "    plt.show()"
      ]
    },
    {
      "cell_type": "markdown",
      "source": [
        "The imshow function is a Python utility designed for displaying images using Matplotlib. It takes an input image, assumed to be in the BGR color format, along with optional parameters for title and size. The function calculates the aspect ratio of the image to ensure proper proportions, creates a Matplotlib figure with the specified size and aspect ratio, converts the color format from BGR to RGB for accurate display, sets the title, and then shows the image using Matplotlib. This function simplifies the process of visualizing images, handling tasks such as aspect ratio adjustment and color format conversion, providing a convenient tool for image display in a consistent and visually appealing manner."
      ],
      "metadata": {
        "id": "V7z_mUKMCVom"
      },
      "id": "V7z_mUKMCVom"
    },
    {
      "cell_type": "code",
      "source": [
        "from google.colab import drive\n",
        "\n",
        "drive.mount('/content/drive')\n"
      ],
      "metadata": {
        "colab": {
          "base_uri": "https://localhost:8080/"
        },
        "id": "0Y2bybYFa5ve",
        "outputId": "baf4a454-52d2-4675-f1a6-3ac3e3be45c8"
      },
      "id": "0Y2bybYFa5ve",
      "execution_count": 3,
      "outputs": [
        {
          "output_type": "stream",
          "name": "stdout",
          "text": [
            "Drive already mounted at /content/drive; to attempt to forcibly remount, call drive.mount(\"/content/drive\", force_remount=True).\n"
          ]
        }
      ]
    },
    {
      "cell_type": "code",
      "source": [
        "import zipfile\n",
        "import os\n",
        "\n",
        "zip_path = '/content/drive/MyDrive/'\n",
        "\n",
        "\n",
        "with zipfile.ZipFile(zip_path + 'abide_imgs.zip', 'r') as zip_ref:\n",
        "    zip_ref.extractall('/content/abide_imgs')\n",
        "\n",
        "\n",
        "with zipfile.ZipFile(zip_path + 'oasis_imgs.zip', 'r') as zip_ref:\n",
        "    zip_ref.extractall('/content/oasis_imgs')\n"
      ],
      "metadata": {
        "id": "K9Xey223a5yb"
      },
      "id": "K9Xey223a5yb",
      "execution_count": 4,
      "outputs": []
    },
    {
      "cell_type": "code",
      "execution_count": 5,
      "id": "05f51554",
      "metadata": {
        "id": "05f51554",
        "outputId": "205ebcbd-1475-42ab-d428-9cf69d9c96f9",
        "colab": {
          "base_uri": "https://localhost:8080/"
        }
      },
      "outputs": [
        {
          "output_type": "stream",
          "name": "stdout",
          "text": [
            "Oasis corpus callosum images: \n",
            " \n",
            " ['OAS1_0294_msp.tif', 'OAS1_0005_MR1_67_ccseg.tif', 'OAS1_0044_MR1_67_ccseg.tif', 'OAS1_0073_MR1_67_ccseg.tif', 'OAS1_0062_MR1_65_ccseg.tif'] \n",
            " \n",
            " \n",
            " \n",
            "\n",
            "Oasis brain mri images: \n",
            " \n",
            " ['OAS1_0331_msp_ccseg.tif', 'OAS1_0141_msp.tif', 'OAS1_0189_msp_ccseg.tif', 'OAS1_0063_MR1_64_ccseg.tif', 'OAS1_0027_MR1_62_ccseg.tif'] \n",
            " \n",
            " \n",
            " \n",
            "\n",
            "Abide corpus callosum images: \n",
            " \n",
            " ['Stanford_0051166_abide_msp.tiff', 'SDSU_0050189_abide_msp.tiff', 'UM_2_0050422_abide_msp.tiff', 'USM_0050483_abide_msp.tiff', 'NYU_0050997_abide_cc.tiff'] \n",
            " \n",
            " \n",
            " \n",
            "\n",
            "Abide brain mri images: \n",
            " \n",
            " ['KKI_0050823_abide_cc.tiff', 'NYU_0050956_abide_cc.tiff', 'NYU_0051013_abide_msp.tiff', 'UCLA_1_0051218_abide_cc.tiff', 'USM_0050482_abide_msp.tiff'] \n",
            " \n",
            " \n",
            " \n",
            "\n"
          ]
        }
      ],
      "source": [
        "folder_oasis_images = \"oasis_imgs/oasis_imgs\"\n",
        "folder_abide_images = \"abide_imgs/abide_imgs\"\n",
        "def is_even(number):\n",
        "    return number % 2 != 0\n",
        "oasis_images_names = [filename for filename in os.listdir(folder_oasis_images)]\n",
        "oasis_cc_images = [oasis_images_names[i] for i in range(len(oasis_images_names)) if is_even(i)]\n",
        "oasis_brain_images = [oasis_images_names[i] for i in range(len(oasis_images_names)) if not is_even(i)]\n",
        "print(\"Oasis corpus callosum images: \\n \\n\", oasis_cc_images[:5], \"\\n \\n \\n \\n\")\n",
        "print(\"Oasis brain mri images: \\n \\n\", oasis_brain_images[:5], \"\\n \\n \\n \\n\")\n",
        "\n",
        "abide_images_names = [filename for filename in os.listdir(folder_abide_images)]\n",
        "abide_cc_images = [abide_images_names[i] for i in range(len(abide_images_names)) if not is_even(i)]\n",
        "abide_brain_images = [abide_images_names[i] for i in range(len(abide_images_names)) if is_even(i)]\n",
        "\n",
        "print(\"Abide corpus callosum images: \\n \\n\", abide_cc_images[:5], \"\\n \\n \\n \\n\")\n",
        "print(\"Abide brain mri images: \\n \\n\", abide_brain_images[:5], \"\\n \\n \\n \\n\")\n"
      ]
    },
    {
      "cell_type": "markdown",
      "source": [
        "The provided code organizes and categorizes brain MRI images from the OASIS and ABIDE datasets into corpus callosum (cc) and brain categories based on their filenames. Two folders, \"oasis_imgs/oasis_imgs\" and \"abide_imgs/abide_imgs,\" contain the respective datasets. A helper function, is_even, determines whether a given number is even. Filenames from each dataset are collected, and using the even-odd classification, separate lists for corpus callosum (*_cc_images) and brain MRI (*_brain_images) images are created for both OASIS and ABIDE datasets. The script then prints the first five filenames from each category for visual inspection. This code is useful for organizing and examining the distribution of images across specific brain structures in the datasets."
      ],
      "metadata": {
        "id": "b6wf8Gl2Cma0"
      },
      "id": "b6wf8Gl2Cma0"
    },
    {
      "cell_type": "code",
      "execution_count": 6,
      "id": "dd24ed0c",
      "metadata": {
        "id": "dd24ed0c"
      },
      "outputs": [],
      "source": [
        "def add_brain_images_to_folder(index, brain_images_array, brain_images_folder_path, file_path = \"brain_images\"):\n",
        "    brain_image_name = brain_images_array[index]\n",
        "    brain_image = cv2.imread(os.path.join(brain_images_folder_path, brain_image_name))\n",
        "    file_path = f\"{file_path}/{brain_image_name}\"\n",
        "    cv2.imwrite(file_path, brain_image)"
      ]
    },
    {
      "cell_type": "markdown",
      "source": [
        "The add_brain_images_to_folder function is designed to extract a specific brain image from an array of brain images and save it to a specified folder path. The function takes an index, brain_images_array (the array containing brain image filenames), brain_images_folder_path (the path to the folder containing the original images), and an optional file_path parameter (the destination folder path for the saved image, defaulting to \"brain_images\"). It loads the specified brain image using OpenCV, constructs the file path, and then saves the image to the designated folder using cv2.imwrite. This function is useful for selectively extracting and organizing specific brain images from a larger dataset, allowing for easy storage and retrieval based on specified criteria."
      ],
      "metadata": {
        "id": "yxuy18ZECwtJ"
      },
      "id": "yxuy18ZECwtJ"
    },
    {
      "cell_type": "code",
      "execution_count": 7,
      "id": "fceaf4a4",
      "metadata": {
        "id": "fceaf4a4",
        "colab": {
          "base_uri": "https://localhost:8080/"
        },
        "outputId": "c8b06017-d3c6-445f-a96b-e8f0cc6e5157"
      },
      "outputs": [
        {
          "output_type": "stream",
          "name": "stdout",
          "text": [
            "Total images processed from oasis_brain_images: 903\n",
            "Length of abide_brain_images: 1100\n",
            "IndexError occurred at image_index: 1100\n",
            "Total images processed from abide_brain_images: 1100\n"
          ]
        }
      ],
      "source": [
        "image_index = 0\n",
        "\n",
        "# Process oasis_brain_images\n",
        "for filename in oasis_brain_images:\n",
        "    add_brain_images_to_folder(image_index, oasis_brain_images, \"oasis_imgs/oasis_imgs\")\n",
        "    image_index += 1\n",
        "\n",
        "print(f\"Total images processed from oasis_brain_images: {image_index}\")\n",
        "\n",
        "print(f\"Length of abide_brain_images: {len(abide_brain_images)}\")\n",
        "\n",
        "# Process abide_brain_images\n",
        "for filename in abide_brain_images:\n",
        "    try:\n",
        "        add_brain_images_to_folder(image_index, abide_brain_images, \"abide_imgs/abide_imgs\")\n",
        "        image_index += 1\n",
        "    except IndexError:\n",
        "        print(f\"IndexError occurred at image_index: {image_index}\")\n",
        "        break\n",
        "\n",
        "print(f\"Total images processed from abide_brain_images: {image_index}\")\n",
        "\n",
        "\n"
      ]
    },
    {
      "cell_type": "markdown",
      "source": [
        "The provided code iterates through the filenames in the 'oasis_brain_images' and 'abide_brain_images' lists, and for each filename, it calls the add_brain_images_to_folder function to save the corresponding brain image to the specified folders (\"oasis_imgs/oasis_imgs\" and \"abide_imgs/abide_imgs\"). The variable image_index is used to keep track of the total number of processed images. In the case of 'abide_brain_images,' it includes error handling using a try-except block to catch any potential IndexError that might occur during the loop. The code prints the total number of processed images for both datasets, providing valuable information about the successful execution and potential issues encountered during the image processing."
      ],
      "metadata": {
        "id": "rpQkVAkQC5aa"
      },
      "id": "rpQkVAkQC5aa"
    },
    {
      "cell_type": "code",
      "source": [
        "image_index = 0\n",
        "\n",
        "# Process oasis_brain_images\n",
        "for filename in oasis_brain_images:\n",
        "    add_brain_images_to_folder(image_index, oasis_brain_images, \"oasis_imgs/oasis_imgs\")\n",
        "    image_index += 1\n",
        "\n",
        "print(f\"Total images processed from oasis_brain_images: {image_index}\")\n",
        "\n",
        "# Process abide_brain_images\n",
        "for image_index, filename in enumerate(abide_brain_images):\n",
        "    add_brain_images_to_folder(image_index, abide_brain_images, \"abide_imgs/abide_imgs\")\n",
        "\n",
        "print(f\"Total images processed from abide_brain_images: {image_index + 1}\")\n"
      ],
      "metadata": {
        "colab": {
          "base_uri": "https://localhost:8080/"
        },
        "id": "8SligviblkpE",
        "outputId": "5e7e2463-47e3-48f3-97bb-f97f52786a7f"
      },
      "id": "8SligviblkpE",
      "execution_count": 8,
      "outputs": [
        {
          "output_type": "stream",
          "name": "stdout",
          "text": [
            "Total images processed from oasis_brain_images: 903\n",
            "Total images processed from abide_brain_images: 1100\n"
          ]
        }
      ]
    },
    {
      "cell_type": "code",
      "execution_count": 9,
      "id": "5685af38",
      "metadata": {
        "id": "5685af38",
        "colab": {
          "base_uri": "https://localhost:8080/"
        },
        "outputId": "391b0e56-8bbc-4e5f-b08f-4b885adb3b94"
      },
      "outputs": [
        {
          "output_type": "stream",
          "name": "stdout",
          "text": [
            "Total images processed from oasis_cc_images: 903\n",
            "Total images processed from abide_cc_images: 1100\n"
          ]
        }
      ],
      "source": [
        "image_index = 0\n",
        "\n",
        "# Process oasis_cc_images\n",
        "for filename in oasis_cc_images:\n",
        "    add_brain_images_to_folder(image_index, oasis_cc_images, \"oasis_imgs/oasis_imgs\", \"cc_images\")\n",
        "    image_index += 1\n",
        "\n",
        "print(f\"Total images processed from oasis_cc_images: {image_index}\")\n",
        "\n",
        "# Process abide_cc_images\n",
        "for image_index, filename in enumerate(abide_cc_images):\n",
        "    add_brain_images_to_folder(image_index, abide_cc_images, \"abide_imgs/abide_imgs\", \"cc_images\")\n",
        "\n",
        "print(f\"Total images processed from abide_cc_images: {image_index + 1}\")\n"
      ]
    },
    {
      "cell_type": "code",
      "source": [
        "import os\n",
        "import shutil\n",
        "\n",
        "def organize_images(source_folder, destination_folder):\n",
        "    cc_images_folder = os.path.join(destination_folder, \"cc_images\")\n",
        "    brain_images_folder = os.path.join(destination_folder, \"brain_images\")\n",
        "\n",
        "    os.makedirs(cc_images_folder, exist_ok=True)\n",
        "    os.makedirs(brain_images_folder, exist_ok=True)\n",
        "\n",
        "    for root, dirs, files in os.walk(source_folder):\n",
        "        for filename in files:\n",
        "            full_path = os.path.join(root, filename)\n",
        "            if \"_abide_cc.tiff\" in filename:\n",
        "                target_folder = os.path.join(cc_images_folder, filename)\n",
        "                shutil.move(full_path, target_folder)\n",
        "            elif \"_abide_msp.tiff\" in filename:\n",
        "                target_folder = os.path.join(brain_images_folder, filename)\n",
        "                shutil.move(full_path, target_folder)\n",
        "\n",
        "# Specify the source and destination folders for abide\n",
        "source_folder_abide = \"/content/abide_imgs/abide_imgs\"\n",
        "destination_folder_abide = \"/content/organized_abide\"\n",
        "\n",
        "# Organize images for abide\n",
        "organize_images(source_folder_abide, destination_folder_abide)\n",
        "\n",
        "\n",
        "\n",
        "# List the contents of the organized directories\n",
        "print(\"Contents of organized_abide/cc_images:\", os.listdir(os.path.join(destination_folder_abide, \"cc_images\")))\n",
        "print(\"Contents of organized_abide/brain_images:\", os.listdir(os.path.join(destination_folder_abide, \"brain_images\")))\n",
        "\n"
      ],
      "metadata": {
        "colab": {
          "base_uri": "https://localhost:8080/"
        },
        "id": "kfitIkEBnkjQ",
        "outputId": "13802afd-4074-4673-9528-9a939095963e"
      },
      "id": "kfitIkEBnkjQ",
      "execution_count": 10,
      "outputs": [
        {
          "output_type": "stream",
          "name": "stdout",
          "text": [
            "Contents of organized_abide/cc_images: ['KKI_0050823_abide_cc.tiff', 'NYU_0050956_abide_cc.tiff', 'UCLA_1_0051218_abide_cc.tiff', 'NYU_0050997_abide_cc.tiff', 'Stanford_0051174_abide_cc.tiff', 'Yale_0050620_abide_cc.tiff', 'NYU_0051028_abide_cc.tiff', 'Pitt_0050044_abide_cc.tiff', 'NYU_0051010_abide_cc.tiff', 'UCLA_2_0051293_abide_cc.tiff', 'NYU_0051071_abide_cc.tiff', 'Stanford_0051175_abide_cc.tiff', 'Trinity_0050271_abide_cc.tiff', 'UM_1_0050329_abide_cc.tiff', 'Yale_0050619_abide_cc.tiff', 'NYU_0051012_abide_cc.tiff', 'KKI_0050790_abide_cc.tiff', 'Trinity_0051135_abide_cc.tiff', 'Stanford_0051167_abide_cc.tiff', 'OHSU_0050155_abide_cc.tiff', 'Trinity_0050235_abide_cc.tiff', 'KKI_0050781_abide_cc.tiff', 'MaxMun_c_0051338_abide_cc.tiff', 'USM_0050436_abide_cc.tiff', 'NYU_0051154_abide_cc.tiff', 'NYU_0050964_abide_cc.tiff', 'USM_0050491_abide_cc.tiff', 'NYU_0051040_abide_cc.tiff', 'SBL_0051571_abide_cc.tiff', 'UM_1_0050378_abide_cc.tiff', 'Pitt_0050042_abide_cc.tiff', 'UM_2_0050383_abide_cc.tiff', 'UCLA_1_0051265_abide_cc.tiff', 'CMU_a_0050660_abide_cc.tiff', 'USM_0050442_abide_cc.tiff', 'Trinity_0050250_abide_cc.tiff', 'Pitt_0050007_abide_cc.tiff', 'SBL_0051562_abide_cc.tiff', 'Yale_0050605_abide_cc.tiff', 'Olin_0050131_abide_cc.tiff', 'UCLA_1_0051204_abide_cc.tiff', 'SBL_0051566_abide_cc.tiff', 'Leuven_2_0050753_abide_cc.tiff', 'CMU_b_0050655_abide_cc.tiff', 'MaxMun_c_0051344_abide_cc.tiff', 'Yale_0050564_abide_cc.tiff', 'NYU_0051009_abide_cc.tiff', 'Stanford_0051189_abide_cc.tiff', 'USM_0050522_abide_cc.tiff', 'UCLA_1_0051263_abide_cc.tiff', 'NYU_0051003_abide_cc.tiff', 'KKI_0050822_abide_cc.tiff', 'USM_0050471_abide_cc.tiff', 'Leuven_1_0050694_abide_cc.tiff', 'Pitt_0050023_abide_cc.tiff', 'Pitt_0050058_abide_cc.tiff', 'UCLA_1_0051205_abide_cc.tiff', 'NYU_0051063_abide_cc.tiff', 'Leuven_2_0050722_abide_cc.tiff', 'UM_2_0050387_abide_cc.tiff', 'Olin_0050126_abide_cc.tiff', 'KKI_0050788_abide_cc.tiff', 'NYU_0051023_abide_cc.tiff', 'MaxMun_b_0051324_abide_cc.tiff', 'Leuven_1_0050700_abide_cc.tiff', 'KKI_0050784_abide_cc.tiff', 'KKI_0050806_abide_cc.tiff', 'CMU_a_0050666_abide_cc.tiff', 'NYU_0051068_abide_cc.tiff', 'Leuven_1_0050701_abide_cc.tiff', 'UCLA_1_0051259_abide_cc.tiff', 'SBL_0051570_abide_cc.tiff', 'UCLA_1_0051224_abide_cc.tiff', 'SBL_0051573_abide_cc.tiff', 'MaxMun_d_0051349_abide_cc.tiff', 'USM_0050498_abide_cc.tiff', 'Trinity_0050242_abide_cc.tiff', 'UCLA_1_0051248_abide_cc.tiff', 'USM_0050466_abide_cc.tiff', 'UM_1_0050376_abide_cc.tiff', 'NYU_0051114_abide_cc.tiff', 'Leuven_1_0050709_abide_cc.tiff', 'SBL_0051584_abide_cc.tiff', 'OHSU_0050153_abide_cc.tiff', 'KKI_0050779_abide_cc.tiff', 'UM_2_0050423_abide_cc.tiff', 'UM_1_0050370_abide_cc.tiff', 'Caltech_0051484_abide_cc.tiff', 'UM_1_0050373_abide_cc.tiff', 'Olin_0050107_abide_cc.tiff', 'Yale_0050602_abide_cc.tiff', 'SBL_0051581_abide_cc.tiff', 'NYU_0050959_abide_cc.tiff', 'Olin_0050123_abide_cc.tiff', 'UM_1_0050273_abide_cc.tiff', 'NYU_0050965_abide_cc.tiff', 'KKI_0050814_abide_cc.tiff', 'UCLA_1_0051227_abide_cc.tiff', 'NYU_0050990_abide_cc.tiff', 'NYU_0050980_abide_cc.tiff', 'NYU_0051061_abide_cc.tiff', 'Yale_0050553_abide_cc.tiff', 'Olin_0050124_abide_cc.tiff', 'Pitt_0050012_abide_cc.tiff', 'USM_0050515_abide_cc.tiff', 'Yale_0050604_abide_cc.tiff', 'Pitt_0050059_abide_cc.tiff', 'Stanford_0051161_abide_cc.tiff', 'Yale_0050556_abide_cc.tiff', 'Trinity_0050244_abide_cc.tiff', 'Leuven_2_0050747_abide_cc.tiff', 'SDSU_0050208_abide_cc.tiff', 'UCLA_2_0051305_abide_cc.tiff', 'MaxMun_d_0051331_abide_cc.tiff', 'UM_1_0050283_abide_cc.tiff', 'KKI_0050808_abide_cc.tiff', 'UCLA_1_0051260_abide_cc.tiff', 'CMU_b_0050650_abide_cc.tiff', 'SBL_0051575_abide_cc.tiff', 'UCLA_1_0051268_abide_cc.tiff', 'UCLA_1_0051269_abide_cc.tiff', 'SDSU_0050194_abide_cc.tiff', 'NYU_0050957_abide_cc.tiff', 'SBL_0051585_abide_cc.tiff', 'Yale_0050622_abide_cc.tiff', 'MaxMun_d_0051354_abide_cc.tiff', 'NYU_0050994_abide_cc.tiff', 'KKI_0050772_abide_cc.tiff', 'UM_1_0050312_abide_cc.tiff', 'UM_1_0050346_abide_cc.tiff', 'UM_1_0050310_abide_cc.tiff', 'USM_0050514_abide_cc.tiff', 'UCLA_1_0051240_abide_cc.tiff', 'Yale_0050574_abide_cc.tiff', 'NYU_0051121_abide_cc.tiff', 'NYU_0051149_abide_cc.tiff', 'USM_0050506_abide_cc.tiff', 'Trinity_0050262_abide_cc.tiff', 'SDSU_0050201_abide_cc.tiff', 'USM_0050482_abide_cc.tiff', 'NYU_0051081_abide_cc.tiff', 'Pitt_0050030_abide_cc.tiff', 'KKI_0050821_abide_cc.tiff', 'USM_0050465_abide_cc.tiff', 'Yale_0050573_abide_cc.tiff', 'Caltech_0051463_abide_cc.tiff', 'SDSU_0050214_abide_cc.tiff', 'MaxMun_d_0051350_abide_cc.tiff', 'USM_0050438_abide_cc.tiff', 'Leuven_1_0050705_abide_cc.tiff', 'MaxMun_a_0051320_abide_cc.tiff', 'UM_1_0050372_abide_cc.tiff', 'USM_0050445_abide_cc.tiff', 'Olin_0050112_abide_cc.tiff', 'SBL_0051574_abide_cc.tiff', 'USM_0050441_abide_cc.tiff', 'KKI_0050785_abide_cc.tiff', 'USM_0050487_abide_cc.tiff', 'UM_2_0050397_abide_cc.tiff', 'NYU_0050976_abide_cc.tiff', 'NYU_0051044_abide_cc.tiff', 'UM_2_0050390_abide_cc.tiff', 'Pitt_0050039_abide_cc.tiff', 'NYU_0050968_abide_cc.tiff', 'Yale_0050570_abide_cc.tiff', 'MaxMun_a_0051606_abide_cc.tiff', 'OHSU_0050167_abide_cc.tiff', 'Trinity_0050257_abide_cc.tiff', 'UM_1_0050352_abide_cc.tiff', 'Yale_0050577_abide_cc.tiff', 'NYU_0051085_abide_cc.tiff', 'MaxMun_c_0051346_abide_cc.tiff', 'UM_1_0050380_abide_cc.tiff', 'Olin_0050130_abide_cc.tiff', 'Stanford_0051172_abide_cc.tiff', 'NYU_0050979_abide_cc.tiff', 'UM_1_0050314_abide_cc.tiff', 'Stanford_0051185_abide_cc.tiff', 'SDSU_0050187_abide_cc.tiff', 'UM_1_0050345_abide_cc.tiff', 'SBL_0051557_abide_cc.tiff', 'NYU_0051126_abide_cc.tiff', 'UM_1_0050282_abide_cc.tiff', 'UM_1_0050316_abide_cc.tiff', 'NYU_0051054_abide_cc.tiff', 'UCLA_1_0051264_abide_cc.tiff', 'NYU_0051155_abide_cc.tiff', 'Pitt_0050011_abide_cc.tiff', 'Pitt_0050027_abide_cc.tiff', 'NYU_0051131_abide_cc.tiff', 'UM_1_0050289_abide_cc.tiff', 'UM_1_0050290_abide_cc.tiff', 'USM_0050467_abide_cc.tiff', 'Trinity_0050260_abide_cc.tiff', 'Trinity_0050264_abide_cc.tiff', 'USM_0050507_abide_cc.tiff', 'UM_1_0050277_abide_cc.tiff', 'Leuven_2_0050749_abide_cc.tiff', 'Trinity_0050237_abide_cc.tiff', 'NYU_0051104_abide_cc.tiff', 'UM_1_0050336_abide_cc.tiff', 'UM_1_0050291_abide_cc.tiff', 'Caltech_0051471_abide_cc.tiff', 'Stanford_0051184_abide_cc.tiff', 'UM_1_0050340_abide_cc.tiff', 'UCLA_1_0051228_abide_cc.tiff', 'UM_2_0050405_abide_cc.tiff', 'MaxMun_c_0051339_abide_cc.tiff', 'Caltech_0051491_abide_cc.tiff', 'Caltech_0051481_abide_cc.tiff', 'UM_2_0050418_abide_cc.tiff', 'UCLA_2_0051302_abide_cc.tiff', 'Caltech_0051492_abide_cc.tiff', 'Leuven_2_0050737_abide_cc.tiff', 'Caltech_0051456_abide_cc.tiff', 'MaxMun_d_0051355_abide_cc.tiff', 'NYU_0051109_abide_cc.tiff', 'Trinity_0050241_abide_cc.tiff', 'OHSU_0050152_abide_cc.tiff', 'SDSU_0050197_abide_cc.tiff', 'UM_1_0050288_abide_cc.tiff', 'Stanford_0051162_abide_cc.tiff', 'USM_0050451_abide_cc.tiff', 'Caltech_0051461_abide_cc.tiff', 'Pitt_0050003_abide_cc.tiff', 'Olin_0050102_abide_cc.tiff', 'MaxMun_c_0051332_abide_cc.tiff', 'Caltech_0051478_abide_cc.tiff', 'MaxMun_a_0051362_abide_cc.tiff', 'UM_1_0050315_abide_cc.tiff', 'Caltech_0051462_abide_cc.tiff', 'UCLA_1_0051258_abide_cc.tiff', 'UCLA_1_0051282_abide_cc.tiff', 'KKI_0050818_abide_cc.tiff', 'UM_2_0050417_abide_cc.tiff', 'NYU_0051156_abide_cc.tiff', 'USM_0050452_abide_cc.tiff', 'UM_1_0050375_abide_cc.tiff', 'MaxMun_c_0051340_abide_cc.tiff', 'NYU_0051062_abide_cc.tiff', 'NYU_0051089_abide_cc.tiff', 'Stanford_0051166_abide_cc.tiff', 'KKI_0050778_abide_cc.tiff', 'UM_2_0050421_abide_cc.tiff', 'Leuven_1_0050708_abide_cc.tiff', 'Leuven_2_0050725_abide_cc.tiff', 'Yale_0050568_abide_cc.tiff', 'SBL_0051580_abide_cc.tiff', 'Olin_0050121_abide_cc.tiff', 'Leuven_2_0050728_abide_cc.tiff', 'UCLA_1_0051274_abide_cc.tiff', 'USM_0050449_abide_cc.tiff', 'Trinity_0051141_abide_cc.tiff', 'MaxMun_d_0051360_abide_cc.tiff', 'NYU_0051035_abide_cc.tiff', 'MaxMun_d_0051357_abide_cc.tiff', 'NYU_0051017_abide_cc.tiff', 'Pitt_0050057_abide_cc.tiff', 'USM_0050454_abide_cc.tiff', 'UCLA_1_0051277_abide_cc.tiff', 'Leuven_1_0050691_abide_cc.tiff', 'Caltech_0051477_abide_cc.tiff', 'NYU_0051159_abide_cc.tiff', 'USM_0050473_abide_cc.tiff', 'KKI_0050777_abide_cc.tiff', 'Pitt_0050029_abide_cc.tiff', 'UM_2_0050382_abide_cc.tiff', 'NYU_0051036_abide_cc.tiff', 'NYU_0051108_abide_cc.tiff', 'OHSU_0050171_abide_cc.tiff', 'Trinity_0051133_abide_cc.tiff', 'NYU_0050974_abide_cc.tiff', 'UCLA_2_0051292_abide_cc.tiff', 'OHSU_0050150_abide_cc.tiff', 'NYU_0050960_abide_cc.tiff', 'UM_2_0050399_abide_cc.tiff', 'Pitt_0050038_abide_cc.tiff', 'USM_0050500_abide_cc.tiff', 'SDSU_0050195_abide_cc.tiff', 'NYU_0051113_abide_cc.tiff', 'UM_2_0050425_abide_cc.tiff', 'Stanford_0051181_abide_cc.tiff', 'UCLA_1_0051271_abide_cc.tiff', 'NYU_0050967_abide_cc.tiff', 'Trinity_0051140_abide_cc.tiff', 'Pitt_0050017_abide_cc.tiff', 'UM_2_0050426_abide_cc.tiff', 'UM_1_0050344_abide_cc.tiff', 'UCLA_1_0051276_abide_cc.tiff', 'NYU_0051011_abide_cc.tiff', 'UM_2_0050403_abide_cc.tiff', 'Trinity_0050236_abide_cc.tiff', 'USM_0050510_abide_cc.tiff', 'UM_1_0050305_abide_cc.tiff', 'NYU_0051006_abide_cc.tiff', 'Caltech_0051458_abide_cc.tiff', 'NYU_0050988_abide_cc.tiff', 'UM_1_0050286_abide_cc.tiff', 'USM_0050503_abide_cc.tiff', 'SDSU_0050199_abide_cc.tiff', 'UCLA_1_0051209_abide_cc.tiff', 'Leuven_2_0050733_abide_cc.tiff', 'Olin_0050117_abide_cc.tiff', 'UM_2_0050386_abide_cc.tiff', 'SDSU_0050189_abide_cc.tiff', 'UM_1_0050327_abide_cc.tiff', 'KKI_0050775_abide_cc.tiff', 'MaxMun_a_0051369_abide_cc.tiff', 'Trinity_0050233_abide_cc.tiff', 'NYU_0051095_abide_cc.tiff', 'Leuven_1_0050707_abide_cc.tiff', 'NYU_0050955_abide_cc.tiff', 'Olin_0050109_abide_cc.tiff', 'UCLA_1_0051254_abide_cc.tiff', 'Pitt_0050015_abide_cc.tiff', 'Trinity_0050266_abide_cc.tiff', 'SBL_0051582_abide_cc.tiff', 'Leuven_2_0050742_abide_cc.tiff', 'USM_0050501_abide_cc.tiff', 'UCLA_1_0051217_abide_cc.tiff', 'UM_2_0050385_abide_cc.tiff', 'CMU_b_0050643_abide_cc.tiff', 'NYU_0051070_abide_cc.tiff', 'UCLA_1_0051221_abide_cc.tiff', 'UCLA_2_0051317_abide_cc.tiff', 'Yale_0050610_abide_cc.tiff', 'SBL_0051565_abide_cc.tiff', 'UM_1_0050303_abide_cc.tiff', 'USM_0050457_abide_cc.tiff', 'SDSU_0050212_abide_cc.tiff', 'KKI_0050786_abide_cc.tiff', 'NYU_0051084_abide_cc.tiff', 'UM_2_0050406_abide_cc.tiff', 'Pitt_0050055_abide_cc.tiff', 'Leuven_1_0050687_abide_cc.tiff', 'USM_0050432_abide_cc.tiff', 'Caltech_0051483_abide_cc.tiff', 'NYU_0051117_abide_cc.tiff', 'Leuven_1_0050683_abide_cc.tiff', 'MaxMun_d_0051352_abide_cc.tiff', 'NYU_0051088_abide_cc.tiff', 'Stanford_0051199_abide_cc.tiff', 'Olin_0050105_abide_cc.tiff', 'NYU_0051055_abide_cc.tiff', 'UCLA_1_0051279_abide_cc.tiff', 'SDSU_0050203_abide_cc.tiff', 'UCLA_1_0051203_abide_cc.tiff', 'MaxMun_b_0051322_abide_cc.tiff', 'UCLA_1_0051275_abide_cc.tiff', 'Pitt_0050024_abide_cc.tiff', 'KKI_0050798_abide_cc.tiff', 'SBL_0051558_abide_cc.tiff', 'USM_0050526_abide_cc.tiff', 'Trinity_0050249_abide_cc.tiff', 'Pitt_0050043_abide_cc.tiff', 'Yale_0050609_abide_cc.tiff', 'UM_2_0050410_abide_cc.tiff', 'NYU_0051119_abide_cc.tiff', 'Leuven_1_0050704_abide_cc.tiff', 'Caltech_0051469_abide_cc.tiff', 'UM_1_0050335_abide_cc.tiff', 'UM_2_0050414_abide_cc.tiff', 'SBL_0051577_abide_cc.tiff', 'MaxMun_a_0051363_abide_cc.tiff', 'UCLA_2_0051298_abide_cc.tiff', 'NYU_0051058_abide_cc.tiff', 'UCLA_1_0051212_abide_cc.tiff', 'OHSU_0050166_abide_cc.tiff', 'Caltech_0051479_abide_cc.tiff', 'UCLA_1_0051262_abide_cc.tiff', 'UM_1_0050342_abide_cc.tiff', 'UCLA_1_0051236_abide_cc.tiff', 'UCLA_1_0051215_abide_cc.tiff', 'OHSU_0050160_abide_cc.tiff', 'NYU_0051103_abide_cc.tiff', 'KKI_0050791_abide_cc.tiff', 'Pitt_0050048_abide_cc.tiff', 'KKI_0050780_abide_cc.tiff', 'UM_1_0050365_abide_cc.tiff', 'USM_0050477_abide_cc.tiff', 'UM_1_0050296_abide_cc.tiff', 'NYU_0051024_abide_cc.tiff', 'Pitt_0050008_abide_cc.tiff', 'Leuven_2_0050751_abide_cc.tiff', 'UCLA_2_0051295_abide_cc.tiff', 'Caltech_0051473_abide_cc.tiff', 'NYU_0050985_abide_cc.tiff', 'NYU_0050999_abide_cc.tiff', 'UCLA_2_0051307_abide_cc.tiff', 'OHSU_0050156_abide_cc.tiff', 'NYU_0050971_abide_cc.tiff', 'Yale_0050555_abide_cc.tiff', 'USM_0050464_abide_cc.tiff', 'NYU_0051059_abide_cc.tiff', 'UM_1_0050379_abide_cc.tiff', 'Trinity_0050270_abide_cc.tiff', 'SDSU_0050211_abide_cc.tiff', 'Leuven_1_0050688_abide_cc.tiff', 'NYU_0051007_abide_cc.tiff', 'SDSU_0050207_abide_cc.tiff', 'NYU_0051077_abide_cc.tiff', 'Leuven_2_0050750_abide_cc.tiff', 'Yale_0050551_abide_cc.tiff', 'MaxMun_c_0051347_abide_cc.tiff', 'NYU_0051072_abide_cc.tiff', 'UCLA_2_0051315_abide_cc.tiff', 'CMU_b_0050669_abide_cc.tiff', 'UCLA_1_0051278_abide_cc.tiff', 'NYU_0051041_abide_cc.tiff', 'Olin_0050132_abide_cc.tiff', 'USM_0050516_abide_cc.tiff', 'Leuven_2_0050726_abide_cc.tiff', 'KKI_0050793_abide_cc.tiff', 'KKI_0050813_abide_cc.tiff', 'Pitt_0050026_abide_cc.tiff', 'NYU_0050958_abide_cc.tiff', 'USM_0050460_abide_cc.tiff', 'UM_1_0050300_abide_cc.tiff', 'CMU_b_0050652_abide_cc.tiff', 'Leuven_1_0050693_abide_cc.tiff', 'Olin_0050136_abide_cc.tiff', 'Trinity_0050251_abide_cc.tiff', 'MaxMun_d_0051351_abide_cc.tiff', 'Stanford_0051191_abide_cc.tiff', 'MaxMun_b_0051325_abide_cc.tiff', 'MaxMun_d_0051359_abide_cc.tiff', 'Olin_0050135_abide_cc.tiff', 'UM_1_0050367_abide_cc.tiff', 'USM_0050459_abide_cc.tiff', 'UM_1_0050337_abide_cc.tiff', 'USM_0050433_abide_cc.tiff', 'KKI_0050803_abide_cc.tiff', 'USM_0050489_abide_cc.tiff', 'UM_1_0050297_abide_cc.tiff', 'SBL_0051560_abide_cc.tiff', 'Pitt_0050019_abide_cc.tiff', 'NYU_0051069_abide_cc.tiff', 'UM_1_0050322_abide_cc.tiff', 'UM_1_0050324_abide_cc.tiff', 'Pitt_0050040_abide_cc.tiff', 'MaxMun_a_0051319_abide_cc.tiff', 'UM_1_0050347_abide_cc.tiff', 'OHSU_0050169_abide_cc.tiff', 'NYU_0051060_abide_cc.tiff', 'Leuven_1_0050689_abide_cc.tiff', 'OHSU_0050144_abide_cc.tiff', 'Yale_0050611_abide_cc.tiff', 'UM_1_0050330_abide_cc.tiff', 'NYU_0050986_abide_cc.tiff', 'NYU_0051074_abide_cc.tiff', 'NYU_0051034_abide_cc.tiff', 'USM_0050469_abide_cc.tiff', 'Leuven_2_0050730_abide_cc.tiff', 'Leuven_1_0050702_abide_cc.tiff', 'UM_1_0050281_abide_cc.tiff', 'Stanford_0051170_abide_cc.tiff', 'Yale_0050614_abide_cc.tiff', 'UCLA_1_0051261_abide_cc.tiff', 'Stanford_0051160_abide_cc.tiff', 'UCLA_1_0051281_abide_cc.tiff', 'OHSU_0050163_abide_cc.tiff', 'Yale_0050621_abide_cc.tiff', 'UCLA_2_0051306_abide_cc.tiff', 'Pitt_0050037_abide_cc.tiff', 'UM_1_0050364_abide_cc.tiff', 'OHSU_0050168_abide_cc.tiff', 'Yale_0050552_abide_cc.tiff', 'UCLA_1_0051255_abide_cc.tiff', 'Leuven_1_0050698_abide_cc.tiff', 'Trinity_0050234_abide_cc.tiff', 'NYU_0051128_abide_cc.tiff', 'Yale_0050626_abide_cc.tiff', 'UM_1_0050374_abide_cc.tiff', 'KKI_0050826_abide_cc.tiff', 'KKI_0050811_abide_cc.tiff', 'UM_1_0050295_abide_cc.tiff', 'Stanford_0051195_abide_cc.tiff', 'NYU_0051124_abide_cc.tiff', 'Yale_0050571_abide_cc.tiff', 'USM_0050502_abide_cc.tiff', 'Yale_0050563_abide_cc.tiff', 'Yale_0050627_abide_cc.tiff', 'USM_0050435_abide_cc.tiff', 'Pitt_0050004_abide_cc.tiff', 'USM_0050484_abide_cc.tiff', 'UM_2_0050416_abide_cc.tiff', 'Pitt_0050060_abide_cc.tiff', 'Pitt_0050047_abide_cc.tiff', 'UM_1_0050287_abide_cc.tiff', 'Trinity_0051138_abide_cc.tiff', 'Stanford_0051176_abide_cc.tiff', 'Stanford_0051177_abide_cc.tiff', 'Pitt_0050020_abide_cc.tiff', 'Stanford_0051179_abide_cc.tiff', 'Pitt_0050005_abide_cc.tiff', 'Pitt_0050034_abide_cc.tiff', 'Yale_0050616_abide_cc.tiff', 'Pitt_0050009_abide_cc.tiff', 'NYU_0050952_abide_cc.tiff', 'Trinity_0050246_abide_cc.tiff', 'USM_0050505_abide_cc.tiff', 'Stanford_0051173_abide_cc.tiff', 'CMU_b_0050667_abide_cc.tiff', 'SDSU_0050205_abide_cc.tiff', 'NYU_0051106_abide_cc.tiff', 'NYU_0050954_abide_cc.tiff', 'USM_0050437_abide_cc.tiff', 'Pitt_0050045_abide_cc.tiff', 'NYU_0051079_abide_cc.tiff', 'UCLA_1_0051241_abide_cc.tiff', 'Stanford_0051165_abide_cc.tiff', 'SDSU_0050206_abide_cc.tiff', 'USM_0050512_abide_cc.tiff', 'USM_0050478_abide_cc.tiff', 'NYU_0050984_abide_cc.tiff', 'CMU_a_0050646_abide_cc.tiff', 'MaxMun_c_0051342_abide_cc.tiff', 'NYU_0051032_abide_cc.tiff', 'UM_1_0050366_abide_cc.tiff', 'Caltech_0051459_abide_cc.tiff', 'Leuven_2_0050757_abide_cc.tiff', 'NYU_0050993_abide_cc.tiff', 'UCLA_1_0051208_abide_cc.tiff', 'Caltech_0051467_abide_cc.tiff', 'Leuven_1_0050686_abide_cc.tiff', 'Yale_0050557_abide_cc.tiff', 'Pitt_0050010_abide_cc.tiff', 'UM_1_0050339_abide_cc.tiff', 'Yale_0050618_abide_cc.tiff', 'SDSU_0050182_abide_cc.tiff', 'Leuven_1_0050696_abide_cc.tiff', 'Pitt_0050050_abide_cc.tiff', 'USM_0050525_abide_cc.tiff', 'Caltech_0051464_abide_cc.tiff', 'USM_0050520_abide_cc.tiff', 'Caltech_0051480_abide_cc.tiff', 'Trinity_0050232_abide_cc.tiff', 'NYU_0050987_abide_cc.tiff', 'NYU_0051048_abide_cc.tiff', 'USM_0050481_abide_cc.tiff', 'UCLA_1_0051256_abide_cc.tiff', 'UM_1_0050354_abide_cc.tiff', 'Yale_0050603_abide_cc.tiff', 'Pitt_0050014_abide_cc.tiff', 'UM_1_0050359_abide_cc.tiff', 'OHSU_0050142_abide_cc.tiff', 'USM_0050509_abide_cc.tiff', 'NYU_0051050_abide_cc.tiff', 'Pitt_0050022_abide_cc.tiff', 'MaxMun_a_0051372_abide_cc.tiff', 'USM_0050499_abide_cc.tiff', 'NYU_0051075_abide_cc.tiff', 'Olin_0050104_abide_cc.tiff', 'NYU_0051152_abide_cc.tiff', 'Leuven_1_0050690_abide_cc.tiff', 'UM_1_0050356_abide_cc.tiff', 'USM_0050517_abide_cc.tiff', 'Yale_0050567_abide_cc.tiff', 'Yale_0050578_abide_cc.tiff', 'OHSU_0050165_abide_cc.tiff', 'Caltech_0051457_abide_cc.tiff', 'Caltech_0051485_abide_cc.tiff', 'USM_0050456_abide_cc.tiff', 'SDSU_0050216_abide_cc.tiff', 'SDSU_0050190_abide_cc.tiff', 'Stanford_0051178_abide_cc.tiff', 'UCLA_1_0051238_abide_cc.tiff', 'UM_1_0050363_abide_cc.tiff', 'Pitt_0050033_abide_cc.tiff', 'CMU_a_0050664_abide_cc.tiff', 'MaxMun_a_0051368_abide_cc.tiff', 'Pitt_0050036_abide_cc.tiff', 'USM_0050453_abide_cc.tiff', 'MaxMun_b_0051326_abide_cc.tiff', 'UM_1_0050343_abide_cc.tiff', 'Caltech_0051475_abide_cc.tiff', 'NYU_0051153_abide_cc.tiff', 'UM_2_0050428_abide_cc.tiff', 'KKI_0050782_abide_cc.tiff', 'Yale_0050615_abide_cc.tiff', 'SDSU_0050210_abide_cc.tiff', 'CMU_b_0050661_abide_cc.tiff', 'Caltech_0051474_abide_cc.tiff', 'UM_2_0050402_abide_cc.tiff', 'Pitt_0050002_abide_cc.tiff', 'Leuven_2_0050738_abide_cc.tiff', 'USM_0050504_abide_cc.tiff', 'Yale_0050607_abide_cc.tiff', 'UM_2_0050408_abide_cc.tiff', 'NYU_0051129_abide_cc.tiff', 'NYU_0051096_abide_cc.tiff', 'NYU_0051105_abide_cc.tiff', 'Yale_0050561_abide_cc.tiff', 'USM_0050532_abide_cc.tiff', 'USM_0050486_abide_cc.tiff', 'MaxMun_a_0051321_abide_cc.tiff', 'NYU_0051018_abide_cc.tiff', 'UCLA_1_0051251_abide_cc.tiff', 'UM_1_0050280_abide_cc.tiff', 'SDSU_0050204_abide_cc.tiff', 'CMU_a_0050649_abide_cc.tiff', 'MaxMun_b_0051323_abide_cc.tiff', 'UCLA_1_0051267_abide_cc.tiff', 'NYU_0051019_abide_cc.tiff', 'NYU_0051123_abide_cc.tiff', 'Trinity_0050248_abide_cc.tiff', 'OHSU_0050148_abide_cc.tiff', 'OHSU_0050162_abide_cc.tiff', 'Yale_0050612_abide_cc.tiff', 'SBL_0051561_abide_cc.tiff', 'USM_0050476_abide_cc.tiff', 'NYU_0051002_abide_cc.tiff', 'KKI_0050773_abide_cc.tiff', 'CMU_a_0050654_abide_cc.tiff', 'UCLA_2_0051311_abide_cc.tiff', 'USM_0050480_abide_cc.tiff', 'KKI_0050812_abide_cc.tiff', 'Caltech_0051490_abide_cc.tiff', 'UCLA_1_0051237_abide_cc.tiff', 'UM_1_0050272_abide_cc.tiff', 'UM_1_0050348_abide_cc.tiff', 'UM_1_0050358_abide_cc.tiff', 'USM_0050450_abide_cc.tiff', 'Trinity_0050259_abide_cc.tiff', 'Olin_0050114_abide_cc.tiff', 'Pitt_0050049_abide_cc.tiff', 'UCLA_2_0051294_abide_cc.tiff', 'Trinity_0051137_abide_cc.tiff', 'USM_0050472_abide_cc.tiff', 'UM_1_0050317_abide_cc.tiff', 'NYU_0050966_abide_cc.tiff', 'UM_2_0050407_abide_cc.tiff', 'UM_1_0050301_abide_cc.tiff', 'Leuven_2_0050752_abide_cc.tiff', 'Olin_0050116_abide_cc.tiff', 'Stanford_0051190_abide_cc.tiff', 'MaxMun_c_0051328_abide_cc.tiff', 'CMU_a_0050665_abide_cc.tiff', 'NYU_0051148_abide_cc.tiff', 'UCLA_2_0051314_abide_cc.tiff', 'NYU_0050991_abide_cc.tiff', 'KKI_0050799_abide_cc.tiff', 'SBL_0051564_abide_cc.tiff', 'Olin_0050113_abide_cc.tiff', 'UCLA_1_0051252_abide_cc.tiff', 'UM_1_0050332_abide_cc.tiff', 'Leuven_2_0050736_abide_cc.tiff', 'OHSU_0050145_abide_cc.tiff', 'USM_0050531_abide_cc.tiff', 'Leuven_2_0050748_abide_cc.tiff', 'MaxMun_d_0051361_abide_cc.tiff', 'NYU_0051039_abide_cc.tiff', 'UM_1_0050351_abide_cc.tiff', 'MaxMun_d_0051330_abide_cc.tiff', 'Trinity_0050268_abide_cc.tiff', 'Caltech_0051470_abide_cc.tiff', 'SDSU_0050200_abide_cc.tiff', 'KKI_0050825_abide_cc.tiff', 'USM_0050488_abide_cc.tiff', 'UM_1_0050355_abide_cc.tiff', 'NYU_0050989_abide_cc.tiff', 'Trinity_0051134_abide_cc.tiff', 'UCLA_2_0051304_abide_cc.tiff', 'Yale_0050569_abide_cc.tiff', 'UM_2_0050388_abide_cc.tiff', 'UM_1_0050357_abide_cc.tiff', 'NYU_0051001_abide_cc.tiff', 'Olin_0050134_abide_cc.tiff', 'KKI_0050815_abide_cc.tiff', 'Caltech_0051489_abide_cc.tiff', 'UM_2_0050422_abide_cc.tiff', 'CMU_a_0050668_abide_cc.tiff', 'NYU_0050953_abide_cc.tiff', 'SBL_0051572_abide_cc.tiff', 'Caltech_0051476_abide_cc.tiff', 'Leuven_2_0050723_abide_cc.tiff', 'Caltech_0051466_abide_cc.tiff', 'NYU_0050982_abide_cc.tiff', 'NYU_0051115_abide_cc.tiff', 'NYU_0051057_abide_cc.tiff', 'NYU_0051127_abide_cc.tiff', 'UCLA_1_0051226_abide_cc.tiff', 'UCLA_1_0051257_abide_cc.tiff', 'Trinity_0051142_abide_cc.tiff', 'NYU_0050969_abide_cc.tiff', 'Pitt_0050025_abide_cc.tiff', 'Trinity_0050239_abide_cc.tiff', 'Leuven_2_0050745_abide_cc.tiff', 'NYU_0050973_abide_cc.tiff', 'SDSU_0050196_abide_cc.tiff', 'UCLA_1_0051211_abide_cc.tiff', 'Pitt_0050031_abide_cc.tiff', 'CMU_a_0050653_abide_cc.tiff', 'MaxMun_a_0051366_abide_cc.tiff', 'Yale_0050628_abide_cc.tiff', 'Leuven_2_0050746_abide_cc.tiff', 'KKI_0050801_abide_cc.tiff', 'SBL_0051559_abide_cc.tiff', 'UM_1_0050285_abide_cc.tiff', 'UM_1_0050278_abide_cc.tiff', 'UM_1_0050292_abide_cc.tiff', 'Stanford_0051168_abide_cc.tiff', 'Pitt_0050041_abide_cc.tiff', 'SDSU_0050193_abide_cc.tiff', 'Leuven_1_0050682_abide_cc.tiff', 'UM_1_0050274_abide_cc.tiff', 'Stanford_0051193_abide_cc.tiff', 'SDSU_0050209_abide_cc.tiff', 'CMU_a_0050656_abide_cc.tiff', 'Trinity_0050261_abide_cc.tiff', 'Leuven_2_0050741_abide_cc.tiff', 'UCLA_1_0051213_abide_cc.tiff', 'NYU_0051066_abide_cc.tiff', 'NYU_0050978_abide_cc.tiff', 'UCLA_1_0051225_abide_cc.tiff', 'NYU_0051049_abide_cc.tiff', 'OHSU_0050158_abide_cc.tiff', 'NYU_0051076_abide_cc.tiff', 'USM_0050440_abide_cc.tiff', 'Leuven_1_0050697_abide_cc.tiff', 'SDSU_0050191_abide_cc.tiff', 'Trinity_0050255_abide_cc.tiff', 'Leuven_1_0050692_abide_cc.tiff', 'UCLA_2_0051300_abide_cc.tiff', 'NYU_0051086_abide_cc.tiff', 'Leuven_2_0050731_abide_cc.tiff', 'NYU_0051150_abide_cc.tiff', 'Stanford_0051194_abide_cc.tiff', 'USM_0050530_abide_cc.tiff', 'UM_2_0050404_abide_cc.tiff', 'Stanford_0051198_abide_cc.tiff', 'USM_0050475_abide_cc.tiff', 'Pitt_0050032_abide_cc.tiff', 'Olin_0050128_abide_cc.tiff', 'UM_1_0050325_abide_cc.tiff', 'USM_0050513_abide_cc.tiff', 'Trinity_0050267_abide_cc.tiff', 'NYU_0051087_abide_cc.tiff', 'USM_0050455_abide_cc.tiff', 'UM_1_0050323_abide_cc.tiff', 'KKI_0050817_abide_cc.tiff', 'NYU_0050996_abide_cc.tiff', 'SBL_0051578_abide_cc.tiff', 'OHSU_0050159_abide_cc.tiff', 'Leuven_2_0050727_abide_cc.tiff', 'USM_0050447_abide_cc.tiff', 'SDSU_0050186_abide_cc.tiff', 'OHSU_0050157_abide_cc.tiff', 'NYU_0051082_abide_cc.tiff', 'NYU_0051065_abide_cc.tiff', 'KKI_0050789_abide_cc.tiff', 'UM_1_0050349_abide_cc.tiff', 'SBL_0051563_abide_cc.tiff', 'MaxMun_a_0051365_abide_cc.tiff', 'Yale_0050565_abide_cc.tiff', 'UM_1_0050371_abide_cc.tiff', 'Stanford_0051180_abide_cc.tiff', 'KKI_0050783_abide_cc.tiff', 'NYU_0050983_abide_cc.tiff', 'NYU_0051098_abide_cc.tiff', 'UM_1_0050311_abide_cc.tiff', 'USM_0050524_abide_cc.tiff', 'Trinity_0050254_abide_cc.tiff', 'USM_0050485_abide_cc.tiff', 'NYU_0051045_abide_cc.tiff', 'NYU_0051027_abide_cc.tiff', 'Yale_0050558_abide_cc.tiff', 'NYU_0050977_abide_cc.tiff', 'Olin_0050111_abide_cc.tiff', 'UCLA_2_0051313_abide_cc.tiff', 'UCLA_1_0051266_abide_cc.tiff', 'Stanford_0051192_abide_cc.tiff', 'UM_1_0050306_abide_cc.tiff', 'NYU_0051151_abide_cc.tiff', 'Pitt_0050006_abide_cc.tiff', 'NYU_0050970_abide_cc.tiff', 'UCLA_2_0051297_abide_cc.tiff', 'NYU_0051013_abide_cc.tiff', 'USM_0050497_abide_cc.tiff', 'KKI_0050797_abide_cc.tiff', 'NYU_0051064_abide_cc.tiff', 'Leuven_2_0050740_abide_cc.tiff', 'NYU_0051067_abide_cc.tiff', 'Pitt_0050054_abide_cc.tiff', 'UM_1_0050338_abide_cc.tiff', 'Caltech_0051486_abide_cc.tiff', 'UCLA_1_0051201_abide_cc.tiff', 'Yale_0050559_abide_cc.tiff', 'UM_2_0050427_abide_cc.tiff', 'Yale_0050617_abide_cc.tiff', 'UCLA_2_0051316_abide_cc.tiff', 'UCLA_1_0051210_abide_cc.tiff', 'NYU_0050998_abide_cc.tiff', 'Leuven_1_0050703_abide_cc.tiff', 'MaxMun_c_0051334_abide_cc.tiff', 'UM_1_0050361_abide_cc.tiff', 'USM_0050468_abide_cc.tiff', 'Trinity_0051132_abide_cc.tiff', 'MaxMun_c_0051336_abide_cc.tiff', 'USM_0050494_abide_cc.tiff', 'Pitt_0050053_abide_cc.tiff', 'OHSU_0050170_abide_cc.tiff', 'UM_1_0050308_abide_cc.tiff', 'UCLA_2_0051312_abide_cc.tiff', 'SDSU_0050215_abide_cc.tiff', 'NYU_0050972_abide_cc.tiff', 'Trinity_0050252_abide_cc.tiff', 'NYU_0051015_abide_cc.tiff', 'OHSU_0050161_abide_cc.tiff', 'UM_1_0050362_abide_cc.tiff', 'NYU_0051078_abide_cc.tiff', 'UM_1_0050298_abide_cc.tiff', 'UCLA_2_0051303_abide_cc.tiff', 'Caltech_0051482_abide_cc.tiff', 'UM_1_0050318_abide_cc.tiff', 'KKI_0050805_abide_cc.tiff', 'Stanford_0051163_abide_cc.tiff', 'UM_1_0050302_abide_cc.tiff', 'NYU_0051080_abide_cc.tiff', 'SDSU_0050198_abide_cc.tiff', 'USM_0050528_abide_cc.tiff', 'CMU_a_0050659_abide_cc.tiff', 'Leuven_2_0050743_abide_cc.tiff', 'NYU_0051026_abide_cc.tiff', 'KKI_0050819_abide_cc.tiff', 'UCLA_1_0051214_abide_cc.tiff', 'MaxMun_d_0051353_abide_cc.tiff', 'Olin_0050110_abide_cc.tiff', 'Leuven_2_0050744_abide_cc.tiff', 'Olin_0050106_abide_cc.tiff', 'NYU_0051116_abide_cc.tiff', 'MaxMun_a_0051367_abide_cc.tiff', 'UM_1_0050369_abide_cc.tiff', 'Yale_0050560_abide_cc.tiff', 'NYU_0051125_abide_cc.tiff', 'OHSU_0050146_abide_cc.tiff', 'Leuven_1_0050706_abide_cc.tiff', 'NYU_0051122_abide_cc.tiff', 'UM_1_0050350_abide_cc.tiff', 'NYU_0050981_abide_cc.tiff', 'Olin_0050115_abide_cc.tiff', 'UCLA_1_0051249_abide_cc.tiff', 'Yale_0050623_abide_cc.tiff', 'Pitt_0050016_abide_cc.tiff', 'UCLA_1_0051273_abide_cc.tiff', 'NYU_0051100_abide_cc.tiff', 'NYU_0051099_abide_cc.tiff', 'NYU_0051120_abide_cc.tiff', 'Leuven_1_0050685_abide_cc.tiff', 'Caltech_0051472_abide_cc.tiff', 'NYU_0051146_abide_cc.tiff', 'Olin_0050120_abide_cc.tiff', 'CMU_a_0050663_abide_cc.tiff', 'NYU_0051091_abide_cc.tiff', 'CMU_b_0050644_abide_cc.tiff', 'Olin_0050103_abide_cc.tiff', 'UM_2_0050415_abide_cc.tiff', 'NYU_0051118_abide_cc.tiff', 'Olin_0050137_abide_cc.tiff', 'UCLA_1_0051231_abide_cc.tiff', 'UCLA_1_0051220_abide_cc.tiff', 'NYU_0051014_abide_cc.tiff', 'NYU_0051112_abide_cc.tiff', 'KKI_0050820_abide_cc.tiff', 'NYU_0050975_abide_cc.tiff', 'Yale_0050606_abide_cc.tiff', 'UCLA_2_0051291_abide_cc.tiff', 'UM_2_0050419_abide_cc.tiff', 'KKI_0050824_abide_cc.tiff', 'UM_1_0050377_abide_cc.tiff', 'NYU_0051008_abide_cc.tiff', 'MaxMun_a_0051318_abide_cc.tiff', 'NYU_0051016_abide_cc.tiff', 'KKI_0050795_abide_cc.tiff', 'NYU_0051101_abide_cc.tiff', 'SDSU_0050192_abide_cc.tiff', 'Leuven_2_0050734_abide_cc.tiff', 'UM_1_0050334_abide_cc.tiff', 'UM_1_0050381_abide_cc.tiff', 'Stanford_0051164_abide_cc.tiff', 'Pitt_0050056_abide_cc.tiff', 'UM_1_0050328_abide_cc.tiff', 'SDSU_0050188_abide_cc.tiff', 'UCLA_2_0051299_abide_cc.tiff', 'UM_1_0050333_abide_cc.tiff', 'Stanford_0051183_abide_cc.tiff', 'USM_0050521_abide_cc.tiff', 'KKI_0050800_abide_cc.tiff', 'NYU_0051111_abide_cc.tiff', 'MaxMun_a_0051607_abide_cc.tiff', 'UCLA_1_0051222_abide_cc.tiff', 'USM_0050444_abide_cc.tiff', 'USM_0050490_abide_cc.tiff', 'NYU_0051020_abide_cc.tiff', 'USM_0050523_abide_cc.tiff', 'CMU_a_0050647_abide_cc.tiff', 'KKI_0050776_abide_cc.tiff', 'UM_1_0050275_abide_cc.tiff', 'OHSU_0050149_abide_cc.tiff', 'MaxMun_c_0051341_abide_cc.tiff', 'CMU_b_0050657_abide_cc.tiff', 'Yale_0050566_abide_cc.tiff', 'SDSU_0050184_abide_cc.tiff', 'UM_1_0050304_abide_cc.tiff', 'UM_1_0050284_abide_cc.tiff', 'NYU_0051030_abide_cc.tiff', 'Yale_0050625_abide_cc.tiff', 'Olin_0050125_abide_cc.tiff', 'NYU_0051110_abide_cc.tiff', 'KKI_0050787_abide_cc.tiff', 'UCLA_1_0051207_abide_cc.tiff', 'Yale_0050608_abide_cc.tiff', 'Trinity_0050263_abide_cc.tiff', 'UCLA_2_0051309_abide_cc.tiff', 'SBL_0051569_abide_cc.tiff', 'Trinity_0050238_abide_cc.tiff', 'KKI_0050774_abide_cc.tiff', 'Leuven_2_0050756_abide_cc.tiff', 'Yale_0050601_abide_cc.tiff', 'USM_0050508_abide_cc.tiff', 'KKI_0050792_abide_cc.tiff', 'UCLA_1_0051216_abide_cc.tiff', 'Stanford_0051196_abide_cc.tiff', 'UCLA_1_0051202_abide_cc.tiff', 'Stanford_0051197_abide_cc.tiff', 'Leuven_2_0050754_abide_cc.tiff', 'USM_0050439_abide_cc.tiff', 'UCLA_1_0051250_abide_cc.tiff', 'UM_1_0050341_abide_cc.tiff', 'SBL_0051583_abide_cc.tiff', 'Trinity_0051136_abide_cc.tiff', 'NYU_0050961_abide_cc.tiff', 'NYU_0051051_abide_cc.tiff', 'NYU_0051042_abide_cc.tiff', 'CMU_b_0050648_abide_cc.tiff', 'USM_0050495_abide_cc.tiff', 'Trinity_0050240_abide_cc.tiff', 'Trinity_0050243_abide_cc.tiff', 'NYU_0051073_abide_cc.tiff', 'MaxMun_d_0051358_abide_cc.tiff', 'Pitt_0050028_abide_cc.tiff', 'MaxMun_c_0051335_abide_cc.tiff', 'NYU_0051047_abide_cc.tiff', 'NYU_0051094_abide_cc.tiff', 'UM_1_0050326_abide_cc.tiff', 'OHSU_0050164_abide_cc.tiff', 'USM_0050470_abide_cc.tiff', 'UCLA_1_0051253_abide_cc.tiff', 'Leuven_2_0050739_abide_cc.tiff', 'Pitt_0050046_abide_cc.tiff', 'UCLA_1_0051219_abide_cc.tiff', 'UM_2_0050412_abide_cc.tiff', 'MaxMun_d_0051356_abide_cc.tiff', 'Caltech_0051487_abide_cc.tiff', 'UM_2_0050411_abide_cc.tiff', 'CMU_b_0050645_abide_cc.tiff', 'SBL_0051579_abide_cc.tiff', 'UM_1_0050276_abide_cc.tiff', 'KKI_0050796_abide_cc.tiff', 'Olin_0050133_abide_cc.tiff', 'UCLA_2_0051308_abide_cc.tiff', 'Trinity_0050265_abide_cc.tiff', 'CMU_b_0050651_abide_cc.tiff', 'USM_0050434_abide_cc.tiff', 'UCLA_1_0051206_abide_cc.tiff', 'SDSU_0050185_abide_cc.tiff', 'Yale_0050554_abide_cc.tiff', 'NYU_0051038_abide_cc.tiff', 'UM_1_0050319_abide_cc.tiff', 'Caltech_0051465_abide_cc.tiff', 'NYU_0051107_abide_cc.tiff', 'USM_0050443_abide_cc.tiff', 'UCLA_2_0051301_abide_cc.tiff', 'NYU_0051093_abide_cc.tiff', 'Olin_0050108_abide_cc.tiff', 'Pitt_0050051_abide_cc.tiff', 'SBL_0051556_abide_cc.tiff', 'Yale_0050575_abide_cc.tiff', 'Yale_0050624_abide_cc.tiff', 'USM_0050483_abide_cc.tiff', 'UCLA_1_0051229_abide_cc.tiff', 'Trinity_0050247_abide_cc.tiff', 'SBL_0051568_abide_cc.tiff', 'USM_0050461_abide_cc.tiff', 'NYU_0051029_abide_cc.tiff', 'SDSU_0050183_abide_cc.tiff', 'Olin_0050129_abide_cc.tiff', 'NYU_0051147_abide_cc.tiff', 'UM_1_0050307_abide_cc.tiff', 'Stanford_0051182_abide_cc.tiff', 'NYU_0051025_abide_cc.tiff', 'USM_0050463_abide_cc.tiff', 'NYU_0051021_abide_cc.tiff', 'KKI_0050816_abide_cc.tiff', 'NYU_0051046_abide_cc.tiff', 'UCLA_1_0051223_abide_cc.tiff', 'Yale_0050562_abide_cc.tiff', 'UM_1_0050331_abide_cc.tiff', 'Stanford_0051171_abide_cc.tiff', 'CMU_b_0050658_abide_cc.tiff', 'SDSU_0050213_abide_cc.tiff', 'SDSU_0050202_abide_cc.tiff', 'Leuven_2_0050732_abide_cc.tiff', 'Leuven_1_0050699_abide_cc.tiff', 'UM_2_0050424_abide_cc.tiff', 'KKI_0050807_abide_cc.tiff', 'UM_1_0050321_abide_cc.tiff', 'UM_1_0050294_abide_cc.tiff', 'Olin_0050127_abide_cc.tiff', 'Olin_0050119_abide_cc.tiff', 'MaxMun_a_0051370_abide_cc.tiff', 'Trinity_0051139_abide_cc.tiff', 'KKI_0050802_abide_cc.tiff', 'Caltech_0051488_abide_cc.tiff', 'Leuven_2_0050724_abide_cc.tiff', 'MaxMun_c_0051343_abide_cc.tiff', 'UM_2_0050391_abide_cc.tiff', 'Leuven_1_0050710_abide_cc.tiff', 'Stanford_0051186_abide_cc.tiff', 'NYU_0050992_abide_cc.tiff', 'Caltech_0051493_abide_cc.tiff', 'UM_1_0050353_abide_cc.tiff', 'Trinity_0050253_abide_cc.tiff', 'USM_0050529_abide_cc.tiff', 'SBL_0051567_abide_cc.tiff', 'UM_1_0050320_abide_cc.tiff', 'Stanford_0051169_abide_cc.tiff', 'OHSU_0050143_abide_cc.tiff', 'NYU_0051083_abide_cc.tiff', 'USM_0050493_abide_cc.tiff', 'Yale_0050572_abide_cc.tiff', 'UM_1_0050368_abide_cc.tiff', 'USM_0050518_abide_cc.tiff', 'UM_2_0050413_abide_cc.tiff', 'MaxMun_c_0051348_abide_cc.tiff', 'NYU_0051056_abide_cc.tiff', 'SBL_0051576_abide_cc.tiff', 'Pitt_0050013_abide_cc.tiff', 'MaxMun_a_0051373_abide_cc.tiff', 'UM_1_0050299_abide_cc.tiff', 'UM_1_0050313_abide_cc.tiff', 'USM_0050448_abide_cc.tiff', 'MaxMun_b_0051327_abide_cc.tiff', 'Caltech_0051460_abide_cc.tiff', 'UM_1_0050293_abide_cc.tiff', 'NYU_0051033_abide_cc.tiff', 'NYU_0050962_abide_cc.tiff', 'NYU_0051097_abide_cc.tiff', 'UCLA_1_0051272_abide_cc.tiff', 'USM_0050474_abide_cc.tiff', 'Pitt_0050035_abide_cc.tiff', 'UCLA_1_0051234_abide_cc.tiff', 'USM_0050462_abide_cc.tiff', 'MaxMun_c_0051333_abide_cc.tiff', 'MaxMun_a_0051364_abide_cc.tiff', 'NYU_0051090_abide_cc.tiff', 'UM_1_0050360_abide_cc.tiff', 'Trinity_0050269_abide_cc.tiff', 'NYU_0050995_abide_cc.tiff', 'UM_1_0050309_abide_cc.tiff', 'CMU_a_0050642_abide_cc.tiff', 'KKI_0050804_abide_cc.tiff', 'Caltech_0051468_abide_cc.tiff', 'USM_0050527_abide_cc.tiff', 'USM_0050511_abide_cc.tiff', 'USM_0050492_abide_cc.tiff', 'Stanford_0051187_abide_cc.tiff', 'Pitt_0050052_abide_cc.tiff', 'Leuven_2_0050755_abide_cc.tiff', 'Leuven_1_0050711_abide_cc.tiff', 'Leuven_2_0050735_abide_cc.tiff', 'Leuven_1_0050695_abide_cc.tiff', 'SDSU_0050217_abide_cc.tiff', 'Yale_0050576_abide_cc.tiff', 'USM_0050496_abide_cc.tiff', 'UCLA_1_0051235_abide_cc.tiff', 'MaxMun_d_0051329_abide_cc.tiff', 'UM_1_0050279_abide_cc.tiff', 'NYU_0051130_abide_cc.tiff', 'NYU_0051000_abide_cc.tiff', 'USM_0050446_abide_cc.tiff', 'Yale_0050613_abide_cc.tiff', 'UCLA_1_0051280_abide_cc.tiff', 'NYU_0051052_abide_cc.tiff', 'USM_0050519_abide_cc.tiff', 'KKI_0050809_abide_cc.tiff', 'Stanford_0051188_abide_cc.tiff', 'NYU_0051102_abide_cc.tiff', 'MaxMun_c_0051345_abide_cc.tiff', 'OHSU_0050147_abide_cc.tiff', 'USM_0050458_abide_cc.tiff', 'Olin_0050122_abide_cc.tiff', 'Trinity_0050245_abide_cc.tiff', 'UCLA_1_0051230_abide_cc.tiff', 'KKI_0050794_abide_cc.tiff', 'USM_0050479_abide_cc.tiff', 'KKI_0050810_abide_cc.tiff', 'UCLA_1_0051239_abide_cc.tiff', 'MaxMun_a_0051371_abide_cc.tiff', 'NYU_0051053_abide_cc.tiff']\n",
            "Contents of organized_abide/brain_images: ['Stanford_0051166_abide_msp.tiff', 'SDSU_0050189_abide_msp.tiff', 'UM_2_0050422_abide_msp.tiff', 'NYU_0051013_abide_msp.tiff', 'USM_0050483_abide_msp.tiff', 'USM_0050482_abide_msp.tiff', 'SBL_0051577_abide_msp.tiff', 'NYU_0051120_abide_msp.tiff', 'SDSU_0050201_abide_msp.tiff', 'NYU_0051076_abide_msp.tiff', 'UM_1_0050309_abide_msp.tiff', 'MaxMun_d_0051358_abide_msp.tiff', 'NYU_0051124_abide_msp.tiff', 'SBL_0051562_abide_msp.tiff', 'Pitt_0050040_abide_msp.tiff', 'NYU_0051067_abide_msp.tiff', 'UM_1_0050314_abide_msp.tiff', 'Trinity_0050237_abide_msp.tiff', 'SDSU_0050188_abide_msp.tiff', 'KKI_0050779_abide_msp.tiff', 'OHSU_0050149_abide_msp.tiff', 'UCLA_1_0051262_abide_msp.tiff', 'MaxMun_c_0051342_abide_msp.tiff', 'NYU_0050974_abide_msp.tiff', 'MaxMun_c_0051328_abide_msp.tiff', 'USM_0050435_abide_msp.tiff', 'KKI_0050775_abide_msp.tiff', 'Pitt_0050037_abide_msp.tiff', 'Caltech_0051467_abide_msp.tiff', 'USM_0050470_abide_msp.tiff', 'UM_1_0050306_abide_msp.tiff', 'KKI_0050805_abide_msp.tiff', 'Trinity_0050254_abide_msp.tiff', 'NYU_0051054_abide_msp.tiff', 'UM_1_0050355_abide_msp.tiff', 'UM_1_0050304_abide_msp.tiff', 'USM_0050454_abide_msp.tiff', 'KKI_0050825_abide_msp.tiff', 'SBL_0051558_abide_msp.tiff', 'USM_0050514_abide_msp.tiff', 'Yale_0050604_abide_msp.tiff', 'NYU_0051113_abide_msp.tiff', 'Pitt_0050019_abide_msp.tiff', 'Caltech_0051460_abide_msp.tiff', 'Yale_0050578_abide_msp.tiff', 'UCLA_1_0051265_abide_msp.tiff', 'USM_0050492_abide_msp.tiff', 'NYU_0051088_abide_msp.tiff', 'CMU_a_0050663_abide_msp.tiff', 'UM_1_0050273_abide_msp.tiff', 'UM_1_0050281_abide_msp.tiff', 'UM_1_0050290_abide_msp.tiff', 'UM_2_0050408_abide_msp.tiff', 'SDSU_0050196_abide_msp.tiff', 'USM_0050520_abide_msp.tiff', 'UCLA_1_0051267_abide_msp.tiff', 'CMU_b_0050652_abide_msp.tiff', 'UM_1_0050379_abide_msp.tiff', 'UCLA_1_0051208_abide_msp.tiff', 'NYU_0051129_abide_msp.tiff', 'UM_1_0050317_abide_msp.tiff', 'UM_1_0050327_abide_msp.tiff', 'Stanford_0051181_abide_msp.tiff', 'USM_0050445_abide_msp.tiff', 'UM_1_0050381_abide_msp.tiff', 'Pitt_0050038_abide_msp.tiff', 'SDSU_0050184_abide_msp.tiff', 'NYU_0051052_abide_msp.tiff', 'Stanford_0051193_abide_msp.tiff', 'USM_0050473_abide_msp.tiff', 'Pitt_0050020_abide_msp.tiff', 'MaxMun_d_0051353_abide_msp.tiff', 'KKI_0050812_abide_msp.tiff', 'UM_2_0050407_abide_msp.tiff', 'CMU_a_0050649_abide_msp.tiff', 'UCLA_1_0051209_abide_msp.tiff', 'USM_0050448_abide_msp.tiff', 'Pitt_0050048_abide_msp.tiff', 'NYU_0050958_abide_msp.tiff', 'NYU_0050988_abide_msp.tiff', 'SBL_0051578_abide_msp.tiff', 'UM_2_0050404_abide_msp.tiff', 'Trinity_0050239_abide_msp.tiff', 'UCLA_1_0051275_abide_msp.tiff', 'MaxMun_c_0051340_abide_msp.tiff', 'NYU_0051100_abide_msp.tiff', 'NYU_0051024_abide_msp.tiff', 'Leuven_2_0050748_abide_msp.tiff', 'OHSU_0050155_abide_msp.tiff', 'USM_0050505_abide_msp.tiff', 'SDSU_0050205_abide_msp.tiff', 'UCLA_1_0051235_abide_msp.tiff', 'Caltech_0051462_abide_msp.tiff', 'Pitt_0050033_abide_msp.tiff', 'Leuven_1_0050682_abide_msp.tiff', 'Pitt_0050027_abide_msp.tiff', 'Caltech_0051470_abide_msp.tiff', 'UM_2_0050390_abide_msp.tiff', 'NYU_0051007_abide_msp.tiff', 'NYU_0051128_abide_msp.tiff', 'NYU_0051053_abide_msp.tiff', 'UCLA_1_0051254_abide_msp.tiff', 'MaxMun_c_0051338_abide_msp.tiff', 'Leuven_1_0050691_abide_msp.tiff', 'UCLA_1_0051255_abide_msp.tiff', 'NYU_0051011_abide_msp.tiff', 'Yale_0050607_abide_msp.tiff', 'Yale_0050563_abide_msp.tiff', 'SDSU_0050185_abide_msp.tiff', 'Pitt_0050042_abide_msp.tiff', 'NYU_0051020_abide_msp.tiff', 'OHSU_0050161_abide_msp.tiff', 'Yale_0050555_abide_msp.tiff', 'NYU_0051063_abide_msp.tiff', 'USM_0050528_abide_msp.tiff', 'Olin_0050126_abide_msp.tiff', 'SBL_0051564_abide_msp.tiff', 'USM_0050463_abide_msp.tiff', 'USM_0050434_abide_msp.tiff', 'SDSU_0050197_abide_msp.tiff', 'USM_0050502_abide_msp.tiff', 'SBL_0051583_abide_msp.tiff', 'Pitt_0050056_abide_msp.tiff', 'USM_0050512_abide_msp.tiff', 'UM_1_0050303_abide_msp.tiff', 'MaxMun_d_0051354_abide_msp.tiff', 'UCLA_1_0051281_abide_msp.tiff', 'Stanford_0051180_abide_msp.tiff', 'SBL_0051573_abide_msp.tiff', 'NYU_0051110_abide_msp.tiff', 'Trinity_0050253_abide_msp.tiff', 'USM_0050452_abide_msp.tiff', 'KKI_0050794_abide_msp.tiff', 'NYU_0050965_abide_msp.tiff', 'Leuven_2_0050735_abide_msp.tiff', 'SDSU_0050212_abide_msp.tiff', 'USM_0050451_abide_msp.tiff', 'MaxMun_a_0051321_abide_msp.tiff', 'NYU_0051075_abide_msp.tiff', 'OHSU_0050162_abide_msp.tiff', 'Trinity_0050259_abide_msp.tiff', 'UM_1_0050318_abide_msp.tiff', 'SBL_0051563_abide_msp.tiff', 'Caltech_0051466_abide_msp.tiff', 'CMU_a_0050659_abide_msp.tiff', 'Leuven_2_0050741_abide_msp.tiff', 'NYU_0051093_abide_msp.tiff', 'UM_1_0050289_abide_msp.tiff', 'UCLA_2_0051305_abide_msp.tiff', 'MaxMun_d_0051356_abide_msp.tiff', 'UCLA_2_0051306_abide_msp.tiff', 'Pitt_0050005_abide_msp.tiff', 'Stanford_0051189_abide_msp.tiff', 'USM_0050455_abide_msp.tiff', 'Leuven_2_0050747_abide_msp.tiff', 'UM_2_0050385_abide_msp.tiff', 'Leuven_1_0050690_abide_msp.tiff', 'UCLA_2_0051300_abide_msp.tiff', 'NYU_0050981_abide_msp.tiff', 'USM_0050500_abide_msp.tiff', 'OHSU_0050150_abide_msp.tiff', 'SBL_0051582_abide_msp.tiff', 'NYU_0050982_abide_msp.tiff', 'Pitt_0050054_abide_msp.tiff', 'Yale_0050623_abide_msp.tiff', 'Caltech_0051471_abide_msp.tiff', 'USM_0050515_abide_msp.tiff', 'Yale_0050571_abide_msp.tiff', 'UCLA_2_0051295_abide_msp.tiff', 'UM_2_0050421_abide_msp.tiff', 'Caltech_0051468_abide_msp.tiff', 'NYU_0051156_abide_msp.tiff', 'KKI_0050774_abide_msp.tiff', 'NYU_0051064_abide_msp.tiff', 'SBL_0051584_abide_msp.tiff', 'Olin_0050103_abide_msp.tiff', 'NYU_0051087_abide_msp.tiff', 'NYU_0051056_abide_msp.tiff', 'Trinity_0050252_abide_msp.tiff', 'Stanford_0051163_abide_msp.tiff', 'UCLA_1_0051250_abide_msp.tiff', 'Leuven_1_0050700_abide_msp.tiff', 'KKI_0050826_abide_msp.tiff', 'USM_0050506_abide_msp.tiff', 'UM_1_0050359_abide_msp.tiff', 'USM_0050472_abide_msp.tiff', 'USM_0050526_abide_msp.tiff', 'UM_1_0050371_abide_msp.tiff', 'NYU_0051115_abide_msp.tiff', 'NYU_0051045_abide_msp.tiff', 'KKI_0050807_abide_msp.tiff', 'USM_0050488_abide_msp.tiff', 'UCLA_1_0051234_abide_msp.tiff', 'UM_2_0050425_abide_msp.tiff', 'KKI_0050772_abide_msp.tiff', 'UM_1_0050325_abide_msp.tiff', 'UM_1_0050291_abide_msp.tiff', 'Trinity_0050270_abide_msp.tiff', 'Yale_0050619_abide_msp.tiff', 'Leuven_2_0050731_abide_msp.tiff', 'UM_2_0050403_abide_msp.tiff', 'KKI_0050804_abide_msp.tiff', 'MaxMun_d_0051349_abide_msp.tiff', 'USM_0050507_abide_msp.tiff', 'MaxMun_d_0051360_abide_msp.tiff', 'NYU_0051079_abide_msp.tiff', 'MaxMun_a_0051367_abide_msp.tiff', 'UM_1_0050283_abide_msp.tiff', 'NYU_0051003_abide_msp.tiff', 'NYU_0051080_abide_msp.tiff', 'UM_1_0050316_abide_msp.tiff', 'KKI_0050815_abide_msp.tiff', 'Leuven_2_0050739_abide_msp.tiff', 'NYU_0051042_abide_msp.tiff', 'NYU_0051014_abide_msp.tiff', 'UM_2_0050426_abide_msp.tiff', 'Caltech_0051482_abide_msp.tiff', 'Pitt_0050034_abide_msp.tiff', 'MaxMun_c_0051347_abide_msp.tiff', 'Caltech_0051483_abide_msp.tiff', 'KKI_0050803_abide_msp.tiff', 'Yale_0050561_abide_msp.tiff', 'Trinity_0050255_abide_msp.tiff', 'UM_1_0050341_abide_msp.tiff', 'UM_1_0050353_abide_msp.tiff', 'NYU_0051033_abide_msp.tiff', 'Caltech_0051475_abide_msp.tiff', 'Trinity_0050241_abide_msp.tiff', 'UM_1_0050360_abide_msp.tiff', 'NYU_0051090_abide_msp.tiff', 'UCLA_1_0051273_abide_msp.tiff', 'NYU_0050999_abide_msp.tiff', 'Leuven_2_0050732_abide_msp.tiff', 'USM_0050474_abide_msp.tiff', 'Yale_0050577_abide_msp.tiff', 'UM_1_0050299_abide_msp.tiff', 'KKI_0050793_abide_msp.tiff', 'USM_0050449_abide_msp.tiff', 'Trinity_0051141_abide_msp.tiff', 'NYU_0051027_abide_msp.tiff', 'NYU_0051147_abide_msp.tiff', 'UCLA_1_0051249_abide_msp.tiff', 'Trinity_0051134_abide_msp.tiff', 'UM_1_0050313_abide_msp.tiff', 'UM_1_0050288_abide_msp.tiff', 'Trinity_0051137_abide_msp.tiff', 'USM_0050508_abide_msp.tiff', 'MaxMun_a_0051369_abide_msp.tiff', 'Olin_0050111_abide_msp.tiff', 'KKI_0050822_abide_msp.tiff', 'Leuven_2_0050733_abide_msp.tiff', 'Leuven_1_0050696_abide_msp.tiff', 'UM_1_0050282_abide_msp.tiff', 'NYU_0050964_abide_msp.tiff', 'USM_0050447_abide_msp.tiff', 'Stanford_0051182_abide_msp.tiff', 'UCLA_2_0051314_abide_msp.tiff', 'Stanford_0051184_abide_msp.tiff', 'NYU_0050979_abide_msp.tiff', 'Leuven_1_0050683_abide_msp.tiff', 'NYU_0050961_abide_msp.tiff', 'UM_1_0050370_abide_msp.tiff', 'Stanford_0051160_abide_msp.tiff', 'UM_1_0050351_abide_msp.tiff', 'UM_1_0050296_abide_msp.tiff', 'Pitt_0050009_abide_msp.tiff', 'MaxMun_c_0051341_abide_msp.tiff', 'Yale_0050628_abide_msp.tiff', 'OHSU_0050169_abide_msp.tiff', 'Pitt_0050008_abide_msp.tiff', 'USM_0050471_abide_msp.tiff', 'UCLA_1_0051206_abide_msp.tiff', 'NYU_0051146_abide_msp.tiff', 'Pitt_0050049_abide_msp.tiff', 'MaxMun_c_0051334_abide_msp.tiff', 'CMU_a_0050654_abide_msp.tiff', 'Pitt_0050043_abide_msp.tiff', 'Yale_0050557_abide_msp.tiff', 'UCLA_1_0051271_abide_msp.tiff', 'UM_2_0050397_abide_msp.tiff', 'KKI_0050773_abide_msp.tiff', 'SDSU_0050215_abide_msp.tiff', 'Stanford_0051165_abide_msp.tiff', 'UCLA_2_0051315_abide_msp.tiff', 'KKI_0050818_abide_msp.tiff', 'NYU_0051102_abide_msp.tiff', 'NYU_0051091_abide_msp.tiff', 'UM_1_0050293_abide_msp.tiff', 'KKI_0050789_abide_msp.tiff', 'Caltech_0051469_abide_msp.tiff', 'Olin_0050123_abide_msp.tiff', 'NYU_0051000_abide_msp.tiff', 'Trinity_0051136_abide_msp.tiff', 'USM_0050479_abide_msp.tiff', 'Trinity_0050236_abide_msp.tiff', 'Leuven_2_0050738_abide_msp.tiff', 'Olin_0050131_abide_msp.tiff', 'UM_2_0050391_abide_msp.tiff', 'OHSU_0050171_abide_msp.tiff', 'UCLA_1_0051264_abide_msp.tiff', 'Trinity_0050238_abide_msp.tiff', 'Stanford_0051169_abide_msp.tiff', 'Yale_0050610_abide_msp.tiff', 'Trinity_0051140_abide_msp.tiff', 'Caltech_0051456_abide_msp.tiff', 'MaxMun_c_0051343_abide_msp.tiff', 'Trinity_0051142_abide_msp.tiff', 'UCLA_2_0051302_abide_msp.tiff', 'USM_0050444_abide_msp.tiff', 'UCLA_1_0051261_abide_msp.tiff', 'UM_1_0050365_abide_msp.tiff', 'NYU_0051153_abide_msp.tiff', 'NYU_0050959_abide_msp.tiff', 'UM_1_0050374_abide_msp.tiff', 'KKI_0050819_abide_msp.tiff', 'OHSU_0050148_abide_msp.tiff', 'UCLA_2_0051309_abide_msp.tiff', 'UCLA_1_0051256_abide_msp.tiff', 'USM_0050462_abide_msp.tiff', 'Trinity_0051132_abide_msp.tiff', 'CMU_a_0050653_abide_msp.tiff', 'USM_0050481_abide_msp.tiff', 'UCLA_1_0051236_abide_msp.tiff', 'UCLA_1_0051226_abide_msp.tiff', 'Pitt_0050015_abide_msp.tiff', 'SDSU_0050217_abide_msp.tiff', 'Pitt_0050046_abide_msp.tiff', 'USM_0050530_abide_msp.tiff', 'UM_1_0050329_abide_msp.tiff', 'Caltech_0051465_abide_msp.tiff', 'UCLA_1_0051259_abide_msp.tiff', 'Olin_0050121_abide_msp.tiff', 'OHSU_0050156_abide_msp.tiff', 'Leuven_1_0050706_abide_msp.tiff', 'UCLA_2_0051292_abide_msp.tiff', 'UM_1_0050336_abide_msp.tiff', 'NYU_0051019_abide_msp.tiff', 'Olin_0050128_abide_msp.tiff', 'UM_2_0050416_abide_msp.tiff', 'NYU_0051121_abide_msp.tiff', 'NYU_0050960_abide_msp.tiff', 'Leuven_2_0050723_abide_msp.tiff', 'Caltech_0051478_abide_msp.tiff', 'NYU_0051126_abide_msp.tiff', 'NYU_0051101_abide_msp.tiff', 'Trinity_0050235_abide_msp.tiff', 'UM_1_0050284_abide_msp.tiff', 'Yale_0050576_abide_msp.tiff', 'USM_0050503_abide_msp.tiff', 'KKI_0050787_abide_msp.tiff', 'MaxMun_a_0051606_abide_msp.tiff', 'Yale_0050564_abide_msp.tiff', 'Yale_0050560_abide_msp.tiff', 'UM_1_0050280_abide_msp.tiff', 'UM_2_0050410_abide_msp.tiff', 'SDSU_0050183_abide_msp.tiff', 'UM_2_0050419_abide_msp.tiff', 'OHSU_0050164_abide_msp.tiff', 'Yale_0050569_abide_msp.tiff', 'Stanford_0051164_abide_msp.tiff', 'CMU_a_0050664_abide_msp.tiff', 'USM_0050510_abide_msp.tiff', 'USM_0050521_abide_msp.tiff', 'NYU_0051154_abide_msp.tiff', 'USM_0050441_abide_msp.tiff', 'USM_0050511_abide_msp.tiff', 'NYU_0051071_abide_msp.tiff', 'UM_2_0050418_abide_msp.tiff', 'NYU_0051111_abide_msp.tiff', 'UM_1_0050378_abide_msp.tiff', 'Leuven_1_0050711_abide_msp.tiff', 'UM_1_0050305_abide_msp.tiff', 'Trinity_0050268_abide_msp.tiff', 'CMU_a_0050668_abide_msp.tiff', 'Yale_0050627_abide_msp.tiff', 'Caltech_0051492_abide_msp.tiff', 'MaxMun_d_0051331_abide_msp.tiff', 'Yale_0050559_abide_msp.tiff', 'NYU_0051094_abide_msp.tiff', 'KKI_0050777_abide_msp.tiff', 'NYU_0051017_abide_msp.tiff', 'Olin_0050130_abide_msp.tiff', 'UCLA_1_0051222_abide_msp.tiff', 'USM_0050468_abide_msp.tiff', 'UM_1_0050346_abide_msp.tiff', 'Trinity_0050269_abide_msp.tiff', 'UM_1_0050373_abide_msp.tiff', 'USM_0050457_abide_msp.tiff', 'UCLA_1_0051216_abide_msp.tiff', 'KKI_0050791_abide_msp.tiff', 'Olin_0050134_abide_msp.tiff', 'NYU_0050978_abide_msp.tiff', 'Olin_0050112_abide_msp.tiff', 'UM_1_0050333_abide_msp.tiff', 'Leuven_2_0050754_abide_msp.tiff', 'NYU_0051105_abide_msp.tiff', 'Leuven_1_0050710_abide_msp.tiff', 'Yale_0050613_abide_msp.tiff', 'KKI_0050809_abide_msp.tiff', 'Caltech_0051484_abide_msp.tiff', 'KKI_0050790_abide_msp.tiff', 'Stanford_0051170_abide_msp.tiff', 'Caltech_0051493_abide_msp.tiff', 'NYU_0051008_abide_msp.tiff', 'Yale_0050609_abide_msp.tiff', 'NYU_0051012_abide_msp.tiff', 'USM_0050522_abide_msp.tiff', 'UM_1_0050332_abide_msp.tiff', 'USM_0050487_abide_msp.tiff', 'USM_0050495_abide_msp.tiff', 'Trinity_0050267_abide_msp.tiff', 'USM_0050480_abide_msp.tiff', 'UM_1_0050362_abide_msp.tiff', 'KKI_0050784_abide_msp.tiff', 'USM_0050489_abide_msp.tiff', 'USM_0050485_abide_msp.tiff', 'NYU_0051028_abide_msp.tiff', 'UCLA_1_0051225_abide_msp.tiff', 'Stanford_0051171_abide_msp.tiff', 'Trinity_0051133_abide_msp.tiff', 'MaxMun_a_0051320_abide_msp.tiff', 'NYU_0051130_abide_msp.tiff', 'NYU_0050989_abide_msp.tiff', 'UM_2_0050423_abide_msp.tiff', 'NYU_0050987_abide_msp.tiff', 'UM_1_0050376_abide_msp.tiff', 'Yale_0050614_abide_msp.tiff', 'NYU_0051114_abide_msp.tiff', 'Yale_0050575_abide_msp.tiff', 'Yale_0050624_abide_msp.tiff', 'UM_1_0050331_abide_msp.tiff', 'UM_1_0050297_abide_msp.tiff', 'Leuven_2_0050744_abide_msp.tiff', 'UCLA_1_0051237_abide_msp.tiff', 'SDSU_0050209_abide_msp.tiff', 'NYU_0051058_abide_msp.tiff', 'MaxMun_b_0051326_abide_msp.tiff', 'Leuven_1_0050709_abide_msp.tiff', 'UM_2_0050411_abide_msp.tiff', 'UM_1_0050339_abide_msp.tiff', 'MaxMun_b_0051322_abide_msp.tiff', 'CMU_a_0050665_abide_msp.tiff', 'Pitt_0050060_abide_msp.tiff', 'Caltech_0051473_abide_msp.tiff', 'UCLA_1_0051239_abide_msp.tiff', 'SBL_0051580_abide_msp.tiff', 'USM_0050465_abide_msp.tiff', 'SDSU_0050187_abide_msp.tiff', 'Caltech_0051458_abide_msp.tiff', 'KKI_0050782_abide_msp.tiff', 'CMU_b_0050651_abide_msp.tiff', 'MaxMun_c_0051332_abide_msp.tiff', 'NYU_0051104_abide_msp.tiff', 'SDSU_0050206_abide_msp.tiff', 'NYU_0051077_abide_msp.tiff', 'NYU_0050970_abide_msp.tiff', 'USM_0050531_abide_msp.tiff', 'Pitt_0050025_abide_msp.tiff', 'NYU_0051002_abide_msp.tiff', 'NYU_0051081_abide_msp.tiff', 'KKI_0050780_abide_msp.tiff', 'UM_1_0050357_abide_msp.tiff', 'Pitt_0050028_abide_msp.tiff', 'UCLA_1_0051260_abide_msp.tiff', 'Pitt_0050007_abide_msp.tiff', 'UCLA_2_0051301_abide_msp.tiff', 'UM_1_0050343_abide_msp.tiff', 'Leuven_1_0050708_abide_msp.tiff', 'UM_2_0050413_abide_msp.tiff', 'UCLA_1_0051221_abide_msp.tiff', 'MaxMun_d_0051357_abide_msp.tiff', 'UCLA_1_0051272_abide_msp.tiff', 'USM_0050501_abide_msp.tiff', 'Stanford_0051172_abide_msp.tiff', 'UM_1_0050330_abide_msp.tiff', 'Leuven_2_0050755_abide_msp.tiff', 'MaxMun_c_0051335_abide_msp.tiff', 'CMU_b_0050667_abide_msp.tiff', 'MaxMun_c_0051345_abide_msp.tiff', 'NYU_0051060_abide_msp.tiff', 'MaxMun_d_0051359_abide_msp.tiff', 'SBL_0051575_abide_msp.tiff', 'USM_0050519_abide_msp.tiff', 'Pitt_0050026_abide_msp.tiff', 'NYU_0051155_abide_msp.tiff', 'SBL_0051574_abide_msp.tiff', 'UCLA_2_0051293_abide_msp.tiff', 'USM_0050442_abide_msp.tiff', 'OHSU_0050144_abide_msp.tiff', 'USM_0050484_abide_msp.tiff', 'UM_1_0050368_abide_msp.tiff', 'UCLA_2_0051294_abide_msp.tiff', 'UM_1_0050319_abide_msp.tiff', 'Leuven_1_0050705_abide_msp.tiff', 'USM_0050475_abide_msp.tiff', 'UM_1_0050295_abide_msp.tiff', 'MaxMun_c_0051344_abide_msp.tiff', 'Yale_0050605_abide_msp.tiff', 'MaxMun_c_0051346_abide_msp.tiff', 'MaxMun_a_0051365_abide_msp.tiff', 'UCLA_1_0051257_abide_msp.tiff', 'NYU_0051038_abide_msp.tiff', 'Pitt_0050004_abide_msp.tiff', 'NYU_0050956_abide_msp.tiff', 'UCLA_1_0051240_abide_msp.tiff', 'KKI_0050776_abide_msp.tiff', 'Yale_0050612_abide_msp.tiff', 'KKI_0050821_abide_msp.tiff', 'NYU_0050953_abide_msp.tiff', 'Caltech_0051487_abide_msp.tiff', 'Yale_0050558_abide_msp.tiff', 'UCLA_2_0051291_abide_msp.tiff', 'Olin_0050132_abide_msp.tiff', 'SDSU_0050193_abide_msp.tiff', 'Leuven_1_0050692_abide_msp.tiff', 'Pitt_0050052_abide_msp.tiff', 'USM_0050477_abide_msp.tiff', 'Caltech_0051490_abide_msp.tiff', 'USM_0050486_abide_msp.tiff', 'Leuven_2_0050757_abide_msp.tiff', 'UCLA_1_0051213_abide_msp.tiff', 'USM_0050456_abide_msp.tiff', 'Leuven_1_0050695_abide_msp.tiff', 'UM_2_0050428_abide_msp.tiff', 'KKI_0050820_abide_msp.tiff', 'Leuven_2_0050752_abide_msp.tiff', 'NYU_0050991_abide_msp.tiff', 'SDSU_0050203_abide_msp.tiff', 'Pitt_0050013_abide_msp.tiff', 'UM_1_0050354_abide_msp.tiff', 'UM_1_0050338_abide_msp.tiff', 'USM_0050517_abide_msp.tiff', 'Pitt_0050032_abide_msp.tiff', 'NYU_0050969_abide_msp.tiff', 'Leuven_2_0050746_abide_msp.tiff', 'NYU_0051122_abide_msp.tiff', 'USM_0050458_abide_msp.tiff', 'NYU_0051074_abide_msp.tiff', 'CMU_b_0050643_abide_msp.tiff', 'Leuven_2_0050734_abide_msp.tiff', 'Yale_0050568_abide_msp.tiff', 'CMU_b_0050657_abide_msp.tiff', 'SDSU_0050208_abide_msp.tiff', 'NYU_0051082_abide_msp.tiff', 'NYU_0051069_abide_msp.tiff', 'UM_1_0050320_abide_msp.tiff', 'USM_0050436_abide_msp.tiff', 'Stanford_0051161_abide_msp.tiff', 'USM_0050440_abide_msp.tiff', 'SDSU_0050202_abide_msp.tiff', 'UM_1_0050326_abide_msp.tiff', 'OHSU_0050152_abide_msp.tiff', 'Leuven_2_0050722_abide_msp.tiff', 'NYU_0051025_abide_msp.tiff', 'USM_0050498_abide_msp.tiff', 'Caltech_0051457_abide_msp.tiff', 'USM_0050491_abide_msp.tiff', 'UM_1_0050348_abide_msp.tiff', 'NYU_0051048_abide_msp.tiff', 'NYU_0050984_abide_msp.tiff', 'SDSU_0050194_abide_msp.tiff', 'KKI_0050817_abide_msp.tiff', 'Olin_0050107_abide_msp.tiff', 'USM_0050469_abide_msp.tiff', 'Leuven_1_0050704_abide_msp.tiff', 'Olin_0050114_abide_msp.tiff', 'KKI_0050781_abide_msp.tiff', 'UCLA_1_0051238_abide_msp.tiff', 'SBL_0051566_abide_msp.tiff', 'MaxMun_b_0051323_abide_msp.tiff', 'NYU_0051044_abide_msp.tiff', 'UM_1_0050278_abide_msp.tiff', 'Leuven_2_0050751_abide_msp.tiff', 'UCLA_2_0051311_abide_msp.tiff', 'NYU_0051047_abide_msp.tiff', 'NYU_0051116_abide_msp.tiff', 'KKI_0050795_abide_msp.tiff', 'NYU_0051089_abide_msp.tiff', 'USM_0050450_abide_msp.tiff', 'SDSU_0050186_abide_msp.tiff', 'Yale_0050626_abide_msp.tiff', 'Pitt_0050031_abide_msp.tiff', 'Caltech_0051485_abide_msp.tiff', 'CMU_a_0050656_abide_msp.tiff', 'MaxMun_a_0051318_abide_msp.tiff', 'Olin_0050129_abide_msp.tiff', 'UM_1_0050322_abide_msp.tiff', 'Stanford_0051197_abide_msp.tiff', 'NYU_0051152_abide_msp.tiff', 'Trinity_0050265_abide_msp.tiff', 'UCLA_1_0051220_abide_msp.tiff', 'Yale_0050617_abide_msp.tiff', 'SBL_0051579_abide_msp.tiff', 'NYU_0051150_abide_msp.tiff', 'UM_1_0050340_abide_msp.tiff', 'UCLA_1_0051269_abide_msp.tiff', 'SDSU_0050191_abide_msp.tiff', 'Stanford_0051176_abide_msp.tiff', 'NYU_0050954_abide_msp.tiff', 'Stanford_0051194_abide_msp.tiff', 'UM_1_0050342_abide_msp.tiff', 'UM_2_0050387_abide_msp.tiff', 'Leuven_2_0050730_abide_msp.tiff', 'Leuven_1_0050693_abide_msp.tiff', 'Stanford_0051186_abide_msp.tiff', 'Yale_0050601_abide_msp.tiff', 'USM_0050443_abide_msp.tiff', 'Trinity_0050247_abide_msp.tiff', 'UCLA_2_0051316_abide_msp.tiff', 'NYU_0051151_abide_msp.tiff', 'UM_1_0050298_abide_msp.tiff', 'SDSU_0050199_abide_msp.tiff', 'UCLA_2_0051307_abide_msp.tiff', 'NYU_0050971_abide_msp.tiff', 'NYU_0050957_abide_msp.tiff', 'Pitt_0050029_abide_msp.tiff', 'UCLA_1_0051210_abide_msp.tiff', 'MaxMun_d_0051351_abide_msp.tiff', 'UCLA_2_0051313_abide_msp.tiff', 'CMU_a_0050647_abide_msp.tiff', 'UM_2_0050414_abide_msp.tiff', 'KKI_0050824_abide_msp.tiff', 'CMU_a_0050666_abide_msp.tiff', 'UM_1_0050363_abide_msp.tiff', 'Leuven_2_0050753_abide_msp.tiff', 'NYU_0051117_abide_msp.tiff', 'USM_0050525_abide_msp.tiff', 'UM_1_0050349_abide_msp.tiff', 'OHSU_0050147_abide_msp.tiff', 'UM_1_0050274_abide_msp.tiff', 'USM_0050523_abide_msp.tiff', 'NYU_0050985_abide_msp.tiff', 'NYU_0051109_abide_msp.tiff', 'NYU_0051055_abide_msp.tiff', 'Leuven_1_0050699_abide_msp.tiff', 'Trinity_0050245_abide_msp.tiff', 'UM_1_0050380_abide_msp.tiff', 'Yale_0050574_abide_msp.tiff', 'Pitt_0050011_abide_msp.tiff', 'KKI_0050814_abide_msp.tiff', 'Olin_0050127_abide_msp.tiff', 'NYU_0051023_abide_msp.tiff', 'UM_2_0050417_abide_msp.tiff', 'USM_0050439_abide_msp.tiff', 'UCLA_1_0051253_abide_msp.tiff', 'SBL_0051565_abide_msp.tiff', 'Leuven_1_0050685_abide_msp.tiff', 'KKI_0050778_abide_msp.tiff', 'Pitt_0050024_abide_msp.tiff', 'NYU_0050962_abide_msp.tiff', 'Stanford_0051199_abide_msp.tiff', 'NYU_0050975_abide_msp.tiff', 'UM_1_0050301_abide_msp.tiff', 'CMU_a_0050660_abide_msp.tiff', 'MaxMun_a_0051607_abide_msp.tiff', 'NYU_0051057_abide_msp.tiff', 'CMU_b_0050661_abide_msp.tiff', 'UCLA_2_0051297_abide_msp.tiff', 'UCLA_2_0051304_abide_msp.tiff', 'Pitt_0050014_abide_msp.tiff', 'Leuven_2_0050737_abide_msp.tiff', 'Caltech_0051463_abide_msp.tiff', 'UCLA_1_0051227_abide_msp.tiff', 'SDSU_0050216_abide_msp.tiff', 'NYU_0050976_abide_msp.tiff', 'MaxMun_c_0051333_abide_msp.tiff', 'UM_1_0050292_abide_msp.tiff', 'Yale_0050608_abide_msp.tiff', 'Yale_0050621_abide_msp.tiff', 'KKI_0050796_abide_msp.tiff', 'Leuven_2_0050745_abide_msp.tiff', 'USM_0050437_abide_msp.tiff', 'NYU_0051046_abide_msp.tiff', 'NYU_0051062_abide_msp.tiff', 'NYU_0051119_abide_msp.tiff', 'Trinity_0050249_abide_msp.tiff', 'NYU_0050990_abide_msp.tiff', 'NYU_0051159_abide_msp.tiff', 'SBL_0051570_abide_msp.tiff', 'UM_2_0050399_abide_msp.tiff', 'Trinity_0051139_abide_msp.tiff', 'Stanford_0051178_abide_msp.tiff', 'NYU_0051106_abide_msp.tiff', 'NYU_0050986_abide_msp.tiff', 'Leuven_1_0050702_abide_msp.tiff', 'Stanford_0051174_abide_msp.tiff', 'Olin_0050110_abide_msp.tiff', 'Trinity_0051135_abide_msp.tiff', 'OHSU_0050158_abide_msp.tiff', 'NYU_0051049_abide_msp.tiff', 'Leuven_2_0050728_abide_msp.tiff', 'Stanford_0051183_abide_msp.tiff', 'Pitt_0050012_abide_msp.tiff', 'Stanford_0051190_abide_msp.tiff', 'Leuven_1_0050687_abide_msp.tiff', 'NYU_0051096_abide_msp.tiff', 'SDSU_0050198_abide_msp.tiff', 'Pitt_0050016_abide_msp.tiff', 'Olin_0050117_abide_msp.tiff', 'Yale_0050562_abide_msp.tiff', 'UCLA_1_0051263_abide_msp.tiff', 'Yale_0050567_abide_msp.tiff', 'SBL_0051556_abide_msp.tiff', 'Leuven_1_0050697_abide_msp.tiff', 'Yale_0050618_abide_msp.tiff', 'NYU_0051073_abide_msp.tiff', 'KKI_0050802_abide_msp.tiff', 'Trinity_0051138_abide_msp.tiff', 'Trinity_0050243_abide_msp.tiff', 'Stanford_0051179_abide_msp.tiff', 'CMU_b_0050658_abide_msp.tiff', 'CMU_a_0050646_abide_msp.tiff', 'NYU_0051078_abide_msp.tiff', 'UM_2_0050406_abide_msp.tiff', 'USM_0050513_abide_msp.tiff', 'SDSU_0050195_abide_msp.tiff', 'Stanford_0051177_abide_msp.tiff', 'KKI_0050785_abide_msp.tiff', 'Stanford_0051195_abide_msp.tiff', 'USM_0050527_abide_msp.tiff', 'UCLA_2_0051298_abide_msp.tiff', 'UCLA_1_0051280_abide_msp.tiff', 'CMU_b_0050655_abide_msp.tiff', 'UCLA_1_0051203_abide_msp.tiff', 'Stanford_0051175_abide_msp.tiff', 'KKI_0050811_abide_msp.tiff', 'NYU_0051085_abide_msp.tiff', 'Yale_0050554_abide_msp.tiff', 'UCLA_1_0051228_abide_msp.tiff', 'SBL_0051561_abide_msp.tiff', 'Pitt_0050010_abide_msp.tiff', 'NYU_0051021_abide_msp.tiff', 'NYU_0050980_abide_msp.tiff', 'Stanford_0051191_abide_msp.tiff', 'NYU_0050996_abide_msp.tiff', 'NYU_0051095_abide_msp.tiff', 'USM_0050478_abide_msp.tiff', 'Pitt_0050003_abide_msp.tiff', 'MaxMun_b_0051324_abide_msp.tiff', 'Pitt_0050059_abide_msp.tiff', 'UM_1_0050277_abide_msp.tiff', 'NYU_0050994_abide_msp.tiff', 'NYU_0051006_abide_msp.tiff', 'NYU_0051035_abide_msp.tiff', 'SBL_0051560_abide_msp.tiff', 'Yale_0050611_abide_msp.tiff', 'KKI_0050797_abide_msp.tiff', 'Leuven_2_0050756_abide_msp.tiff', 'UCLA_1_0051212_abide_msp.tiff', 'UCLA_2_0051303_abide_msp.tiff', 'UM_1_0050324_abide_msp.tiff', 'Caltech_0051491_abide_msp.tiff', 'KKI_0050800_abide_msp.tiff', 'UM_2_0050427_abide_msp.tiff', 'USM_0050460_abide_msp.tiff', 'MaxMun_a_0051362_abide_msp.tiff', 'Pitt_0050017_abide_msp.tiff', 'UM_1_0050344_abide_msp.tiff', 'NYU_0051039_abide_msp.tiff', 'SBL_0051557_abide_msp.tiff', 'Leuven_2_0050742_abide_msp.tiff', 'UM_1_0050272_abide_msp.tiff', 'NYU_0051016_abide_msp.tiff', 'CMU_b_0050669_abide_msp.tiff', 'USM_0050438_abide_msp.tiff', 'UCLA_1_0051278_abide_msp.tiff', 'UM_1_0050364_abide_msp.tiff', 'UM_2_0050415_abide_msp.tiff', 'MaxMun_d_0051330_abide_msp.tiff', 'SDSU_0050200_abide_msp.tiff', 'SBL_0051576_abide_msp.tiff', 'UM_1_0050279_abide_msp.tiff', 'SBL_0051581_abide_msp.tiff', 'USM_0050467_abide_msp.tiff', 'UM_1_0050302_abide_msp.tiff', 'UCLA_2_0051317_abide_msp.tiff', 'MaxMun_c_0051339_abide_msp.tiff', 'Leuven_2_0050725_abide_msp.tiff', 'UCLA_1_0051211_abide_msp.tiff', 'Pitt_0050051_abide_msp.tiff', 'UM_1_0050350_abide_msp.tiff', 'UCLA_1_0051223_abide_msp.tiff', 'KKI_0050783_abide_msp.tiff', 'NYU_0050966_abide_msp.tiff', 'USM_0050476_abide_msp.tiff', 'Caltech_0051464_abide_msp.tiff', 'Trinity_0050264_abide_msp.tiff', 'UCLA_1_0051276_abide_msp.tiff', 'Leuven_1_0050707_abide_msp.tiff', 'SBL_0051569_abide_msp.tiff', 'NYU_0051118_abide_msp.tiff', 'KKI_0050798_abide_msp.tiff', 'Pitt_0050030_abide_msp.tiff', 'Yale_0050572_abide_msp.tiff', 'UCLA_1_0051215_abide_msp.tiff', 'Olin_0050105_abide_msp.tiff', 'Leuven_2_0050749_abide_msp.tiff', 'NYU_0051001_abide_msp.tiff', 'MaxMun_b_0051327_abide_msp.tiff', 'OHSU_0050159_abide_msp.tiff', 'Olin_0050133_abide_msp.tiff', 'UM_2_0050405_abide_msp.tiff', 'Pitt_0050047_abide_msp.tiff', 'USM_0050490_abide_msp.tiff', 'UM_2_0050424_abide_msp.tiff', 'NYU_0050967_abide_msp.tiff', 'SDSU_0050211_abide_msp.tiff', 'UM_1_0050300_abide_msp.tiff', 'NYU_0051072_abide_msp.tiff', 'UM_1_0050356_abide_msp.tiff', 'SBL_0051572_abide_msp.tiff', 'Pitt_0050023_abide_msp.tiff', 'UCLA_1_0051248_abide_msp.tiff', 'KKI_0050806_abide_msp.tiff', 'NYU_0050973_abide_msp.tiff', 'NYU_0051070_abide_msp.tiff', 'Pitt_0050039_abide_msp.tiff', 'Trinity_0050271_abide_msp.tiff', 'NYU_0051026_abide_msp.tiff', 'UCLA_2_0051299_abide_msp.tiff', 'CMU_b_0050645_abide_msp.tiff', 'SBL_0051571_abide_msp.tiff', 'UCLA_1_0051266_abide_msp.tiff', 'Yale_0050606_abide_msp.tiff', 'Caltech_0051459_abide_msp.tiff', 'Trinity_0050250_abide_msp.tiff', 'UM_1_0050366_abide_msp.tiff', 'SDSU_0050204_abide_msp.tiff', 'Olin_0050122_abide_msp.tiff', 'UM_2_0050386_abide_msp.tiff', 'Pitt_0050022_abide_msp.tiff', 'UCLA_1_0051231_abide_msp.tiff', 'Yale_0050620_abide_msp.tiff', 'Pitt_0050053_abide_msp.tiff', 'Yale_0050603_abide_msp.tiff', 'UM_1_0050334_abide_msp.tiff', 'USM_0050459_abide_msp.tiff', 'NYU_0051097_abide_msp.tiff', 'USM_0050496_abide_msp.tiff', 'Olin_0050108_abide_msp.tiff', 'Yale_0050625_abide_msp.tiff', 'USM_0050464_abide_msp.tiff', 'Yale_0050556_abide_msp.tiff', 'SDSU_0050192_abide_msp.tiff', 'UCLA_1_0051202_abide_msp.tiff', 'UM_2_0050412_abide_msp.tiff', 'OHSU_0050166_abide_msp.tiff', 'Stanford_0051185_abide_msp.tiff', 'UM_1_0050337_abide_msp.tiff', 'KKI_0050786_abide_msp.tiff', 'CMU_b_0050648_abide_msp.tiff', 'Caltech_0051480_abide_msp.tiff', 'UCLA_1_0051219_abide_msp.tiff', 'NYU_0051030_abide_msp.tiff', 'CMU_b_0050644_abide_msp.tiff', 'OHSU_0050163_abide_msp.tiff', 'Trinity_0050234_abide_msp.tiff', 'Yale_0050622_abide_msp.tiff', 'NYU_0051099_abide_msp.tiff', 'UM_2_0050388_abide_msp.tiff', 'Yale_0050565_abide_msp.tiff', 'OHSU_0050143_abide_msp.tiff', 'USM_0050461_abide_msp.tiff', 'UM_1_0050358_abide_msp.tiff', 'Olin_0050102_abide_msp.tiff', 'MaxMun_b_0051325_abide_msp.tiff', 'MaxMun_d_0051350_abide_msp.tiff', 'MaxMun_d_0051352_abide_msp.tiff', 'MaxMun_a_0051363_abide_msp.tiff', 'UM_1_0050312_abide_msp.tiff', 'Caltech_0051474_abide_msp.tiff', 'NYU_0050952_abide_msp.tiff', 'Yale_0050570_abide_msp.tiff', 'USM_0050504_abide_msp.tiff', 'NYU_0051010_abide_msp.tiff', 'UCLA_1_0051252_abide_msp.tiff', 'Trinity_0050240_abide_msp.tiff', 'Olin_0050137_abide_msp.tiff', 'Trinity_0050251_abide_msp.tiff', 'Stanford_0051173_abide_msp.tiff', 'NYU_0050983_abide_msp.tiff', 'CMU_a_0050642_abide_msp.tiff', 'NYU_0050955_abide_msp.tiff', 'KKI_0050810_abide_msp.tiff', 'Leuven_1_0050701_abide_msp.tiff', 'USM_0050499_abide_msp.tiff', 'NYU_0050968_abide_msp.tiff', 'UCLA_1_0051207_abide_msp.tiff', 'NYU_0051040_abide_msp.tiff', 'Stanford_0051167_abide_msp.tiff', 'OHSU_0050146_abide_msp.tiff', 'NYU_0051127_abide_msp.tiff', 'NYU_0050997_abide_msp.tiff', 'NYU_0051029_abide_msp.tiff', 'MaxMun_a_0051371_abide_msp.tiff', 'Yale_0050615_abide_msp.tiff', 'USM_0050509_abide_msp.tiff', 'UCLA_1_0051251_abide_msp.tiff', 'UM_1_0050275_abide_msp.tiff', 'Trinity_0050232_abide_msp.tiff', 'UM_1_0050361_abide_msp.tiff', 'Trinity_0050257_abide_msp.tiff', 'Caltech_0051472_abide_msp.tiff', 'Caltech_0051488_abide_msp.tiff', 'UCLA_1_0051277_abide_msp.tiff', 'Trinity_0050242_abide_msp.tiff', 'NYU_0050972_abide_msp.tiff', 'SDSU_0050213_abide_msp.tiff', 'NYU_0051041_abide_msp.tiff', 'UM_1_0050315_abide_msp.tiff', 'NYU_0051107_abide_msp.tiff', 'SDSU_0050210_abide_msp.tiff', 'Olin_0050125_abide_msp.tiff', 'UM_1_0050287_abide_msp.tiff', 'USM_0050516_abide_msp.tiff', 'Yale_0050551_abide_msp.tiff', 'KKI_0050801_abide_msp.tiff', 'USM_0050529_abide_msp.tiff', 'Yale_0050602_abide_msp.tiff', 'Pitt_0050055_abide_msp.tiff', 'UM_1_0050352_abide_msp.tiff', 'UM_1_0050276_abide_msp.tiff', 'USM_0050466_abide_msp.tiff', 'UCLA_2_0051312_abide_msp.tiff', 'NYU_0051059_abide_msp.tiff', 'NYU_0051103_abide_msp.tiff', 'UM_2_0050383_abide_msp.tiff', 'Leuven_1_0050688_abide_msp.tiff', 'UM_1_0050323_abide_msp.tiff', 'Caltech_0051476_abide_msp.tiff', 'MaxMun_c_0051336_abide_msp.tiff', 'Caltech_0051481_abide_msp.tiff', 'Yale_0050566_abide_msp.tiff', 'NYU_0050998_abide_msp.tiff', 'UM_1_0050286_abide_msp.tiff', 'NYU_0051066_abide_msp.tiff', 'UCLA_1_0051218_abide_msp.tiff', 'Trinity_0050266_abide_msp.tiff', 'MaxMun_a_0051368_abide_msp.tiff', 'MaxMun_d_0051361_abide_msp.tiff', 'UCLA_1_0051268_abide_msp.tiff', 'UM_2_0050402_abide_msp.tiff', 'UCLA_1_0051258_abide_msp.tiff', 'NYU_0051015_abide_msp.tiff', 'UCLA_1_0051224_abide_msp.tiff', 'Leuven_2_0050727_abide_msp.tiff', 'UM_1_0050347_abide_msp.tiff', 'MaxMun_a_0051319_abide_msp.tiff', 'Pitt_0050057_abide_msp.tiff', 'Pitt_0050006_abide_msp.tiff', 'USM_0050493_abide_msp.tiff', 'Leuven_1_0050689_abide_msp.tiff', 'KKI_0050788_abide_msp.tiff', 'NYU_0051018_abide_msp.tiff', 'OHSU_0050165_abide_msp.tiff', 'MaxMun_d_0051329_abide_msp.tiff', 'Leuven_1_0050686_abide_msp.tiff', 'UCLA_1_0051279_abide_msp.tiff', 'NYU_0051065_abide_msp.tiff', 'KKI_0050813_abide_msp.tiff', 'KKI_0050823_abide_msp.tiff', 'NYU_0051148_abide_msp.tiff', 'Pitt_0050044_abide_msp.tiff', 'UCLA_1_0051230_abide_msp.tiff', 'UM_1_0050311_abide_msp.tiff', 'Leuven_2_0050724_abide_msp.tiff', 'NYU_0051036_abide_msp.tiff', 'UCLA_1_0051204_abide_msp.tiff', 'NYU_0051032_abide_msp.tiff', 'Pitt_0050041_abide_msp.tiff', 'MaxMun_a_0051366_abide_msp.tiff', 'MaxMun_a_0051372_abide_msp.tiff', 'OHSU_0050160_abide_msp.tiff', 'NYU_0050977_abide_msp.tiff', 'UM_1_0050294_abide_msp.tiff', 'Trinity_0050263_abide_msp.tiff', 'Olin_0050120_abide_msp.tiff', 'NYU_0051108_abide_msp.tiff', 'USM_0050494_abide_msp.tiff', 'UM_1_0050377_abide_msp.tiff', 'Stanford_0051168_abide_msp.tiff', 'OHSU_0050142_abide_msp.tiff', 'UM_1_0050372_abide_msp.tiff', 'Olin_0050119_abide_msp.tiff', 'UCLA_1_0051217_abide_msp.tiff', 'SDSU_0050207_abide_msp.tiff', 'NYU_0051061_abide_msp.tiff', 'UCLA_1_0051282_abide_msp.tiff', 'OHSU_0050167_abide_msp.tiff', 'OHSU_0050168_abide_msp.tiff', 'SDSU_0050190_abide_msp.tiff', 'Yale_0050552_abide_msp.tiff', 'MaxMun_a_0051370_abide_msp.tiff', 'Caltech_0051486_abide_msp.tiff', 'OHSU_0050157_abide_msp.tiff', 'UM_1_0050328_abide_msp.tiff', 'USM_0050518_abide_msp.tiff', 'USM_0050446_abide_msp.tiff', 'Leuven_1_0050698_abide_msp.tiff', 'CMU_b_0050650_abide_msp.tiff', 'NYU_0051125_abide_msp.tiff', 'NYU_0050995_abide_msp.tiff', 'Pitt_0050050_abide_msp.tiff', 'NYU_0050992_abide_msp.tiff', 'Leuven_2_0050726_abide_msp.tiff', 'MaxMun_a_0051373_abide_msp.tiff', 'NYU_0051009_abide_msp.tiff', 'NYU_0051149_abide_msp.tiff', 'UM_1_0050367_abide_msp.tiff', 'Caltech_0051489_abide_msp.tiff', 'UCLA_1_0051229_abide_msp.tiff', 'UM_1_0050321_abide_msp.tiff', 'NYU_0051086_abide_msp.tiff', 'Stanford_0051187_abide_msp.tiff', 'Pitt_0050035_abide_msp.tiff', 'KKI_0050816_abide_msp.tiff', 'NYU_0051083_abide_msp.tiff', 'UCLA_1_0051241_abide_msp.tiff', 'UCLA_2_0051308_abide_msp.tiff', 'USM_0050432_abide_msp.tiff', 'Olin_0050109_abide_msp.tiff', 'Pitt_0050002_abide_msp.tiff', 'Trinity_0050244_abide_msp.tiff', 'OHSU_0050153_abide_msp.tiff', 'Olin_0050116_abide_msp.tiff', 'Stanford_0051196_abide_msp.tiff', 'Leuven_2_0050750_abide_msp.tiff', 'Leuven_1_0050694_abide_msp.tiff', 'SBL_0051567_abide_msp.tiff', 'Leuven_2_0050736_abide_msp.tiff', 'NYU_0051084_abide_msp.tiff', 'Leuven_2_0050743_abide_msp.tiff', 'Olin_0050135_abide_msp.tiff', 'Olin_0050106_abide_msp.tiff', 'SBL_0051585_abide_msp.tiff', 'NYU_0051098_abide_msp.tiff', 'Pitt_0050045_abide_msp.tiff', 'UM_1_0050375_abide_msp.tiff', 'Olin_0050115_abide_msp.tiff', 'Caltech_0051477_abide_msp.tiff', 'NYU_0051034_abide_msp.tiff', 'KKI_0050799_abide_msp.tiff', 'Yale_0050616_abide_msp.tiff', 'Pitt_0050058_abide_msp.tiff', 'NYU_0050993_abide_msp.tiff', 'Pitt_0050036_abide_msp.tiff', 'UM_1_0050335_abide_msp.tiff', 'OHSU_0050170_abide_msp.tiff', 'Olin_0050104_abide_msp.tiff', 'UM_2_0050382_abide_msp.tiff', 'Trinity_0050262_abide_msp.tiff', 'Olin_0050124_abide_msp.tiff', 'USM_0050524_abide_msp.tiff', 'UM_1_0050310_abide_msp.tiff', 'KKI_0050792_abide_msp.tiff', 'UCLA_1_0051205_abide_msp.tiff', 'USM_0050497_abide_msp.tiff', 'Caltech_0051479_abide_msp.tiff', 'Olin_0050113_abide_msp.tiff', 'Trinity_0050248_abide_msp.tiff', 'MaxMun_c_0051348_abide_msp.tiff', 'UM_1_0050369_abide_msp.tiff', 'Stanford_0051198_abide_msp.tiff', 'Caltech_0051461_abide_msp.tiff', 'Yale_0050553_abide_msp.tiff', 'UM_1_0050345_abide_msp.tiff', 'NYU_0051112_abide_msp.tiff', 'SBL_0051568_abide_msp.tiff', 'SBL_0051559_abide_msp.tiff', 'Stanford_0051192_abide_msp.tiff', 'UM_1_0050307_abide_msp.tiff', 'Leuven_1_0050703_abide_msp.tiff', 'Stanford_0051188_abide_msp.tiff', 'KKI_0050808_abide_msp.tiff', 'NYU_0051050_abide_msp.tiff', 'OHSU_0050145_abide_msp.tiff', 'UM_1_0050308_abide_msp.tiff', 'USM_0050433_abide_msp.tiff', 'NYU_0051131_abide_msp.tiff', 'Yale_0050573_abide_msp.tiff', 'Olin_0050136_abide_msp.tiff', 'MaxMun_d_0051355_abide_msp.tiff', 'SDSU_0050214_abide_msp.tiff', 'UCLA_1_0051214_abide_msp.tiff', 'Trinity_0050246_abide_msp.tiff', 'NYU_0051123_abide_msp.tiff', 'SDSU_0050182_abide_msp.tiff', 'UCLA_1_0051201_abide_msp.tiff', 'MaxMun_a_0051364_abide_msp.tiff', 'Leuven_2_0050740_abide_msp.tiff', 'Trinity_0050261_abide_msp.tiff', 'Trinity_0050260_abide_msp.tiff', 'UM_1_0050285_abide_msp.tiff', 'USM_0050453_abide_msp.tiff', 'Trinity_0050233_abide_msp.tiff', 'UCLA_1_0051274_abide_msp.tiff', 'USM_0050532_abide_msp.tiff', 'Stanford_0051162_abide_msp.tiff', 'NYU_0051051_abide_msp.tiff', 'NYU_0051068_abide_msp.tiff']\n"
          ]
        }
      ]
    },
    {
      "cell_type": "markdown",
      "source": [
        "\n",
        "The given code defines a function named organize_images that organizes brain images from a source folder based on their filenames into two subfolders: \"cc_images\" and \"brain_images\" within a specified destination folder. The function creates these subfolders if they do not already exist and then iterates through the source folder's files. Depending on the filename containing either \"_abide_cc.tiff\" or \"_abide_msp.tiff,\" the code moves the file to the corresponding subfolder. The code then specifies source and destination folders for ABIDE, calls the organize_images function, and prints the contents of the resulting \"cc_images\" and \"brain_images\" subfolders within the organized destination folder. This script effectively organizes brain images into subfolders based on their filenames, facilitating the management of specific types of images in a structured manner."
      ],
      "metadata": {
        "id": "21PGiYIgDIL-"
      },
      "id": "21PGiYIgDIL-"
    },
    {
      "cell_type": "code",
      "source": [
        "import os\n",
        "import shutil\n",
        "import re\n",
        "\n",
        "def organize_oasis_images(source_folder, destination_folder):\n",
        "    cc_images_folder = os.path.join(destination_folder, \"cc_images\")\n",
        "    brain_images_folder = os.path.join(destination_folder, \"brain_images\")\n",
        "\n",
        "    os.makedirs(cc_images_folder, exist_ok=True)\n",
        "    os.makedirs(brain_images_folder, exist_ok=True)\n",
        "\n",
        "    for root, dirs, files in os.walk(source_folder):\n",
        "        for filename in files:\n",
        "            full_path = os.path.join(root, filename)\n",
        "\n",
        "            # Use regular expressions for flexible pattern matching\n",
        "            oasis_cc_pattern = re.compile(r\"_ccseg\\.tif$\", re.IGNORECASE)\n",
        "            oasis_msp_pattern = re.compile(r\"_msp\\.tif$\", re.IGNORECASE)\n",
        "\n",
        "            if oasis_cc_pattern.search(filename):\n",
        "                target_folder = os.path.join(cc_images_folder, filename)\n",
        "                shutil.move(full_path, target_folder)\n",
        "            elif oasis_msp_pattern.search(filename):\n",
        "                target_folder = os.path.join(brain_images_folder, filename)\n",
        "                shutil.move(full_path, target_folder)\n",
        "\n",
        "# Specify the source and destination folders for oasis\n",
        "source_folder_oasis = \"/content/oasis_imgs/oasis_imgs\"\n",
        "destination_folder_oasis = \"/content/organized_oasis\"\n",
        "\n",
        "# Organize images for oasis\n",
        "organize_oasis_images(source_folder_oasis, destination_folder_oasis)\n",
        "\n",
        "# List the contents of the organized oasis directories\n",
        "print(\"Contents of organized_oasis/cc_images:\", os.listdir(os.path.join(destination_folder_oasis, \"cc_images\")))\n",
        "print(\"Contents of organized_oasis/brain_images:\", os.listdir(os.path.join(destination_folder_oasis, \"brain_images\")))\n"
      ],
      "metadata": {
        "colab": {
          "base_uri": "https://localhost:8080/"
        },
        "id": "EtqDrmgUpd8n",
        "outputId": "6a3c74a6-c0c3-413b-c8e4-f8fa009c34ff"
      },
      "id": "EtqDrmgUpd8n",
      "execution_count": 11,
      "outputs": [
        {
          "output_type": "stream",
          "name": "stdout",
          "text": [
            "Contents of organized_oasis/cc_images: ['OAS1_0331_msp_ccseg.tif', 'OAS1_0005_MR1_67_ccseg.tif', 'OAS1_0189_msp_ccseg.tif', 'OAS1_0044_MR1_67_ccseg.tif', 'OAS1_0063_MR1_64_ccseg.tif', 'OAS1_0073_MR1_67_ccseg.tif', 'OAS1_0027_MR1_62_ccseg.tif', 'OAS1_0062_MR1_65_ccseg.tif', 'OAS1_0058_MR1_63_ccseg.tif', 'OAS1_0027_MR1_64_ccseg.tif', 'OAS1_0283_msp_ccseg.tif', 'OAS1_0028_MR1_62_ccseg.tif', 'OAS1_0150_msp_ccseg.tif', 'OAS1_0034_MR1_63_ccseg.tif', 'OAS1_0001_MR1_68_ccseg.tif', 'OAS1_0046_MR1_69_ccseg.tif', 'OAS1_0359_msp_ccseg.tif', 'OAS1_0199_msp_ccseg.tif', 'OAS1_0450_msp_ccseg.tif', 'OAS1_0305_msp_ccseg.tif', 'OAS1_0070_MR1_65_ccseg.tif', 'OAS1_0176_msp_ccseg.tif', 'OAS1_0009_MR1_65_ccseg.tif', 'OAS1_0043_MR1_64_ccseg.tif', 'OAS1_0017_MR1_67_ccseg.tif', 'OAS1_0075_MR1_67_ccseg.tif', 'OAS1_0280_msp_ccseg.tif', 'OAS1_0046_MR1_65_ccseg.tif', 'OAS1_0319_msp_ccseg.tif', 'OAS1_0078_MR1_62_ccseg.tif', 'OAS1_0022_MR1_64_ccseg.tif', 'OAS1_0001_MR1_63_ccseg.tif', 'OAS1_0032_msp_ccseg.tif', 'OAS1_0420_msp_ccseg.tif', 'OAS1_0031_MR1_66_ccseg.tif', 'OAS1_0421_msp_ccseg.tif', 'OAS1_0428_msp_ccseg.tif', 'OAS1_0054_MR1_69_ccseg.tif', 'OAS1_0163_msp_ccseg.tif', 'OAS1_0265_msp_ccseg.tif', 'OAS1_0398_msp_ccseg.tif', 'OAS1_0021_MR1_69_ccseg.tif', 'OAS1_0069_MR1_64_ccseg.tif', 'OAS1_0018_MR1_68_ccseg.tif', 'OAS1_0193_msp_ccseg.tif', 'OAS1_0059_msp_ccseg.tif', 'OAS1_0061_MR1_64_ccseg.tif', 'OAS1_0085_msp_ccseg.tif', 'OAS1_0033_MR1_67_ccseg.tif', 'OAS1_0075_MR1_61_ccseg.tif', 'OAS1_0065_MR1_68_ccseg.tif', 'OAS1_0038_msp_ccseg.tif', 'OAS1_0017_MR1_63_ccseg.tif', 'OAS1_0013_MR1_63_ccseg.tif', 'OAS1_0055_MR1_65_ccseg.tif', 'OAS1_0356_msp_ccseg.tif', 'OAS1_0065_MR1_66_ccseg.tif', 'OAS1_0157_msp_ccseg.tif', 'OAS1_0111_msp_ccseg.tif', 'OAS1_0069_MR1_62_ccseg.tif', 'OAS1_0010_msp_ccseg.tif', 'OAS1_0231_msp_ccseg.tif', 'OAS1_0121_msp_ccseg.tif', 'OAS1_0002_MR1_62_ccseg.tif', 'OAS1_0067_MR1_65_ccseg.tif', 'OAS1_0013_MR1_69_ccseg.tif', 'OAS1_0070_MR1_63_ccseg.tif', 'OAS1_0029_MR1_64_ccseg.tif', 'OAS1_0049_MR1_67_ccseg.tif', 'OAS1_0338_msp_ccseg.tif', 'OAS1_0323_msp_ccseg.tif', 'OAS1_0216_msp_ccseg.tif', 'OAS1_0065_msp_ccseg.tif', 'OAS1_0028_MR1_65_ccseg.tif', 'OAS1_0102_msp_ccseg.tif', 'OAS1_0037_MR1_67_ccseg.tif', 'OAS1_0097_msp_ccseg.tif', 'OAS1_0383_msp_ccseg.tif', 'OAS1_0020_msp_ccseg.tif', 'OAS1_0005_MR1_68_ccseg.tif', 'OAS1_0021_MR1_70_ccseg.tif', 'OAS1_0387_msp_ccseg.tif', 'OAS1_0170_msp_ccseg.tif', 'OAS1_0041_MR1_70_ccseg.tif', 'OAS1_0035_MR1_65_ccseg.tif', 'OAS1_0070_MR1_68_ccseg.tif', 'OAS1_0051_MR1_69_ccseg.tif', 'OAS1_0050_MR1_67_ccseg.tif', 'OAS1_0054_MR1_64_ccseg.tif', 'OAS1_0073_MR1_66_ccseg.tif', 'OAS1_0188_msp_ccseg.tif', 'OAS1_0180_msp_ccseg.tif', 'OAS1_0002_MR1_64_ccseg.tif', 'OAS1_0080_MR1_69_ccseg.tif', 'OAS1_0049_MR1_66_ccseg.tif', 'OAS1_0046_MR1_68_ccseg.tif', 'OAS1_0026_MR1_69_ccseg.tif', 'OAS1_0018_MR1_67_ccseg.tif', 'OAS1_0059_MR1_65_ccseg.tif', 'OAS1_0051_msp_ccseg.tif', 'OAS1_0221_msp_ccseg.tif', 'OAS1_0125_msp_ccseg.tif', 'OAS1_0259_msp_ccseg.tif', 'OAS1_0001_MR1_67_ccseg.tif', 'OAS1_0293_msp_ccseg.tif', 'OAS1_0015_MR1_64_ccseg.tif', 'OAS1_0011_MR1_65_ccseg.tif', 'OAS1_0023_MR1_69_ccseg.tif', 'OAS1_0011_MR1_62_ccseg.tif', 'OAS1_0202_msp_ccseg.tif', 'OAS1_0389_msp_ccseg.tif', 'OAS1_0022_MR1_65_ccseg.tif', 'OAS1_0262_msp_ccseg.tif', 'OAS1_0034_MR1_66_ccseg.tif', 'OAS1_0397_msp_ccseg.tif', 'OAS1_0409_msp_ccseg.tif', 'OAS1_0012_MR1_63_ccseg.tif', 'OAS1_0079_msp_ccseg.tif', 'OAS1_0076_MR1_61_ccseg.tif', 'OAS1_0023_MR1_63_ccseg.tif', 'OAS1_0026_MR1_64_ccseg.tif', 'OAS1_0285_msp_ccseg.tif', 'OAS1_0030_MR1_64_ccseg.tif', 'OAS1_0178_msp_ccseg.tif', 'OAS1_0023_MR1_65_ccseg.tif', 'OAS1_0282_msp_ccseg.tif', 'OAS1_0073_MR1_68_ccseg.tif', 'OAS1_0086_msp_ccseg.tif', 'OAS1_0080_MR1_63_ccseg.tif', 'OAS1_0068_MR1_67_ccseg.tif', 'OAS1_0019_MR1_61_ccseg.tif', 'OAS1_0080_MR1_64_ccseg.tif', 'OAS1_0013_MR1_65_ccseg.tif', 'OAS1_0063_MR1_70_ccseg.tif', 'OAS1_0313_msp_ccseg.tif', 'OAS1_0011_MR1_69_ccseg.tif', 'OAS1_0061_MR1_67_ccseg.tif', 'OAS1_0361_msp_ccseg.tif', 'OAS1_0027_MR1_61_ccseg.tif', 'OAS1_0027_MR1_66_ccseg.tif', 'OAS1_0419_msp_ccseg.tif', 'OAS1_0046_MR1_66_ccseg.tif', 'OAS1_0076_MR1_62_ccseg.tif', 'OAS1_0040_MR1_42_ccseg.tif', 'OAS1_0072_MR1_67_ccseg.tif', 'OAS1_0113_msp_ccseg.tif', 'OAS1_0069_MR1_61_ccseg.tif', 'OAS1_0261_msp_ccseg.tif', 'OAS1_0029_MR1_66_ccseg.tif', 'OAS1_0080_MR1_68_ccseg.tif', 'OAS1_0260_msp_ccseg.tif', 'OAS1_0141_msp_ccseg.tif', 'OAS1_0168_msp_ccseg.tif', 'OAS1_0350_msp_ccseg.tif', 'OAS1_0014_MR1_68_ccseg.tif', 'OAS1_0019_MR1_63_ccseg.tif', 'OAS1_0037_MR1_61_ccseg.tif', 'OAS1_0035_MR1_61_ccseg.tif', 'OAS1_0341_msp_ccseg.tif', 'OAS1_0003_MR1_62_ccseg.tif', 'OAS1_0037_MR1_62_ccseg.tif', 'OAS1_0039_MR1_61_ccseg.tif', 'OAS1_0009_MR1_62_ccseg.tif', 'OAS1_0040_MR1_41_ccseg.tif', 'OAS1_0151_msp_ccseg.tif', 'OAS1_0442_msp_ccseg.tif', 'OAS1_0028_MR1_69_ccseg.tif', 'OAS1_0105_msp_ccseg.tif', 'OAS1_0228_msp_ccseg.tif', 'OAS1_0044_msp_ccseg.tif', 'OAS1_0073_MR1_69_ccseg.tif', 'OAS1_0234_msp_ccseg.tif', 'OAS1_0067_MR1_68_ccseg.tif', 'OAS1_0040_MR1_44_ccseg.tif', 'OAS1_0415_msp_ccseg.tif', 'OAS1_0071_MR1_68_ccseg.tif', 'OAS1_0206_msp_ccseg.tif', 'OAS1_0088_msp_ccseg.tif', 'OAS1_0271_msp_ccseg.tif', 'OAS1_0135_msp_ccseg.tif', 'OAS1_0006_MR1_61_ccseg.tif', 'OAS1_0006_MR1_66_ccseg.tif', 'OAS1_0076_MR1_59_ccseg.tif', 'OAS1_0016_MR1_67_ccseg.tif', 'OAS1_0074_MR1_59_ccseg.tif', 'OAS1_0015_MR1_67_ccseg.tif', 'OAS1_0224_msp_ccseg.tif', 'OAS1_0019_MR1_67_ccseg.tif', 'OAS1_0132_msp_ccseg.tif', 'OAS1_0080_MR1_65_ccseg.tif', 'OAS1_0034_MR1_59_ccseg.tif', 'OAS1_0232_msp_ccseg.tif', 'OAS1_0076_msp_ccseg.tif', 'OAS1_0079_MR1_65_ccseg.tif', 'OAS1_0386_msp_ccseg.tif', 'OAS1_0001_MR1_70_ccseg.tif', 'OAS1_0126_msp_ccseg.tif', 'OAS1_0214_msp_ccseg.tif', 'OAS1_0169_msp_ccseg.tif', 'OAS1_0016_MR1_65_ccseg.tif', 'OAS1_0198_msp_ccseg.tif', 'OAS1_0034_MR1_60_ccseg.tif', 'OAS1_0004_msp_ccseg.tif', 'OAS1_0239_msp_ccseg.tif', 'OAS1_0107_msp_ccseg.tif', 'OAS1_0116_msp_ccseg.tif', 'OAS1_0404_msp_ccseg.tif', 'OAS1_0059_MR1_66_ccseg.tif', 'OAS1_0075_MR1_60_ccseg.tif', 'OAS1_0052_MR1_66_ccseg.tif', 'OAS1_0077_msp_ccseg.tif', 'OAS1_0079_MR1_67_ccseg.tif', 'OAS1_0384_msp_ccseg.tif', 'OAS1_0040_MR1_47_ccseg.tif', 'OAS1_0045_MR1_64_ccseg.tif', 'OAS1_0345_msp_ccseg.tif', 'OAS1_0152_msp_ccseg.tif', 'OAS1_0311_msp_ccseg.tif', 'OAS1_0092_msp_ccseg.tif', 'OAS1_0030_MR1_66_ccseg.tif', 'OAS1_0009_msp_ccseg.tif', 'OAS1_0056_MR1_66_ccseg.tif', 'OAS1_0071_MR1_62_ccseg.tif', 'OAS1_0253_msp_ccseg.tif', 'OAS1_0062_MR1_67_ccseg.tif', 'OAS1_0014_MR1_64_ccseg.tif', 'OAS1_0147_msp_ccseg.tif', 'OAS1_0028_MR1_67_ccseg.tif', 'OAS1_0004_MR1_66_ccseg.tif', 'OAS1_0457_msp_ccseg.tif', 'OAS1_0114_msp_ccseg.tif', 'OAS1_0330_msp_ccseg.tif', 'OAS1_0077_MR1_67_ccseg.tif', 'OAS1_0010_MR1_66_ccseg.tif', 'OAS1_0449_msp_ccseg.tif', 'OAS1_0410_msp_ccseg.tif', 'OAS1_0057_MR1_65_ccseg.tif', 'OAS1_0062_MR1_66_ccseg.tif', 'OAS1_0309_msp_ccseg.tif', 'OAS1_0062_msp_ccseg.tif', 'OAS1_0061_msp_ccseg.tif', 'OAS1_0023_MR1_64_ccseg.tif', 'OAS1_0001_MR1_69_ccseg.tif', 'OAS1_0328_msp_ccseg.tif', 'OAS1_0173_msp_ccseg.tif', 'OAS1_0003_MR1_65_ccseg.tif', 'OAS1_0005_MR1_62_ccseg.tif', 'OAS1_0395_msp_ccseg.tif', 'OAS1_0014_MR1_69_ccseg.tif', 'OAS1_0342_msp_ccseg.tif', 'OAS1_0104_msp_ccseg.tif', 'OAS1_0055_MR1_61_ccseg.tif', 'OAS1_0039_MR1_62_ccseg.tif', 'OAS1_0016_MR1_61_ccseg.tif', 'OAS1_0443_msp_ccseg.tif', 'OAS1_0072_msp_ccseg.tif', 'OAS1_0195_msp_ccseg.tif', 'OAS1_0022_MR1_66_ccseg.tif', 'OAS1_0034_MR1_64_ccseg.tif', 'OAS1_0029_MR1_63_ccseg.tif', 'OAS1_0015_MR1_70_ccseg.tif', 'OAS1_0054_msp_ccseg.tif', 'OAS1_0051_MR1_65_ccseg.tif', 'OAS1_0006_MR1_63_ccseg.tif', 'OAS1_0237_msp_ccseg.tif', 'OAS1_0038_MR1_66_ccseg.tif', 'OAS1_0016_MR1_62_ccseg.tif', 'OAS1_0314_msp_ccseg.tif', 'OAS1_0047_MR1_63_ccseg.tif', 'OAS1_0013_MR1_67_ccseg.tif', 'OAS1_0112_msp_ccseg.tif', 'OAS1_0076_MR1_65_ccseg.tif', 'OAS1_0060_MR1_62_ccseg.tif', 'OAS1_0078_MR1_65_ccseg.tif', 'OAS1_0078_MR1_66_ccseg.tif', 'OAS1_0394_msp_ccseg.tif', 'OAS1_0067_MR1_66_ccseg.tif', 'OAS1_0055_msp_ccseg.tif', 'OAS1_0045_MR1_67_ccseg.tif', 'OAS1_0077_MR1_64_ccseg.tif', 'OAS1_0031_MR1_67_ccseg.tif', 'OAS1_0045_MR1_65_ccseg.tif', 'OAS1_0001_MR1_66_ccseg.tif', 'OAS1_0303_msp_ccseg.tif', 'OAS1_0174_msp_ccseg.tif', 'OAS1_0067_MR1_63_ccseg.tif', 'OAS1_0032_MR1_69_ccseg.tif', 'OAS1_0079_MR1_68_ccseg.tif', 'OAS1_0377_msp_ccseg.tif', 'OAS1_0071_MR1_64_ccseg.tif', 'OAS1_0011_MR1_63_ccseg.tif', 'OAS1_0028_MR1_64_ccseg.tif', 'OAS1_0213_msp_ccseg.tif', 'OAS1_0066_MR1_67_ccseg.tif', 'OAS1_0054_MR1_68_ccseg.tif', 'OAS1_0302_msp_ccseg.tif', 'OAS1_0201_msp_ccseg.tif', 'OAS1_0010_MR1_65_ccseg.tif', 'OAS1_0077_MR1_65_ccseg.tif', 'OAS1_0074_MR1_61_ccseg.tif', 'OAS1_0146_msp_ccseg.tif', 'OAS1_0109_msp_ccseg.tif', 'OAS1_0007_MR1_62_ccseg.tif', 'OAS1_0408_msp_ccseg.tif', 'OAS1_0062_MR1_68_ccseg.tif', 'OAS1_0022_MR1_60_ccseg.tif', 'OAS1_0052_MR1_63_ccseg.tif', 'OAS1_0096_msp_ccseg.tif', 'OAS1_0049_MR1_69_ccseg.tif', 'OAS1_0013_MR1_70_ccseg.tif', 'OAS1_0033_MR1_66_ccseg.tif', 'OAS1_0090_msp_ccseg.tif', 'OAS1_0012_msp_ccseg.tif', 'OAS1_0343_msp_ccseg.tif', 'OAS1_0001_MR1_65_ccseg.tif', 'OAS1_0056_MR1_67_ccseg.tif', 'OAS1_0437_msp_ccseg.tif', 'OAS1_0012_MR1_64_ccseg.tif', 'OAS1_0035_MR1_64_ccseg.tif', 'OAS1_0030_msp_ccseg.tif', 'OAS1_0005_MR1_64_ccseg.tif', 'OAS1_0033_MR1_65_ccseg.tif', 'OAS1_0131_msp_ccseg.tif', 'OAS1_0046_MR1_64_ccseg.tif', 'OAS1_0159_msp_ccseg.tif', 'OAS1_0037_MR1_59_ccseg.tif', 'OAS1_0068_msp_ccseg.tif', 'OAS1_0069_MR1_66_ccseg.tif', 'OAS1_0019_MR1_64_ccseg.tif', 'OAS1_0246_msp_ccseg.tif', 'OAS1_0006_MR1_59_ccseg.tif', 'OAS1_0435_msp_ccseg.tif', 'OAS1_0129_msp_ccseg.tif', 'OAS1_0076_MR1_60_ccseg.tif', 'OAS1_0026_MR1_65_ccseg.tif', 'OAS1_0422_msp_ccseg.tif', 'OAS1_0079_MR1_64_ccseg.tif', 'OAS1_0047_MR1_61_ccseg.tif', 'OAS1_0003_MR1_60_ccseg.tif', 'OAS1_0002_MR1_67_ccseg.tif', 'OAS1_0434_msp_ccseg.tif', 'OAS1_0032_MR1_68_ccseg.tif', 'OAS1_0077_MR1_63_ccseg.tif', 'OAS1_0080_msp_ccseg.tif', 'OAS1_0055_MR1_64_ccseg.tif', 'OAS1_0294_msp_ccseg.tif', 'OAS1_0011_MR1_64_ccseg.tif', 'OAS1_0034_MR1_62_ccseg.tif', 'OAS1_0004_MR1_67_ccseg.tif', 'OAS1_0069_MR1_67_ccseg.tif', 'OAS1_0055_MR1_62_ccseg.tif', 'OAS1_0043_MR1_67_ccseg.tif', 'OAS1_0062_MR1_63_ccseg.tif', 'OAS1_0077_MR1_69_ccseg.tif', 'OAS1_0041_MR1_65_ccseg.tif', 'OAS1_0043_MR1_65_ccseg.tif', 'OAS1_0068_MR1_68_ccseg.tif', 'OAS1_0007_MR1_66_ccseg.tif', 'OAS1_0004_MR1_61_ccseg.tif', 'OAS1_0062_MR1_62_ccseg.tif', 'OAS1_0056_MR1_63_ccseg.tif', 'OAS1_0018_msp_ccseg.tif', 'OAS1_0052_MR1_65_ccseg.tif', 'OAS1_0011_MR1_66_ccseg.tif', 'OAS1_0050_msp_ccseg.tif', 'OAS1_0061_MR1_66_ccseg.tif', 'OAS1_0070_msp_ccseg.tif', 'OAS1_0083_msp_ccseg.tif', 'OAS1_0139_msp_ccseg.tif', 'OAS1_0060_MR1_64_ccseg.tif', 'OAS1_0372_msp_ccseg.tif', 'OAS1_0058_MR1_68_ccseg.tif', 'OAS1_0030_MR1_67_ccseg.tif', 'OAS1_0029_MR1_68_ccseg.tif', 'OAS1_0379_msp_ccseg.tif', 'OAS1_0041_MR1_66_ccseg.tif', 'OAS1_0385_msp_ccseg.tif', 'OAS1_0074_msp_ccseg.tif', 'OAS1_0064_MR1_69_ccseg.tif', 'OAS1_0029_MR1_67_ccseg.tif', 'OAS1_0264_msp_ccseg.tif', 'OAS1_0007_msp_ccseg.tif', 'OAS1_0005_MR1_69_ccseg.tif', 'OAS1_0064_MR1_67_ccseg.tif', 'OAS1_0207_msp_ccseg.tif', 'OAS1_0423_msp_ccseg.tif', 'OAS1_0021_MR1_66_ccseg.tif', 'OAS1_0059_MR1_68_ccseg.tif', 'OAS1_0070_MR1_62_ccseg.tif', 'OAS1_0344_msp_ccseg.tif', 'OAS1_0165_msp_ccseg.tif', 'OAS1_0417_msp_ccseg.tif', 'OAS1_0403_msp_ccseg.tif', 'OAS1_0019_MR1_66_ccseg.tif', 'OAS1_0053_MR1_67_ccseg.tif', 'OAS1_0030_MR1_60_ccseg.tif', 'OAS1_0051_MR1_67_ccseg.tif', 'OAS1_0326_msp_ccseg.tif', 'OAS1_0014_MR1_63_ccseg.tif', 'OAS1_0028_MR1_66_ccseg.tif', 'OAS1_0029_msp_ccseg.tif', 'OAS1_0241_msp_ccseg.tif', 'OAS1_0281_msp_ccseg.tif', 'OAS1_0023_MR1_68_ccseg.tif', 'OAS1_0190_msp_ccseg.tif', 'OAS1_0020_MR1_60_ccseg.tif', 'OAS1_0023_MR1_61_ccseg.tif', 'OAS1_0014_MR1_66_ccseg.tif', 'OAS1_0357_msp_ccseg.tif', 'OAS1_0069_MR1_63_ccseg.tif', 'OAS1_0027_msp_ccseg.tif', 'OAS1_0033_MR1_62_ccseg.tif', 'OAS1_0012_MR1_68_ccseg.tif', 'OAS1_0197_msp_ccseg.tif', 'OAS1_0038_MR1_69_ccseg.tif', 'OAS1_0006_MR1_62_ccseg.tif', 'OAS1_0016_MR1_63_ccseg.tif', 'OAS1_0057_msp_ccseg.tif', 'OAS1_0077_MR1_61_ccseg.tif', 'OAS1_0072_MR1_65_ccseg.tif', 'OAS1_0019_MR1_62_ccseg.tif', 'OAS1_0058_MR1_67_ccseg.tif', 'OAS1_0056_MR1_64_ccseg.tif', 'OAS1_0355_msp_ccseg.tif', 'OAS1_0336_msp_ccseg.tif', 'OAS1_0001_MR1_62_ccseg.tif', 'OAS1_0270_msp_ccseg.tif', 'OAS1_0049_MR1_68_ccseg.tif', 'OAS1_0019_msp_ccseg.tif', 'OAS1_0021_MR1_68_ccseg.tif', 'OAS1_0037_MR1_63_ccseg.tif', 'OAS1_0068_MR1_63_ccseg.tif', 'OAS1_0061_MR1_65_ccseg.tif', 'OAS1_0038_MR1_67_ccseg.tif', 'OAS1_0192_msp_ccseg.tif', 'OAS1_0040_MR1_45_ccseg.tif', 'OAS1_0012_MR1_69_ccseg.tif', 'OAS1_0027_MR1_68_ccseg.tif', 'OAS1_0007_MR1_60_ccseg.tif', 'OAS1_0148_msp_ccseg.tif', 'OAS1_0212_msp_ccseg.tif', 'OAS1_0068_MR1_66_ccseg.tif', 'OAS1_0029_MR1_60_ccseg.tif', 'OAS1_0068_MR1_64_ccseg.tif', 'OAS1_0058_MR1_66_ccseg.tif', 'OAS1_0005_MR1_70_ccseg.tif', 'OAS1_0071_MR1_66_ccseg.tif', 'OAS1_0064_MR1_62_ccseg.tif', 'OAS1_0040_MR1_40_ccseg.tif', 'OAS1_0392_msp_ccseg.tif', 'OAS1_0074_MR1_65_ccseg.tif', 'OAS1_0222_msp_ccseg.tif', 'OAS1_0080_MR1_67_ccseg.tif', 'OAS1_0057_MR1_66_ccseg.tif', 'OAS1_0025_MR1_67_ccseg.tif', 'OAS1_0070_MR1_66_ccseg.tif', 'OAS1_0056_MR1_65_ccseg.tif', 'OAS1_0369_msp_ccseg.tif', 'OAS1_0059_MR1_67_ccseg.tif', 'OAS1_0047_MR1_64_ccseg.tif', 'OAS1_0030_MR1_62_ccseg.tif', 'OAS1_0014_msp_ccseg.tif', 'OAS1_0079_MR1_66_ccseg.tif', 'OAS1_0051_MR1_70_ccseg.tif', 'OAS1_0064_MR1_64_ccseg.tif', 'OAS1_0230_msp_ccseg.tif', 'OAS1_0016_MR1_66_ccseg.tif', 'OAS1_0413_msp_ccseg.tif', 'OAS1_0367_msp_ccseg.tif', 'OAS1_0039_MR1_60_ccseg.tif', 'OAS1_0079_MR1_70_ccseg.tif', 'OAS1_0070_MR1_64_ccseg.tif', 'OAS1_0446_msp_ccseg.tif', 'OAS1_0318_msp_ccseg.tif', 'OAS1_0005_msp_ccseg.tif', 'OAS1_0007_MR1_63_ccseg.tif', 'OAS1_0401_msp_ccseg.tif', 'OAS1_0014_MR1_67_ccseg.tif', 'OAS1_0066_MR1_65_ccseg.tif', 'OAS1_0010_MR1_71_ccseg.tif', 'OAS1_0049_msp_ccseg.tif', 'OAS1_0026_msp_ccseg.tif', 'OAS1_0456_msp_ccseg.tif', 'OAS1_0064_MR1_68_ccseg.tif', 'OAS1_0057_MR1_64_ccseg.tif', 'OAS1_0063_MR1_69_ccseg.tif', 'OAS1_0340_msp_ccseg.tif', 'OAS1_0063_MR1_67_ccseg.tif', 'OAS1_0027_MR1_63_ccseg.tif', 'OAS1_0119_msp_ccseg.tif', 'OAS1_0060_MR1_67_ccseg.tif', 'OAS1_0022_MR1_61_ccseg.tif', 'OAS1_0054_MR1_67_ccseg.tif', 'OAS1_0029_MR1_61_ccseg.tif', 'OAS1_0363_msp_ccseg.tif', 'OAS1_0346_msp_ccseg.tif', 'OAS1_0015_MR1_69_ccseg.tif', 'OAS1_0031_MR1_64_ccseg.tif', 'OAS1_0059_MR1_69_ccseg.tif', 'OAS1_0037_MR1_60_ccseg.tif', 'OAS1_0026_MR1_70_ccseg.tif', 'OAS1_0078_MR1_67_ccseg.tif', 'OAS1_0062_MR1_69_ccseg.tif', 'OAS1_0031_MR1_68_ccseg.tif', 'OAS1_0182_msp_ccseg.tif', 'OAS1_0056_MR1_62_ccseg.tif', 'OAS1_0099_msp_ccseg.tif', 'OAS1_0229_msp_ccseg.tif', 'OAS1_0022_MR1_62_ccseg.tif', 'OAS1_0138_msp_ccseg.tif', 'OAS1_0032_MR1_74_ccseg.tif', 'OAS1_0023_MR1_67_ccseg.tif', 'OAS1_0031_MR1_62_ccseg.tif', 'OAS1_0063_MR1_65_ccseg.tif', 'OAS1_0055_MR1_67_ccseg.tif', 'OAS1_0022_MR1_58_ccseg.tif', 'OAS1_0058_MR1_64_ccseg.tif', 'OAS1_0065_MR1_67_ccseg.tif', 'OAS1_0255_msp_ccseg.tif', 'OAS1_0026_MR1_66_ccseg.tif', 'OAS1_0003_MR1_61_ccseg.tif', 'OAS1_0108_msp_ccseg.tif', 'OAS1_0144_msp_ccseg.tif', 'OAS1_0072_MR1_66_ccseg.tif', 'OAS1_0054_MR1_66_ccseg.tif', 'OAS1_0012_MR1_66_ccseg.tif', 'OAS1_0235_msp_ccseg.tif', 'OAS1_0006_MR1_65_ccseg.tif', 'OAS1_0021_MR1_65_ccseg.tif', 'OAS1_0220_msp_ccseg.tif', 'OAS1_0072_MR1_68_ccseg.tif', 'OAS1_0060_MR1_65_ccseg.tif', 'OAS1_0059_MR1_63_ccseg.tif', 'OAS1_0325_msp_ccseg.tif', 'OAS1_0017_MR1_68_ccseg.tif', 'OAS1_0009_MR1_61_ccseg.tif', 'OAS1_0376_msp_ccseg.tif', 'OAS1_0009_MR1_60_ccseg.tif', 'OAS1_0006_msp_ccseg.tif', 'OAS1_0020_MR1_65_ccseg.tif', 'OAS1_0035_MR1_67_ccseg.tif', 'OAS1_0191_msp_ccseg.tif', 'OAS1_0033_MR1_68_ccseg.tif', 'OAS1_0006_MR1_64_ccseg.tif', 'OAS1_0211_msp_ccseg.tif', 'OAS1_0051_MR1_63_ccseg.tif', 'OAS1_0140_msp_ccseg.tif', 'OAS1_0049_MR1_65_ccseg.tif', 'OAS1_0073_MR1_64_ccseg.tif', 'OAS1_0218_msp_ccseg.tif', 'OAS1_0063_MR1_71_ccseg.tif', 'OAS1_0045_msp_ccseg.tif', 'OAS1_0091_msp_ccseg.tif', 'OAS1_0043_msp_ccseg.tif', 'OAS1_0438_msp_ccseg.tif', 'OAS1_0074_MR1_60_ccseg.tif', 'OAS1_0068_MR1_69_ccseg.tif', 'OAS1_0032_MR1_66_ccseg.tif', 'OAS1_0058_MR1_65_ccseg.tif', 'OAS1_0020_MR1_64_ccseg.tif', 'OAS1_0301_msp_ccseg.tif', 'OAS1_0032_MR1_70_ccseg.tif', 'OAS1_0032_MR1_73_ccseg.tif', 'OAS1_0050_MR1_69_ccseg.tif', 'OAS1_0366_msp_ccseg.tif', 'OAS1_0010_MR1_70_ccseg.tif', 'OAS1_0050_MR1_66_ccseg.tif', 'OAS1_0007_MR1_64_ccseg.tif', 'OAS1_0043_MR1_62_ccseg.tif', 'OAS1_0064_msp_ccseg.tif', 'OAS1_0274_msp_ccseg.tif', 'OAS1_0062_MR1_64_ccseg.tif', 'OAS1_0035_MR1_62_ccseg.tif', 'OAS1_0072_MR1_61_ccseg.tif', 'OAS1_0055_MR1_69_ccseg.tif', 'OAS1_0227_msp_ccseg.tif', 'OAS1_0007_MR1_68_ccseg.tif', 'OAS1_0061_MR1_63_ccseg.tif', 'OAS1_0020_MR1_62_ccseg.tif', 'OAS1_0044_MR1_68_ccseg.tif', 'OAS1_0445_msp_ccseg.tif', 'OAS1_0064_MR1_65_ccseg.tif', 'OAS1_0060_MR1_61_ccseg.tif', 'OAS1_0018_MR1_69_ccseg.tif', 'OAS1_0381_msp_ccseg.tif', 'OAS1_0032_MR1_71_ccseg.tif', 'OAS1_0009_MR1_66_ccseg.tif', 'OAS1_0130_msp_ccseg.tif', 'OAS1_0071_MR1_61_ccseg.tif', 'OAS1_0429_msp_ccseg.tif', 'OAS1_0034_MR1_65_ccseg.tif', 'OAS1_0266_msp_ccseg.tif', 'OAS1_0041_MR1_69_ccseg.tif', 'OAS1_0020_MR1_68_ccseg.tif', 'OAS1_0015_MR1_63_ccseg.tif', 'OAS1_0065_MR1_65_ccseg.tif', 'OAS1_0017_MR1_62_ccseg.tif', 'OAS1_0250_msp_ccseg.tif', 'OAS1_0012_MR1_61_ccseg.tif', 'OAS1_0145_msp_ccseg.tif', 'OAS1_0025_MR1_61_ccseg.tif', 'OAS1_0177_msp_ccseg.tif', 'OAS1_0018_MR1_70_ccseg.tif', 'OAS1_0067_MR1_67_ccseg.tif', 'OAS1_0030_MR1_65_ccseg.tif', 'OAS1_0033_msp_ccseg.tif', 'OAS1_0074_MR1_63_ccseg.tif', 'OAS1_0156_msp_ccseg.tif', 'OAS1_0310_msp_ccseg.tif', 'OAS1_0079_MR1_63_ccseg.tif', 'OAS1_0054_MR1_63_ccseg.tif', 'OAS1_0186_msp_ccseg.tif', 'OAS1_0049_MR1_63_ccseg.tif', 'OAS1_0076_MR1_58_ccseg.tif', 'OAS1_0027_MR1_67_ccseg.tif', 'OAS1_0028_MR1_63_ccseg.tif', 'OAS1_0095_msp_ccseg.tif', 'OAS1_0332_msp_ccseg.tif', 'OAS1_0033_MR1_61_ccseg.tif', 'OAS1_0014_MR1_65_ccseg.tif', 'OAS1_0025_MR1_62_ccseg.tif', 'OAS1_0074_MR1_64_ccseg.tif', 'OAS1_0037_MR1_64_ccseg.tif', 'OAS1_0011_msp_ccseg.tif', 'OAS1_0153_msp_ccseg.tif', 'OAS1_0037_msp_ccseg.tif', 'OAS1_0057_MR1_68_ccseg.tif', 'OAS1_0005_MR1_63_ccseg.tif', 'OAS1_0081_msp_ccseg.tif', 'OAS1_0079_MR1_69_ccseg.tif', 'OAS1_0327_msp_ccseg.tif', 'OAS1_0068_MR1_62_ccseg.tif', 'OAS1_0065_MR1_64_ccseg.tif', 'OAS1_0065_MR1_63_ccseg.tif', 'OAS1_0258_msp_ccseg.tif', 'OAS1_0204_msp_ccseg.tif', 'OAS1_0032_MR1_67_ccseg.tif', 'OAS1_0455_msp_ccseg.tif', 'OAS1_0011_MR1_70_ccseg.tif', 'OAS1_0054_MR1_65_ccseg.tif', 'OAS1_0017_MR1_66_ccseg.tif', 'OAS1_0017_MR1_69_ccseg.tif', 'OAS1_0026_MR1_67_ccseg.tif', 'OAS1_0275_msp_ccseg.tif', 'OAS1_0069_MR1_68_ccseg.tif', 'OAS1_0045_MR1_63_ccseg.tif', 'OAS1_0012_MR1_65_ccseg.tif', 'OAS1_0003_MR1_64_ccseg.tif', 'OAS1_0044_MR1_64_ccseg.tif', 'OAS1_0033_MR1_63_ccseg.tif', 'OAS1_0348_msp_ccseg.tif', 'OAS1_0001_MR1_64_ccseg.tif', 'OAS1_0043_MR1_63_ccseg.tif', 'OAS1_0016_MR1_69_ccseg.tif', 'OAS1_0296_msp_ccseg.tif', 'OAS1_0047_msp_ccseg.tif', 'OAS1_0040_MR1_46_ccseg.tif', 'OAS1_0368_msp_ccseg.tif', 'OAS1_0017_MR1_64_ccseg.tif', 'OAS1_0002_MR1_63_ccseg.tif', 'OAS1_0378_msp_ccseg.tif', 'OAS1_0055_MR1_63_ccseg.tif', 'OAS1_0059_MR1_62_ccseg.tif', 'OAS1_0071_MR1_67_ccseg.tif', 'OAS1_0076_MR1_64_ccseg.tif', 'OAS1_0066_MR1_68_ccseg.tif', 'OAS1_0103_msp_ccseg.tif', 'OAS1_0249_msp_ccseg.tif', 'OAS1_0058_msp_ccseg.tif', 'OAS1_0037_MR1_66_ccseg.tif', 'OAS1_0075_MR1_66_ccseg.tif', 'OAS1_0057_MR1_67_ccseg.tif', 'OAS1_0375_msp_ccseg.tif', 'OAS1_0025_MR1_63_ccseg.tif', 'OAS1_0031_MR1_69_ccseg.tif', 'OAS1_0051_MR1_64_ccseg.tif', 'OAS1_0052_MR1_62_ccseg.tif', 'OAS1_0077_MR1_68_ccseg.tif', 'OAS1_0073_MR1_63_ccseg.tif', 'OAS1_0030_MR1_61_ccseg.tif', 'OAS1_0002_MR1_61_ccseg.tif', 'OAS1_0074_MR1_66_ccseg.tif', 'OAS1_0047_MR1_62_ccseg.tif', 'OAS1_0317_msp_ccseg.tif', 'OAS1_0029_MR1_62_ccseg.tif', 'OAS1_0016_MR1_64_ccseg.tif', 'OAS1_0060_MR1_66_ccseg.tif', 'OAS1_0030_MR1_68_ccseg.tif', 'OAS1_0292_msp_ccseg.tif', 'OAS1_0236_msp_ccseg.tif', 'OAS1_0039_MR1_64_ccseg.tif', 'OAS1_0277_msp_ccseg.tif', 'OAS1_0022_MR1_59_ccseg.tif', 'OAS1_0030_MR1_63_ccseg.tif', 'OAS1_0039_MR1_65_ccseg.tif', 'OAS1_0021_MR1_71_ccseg.tif', 'OAS1_0010_MR1_67_ccseg.tif', 'OAS1_0016_MR1_68_ccseg.tif', 'OAS1_0069_msp_ccseg.tif', 'OAS1_0117_msp_ccseg.tif', 'OAS1_0101_msp_ccseg.tif', 'OAS1_0005_MR1_66_ccseg.tif', 'OAS1_0074_MR1_62_ccseg.tif', 'OAS1_0133_msp_ccseg.tif', 'OAS1_0110_msp_ccseg.tif', 'OAS1_0069_MR1_65_ccseg.tif', 'OAS1_0035_MR1_66_ccseg.tif', 'OAS1_0004_MR1_63_ccseg.tif', 'OAS1_0406_msp_ccseg.tif', 'OAS1_0064_MR1_63_ccseg.tif', 'OAS1_0064_MR1_66_ccseg.tif', 'OAS1_0078_MR1_61_ccseg.tif', 'OAS1_0020_MR1_61_ccseg.tif', 'OAS1_0039_MR1_66_ccseg.tif', 'OAS1_0087_msp_ccseg.tif', 'OAS1_0001_msp_ccseg.tif', 'OAS1_0073_MR1_65_ccseg.tif', 'OAS1_0067_MR1_62_ccseg.tif', 'OAS1_0289_msp_ccseg.tif', 'OAS1_0032_MR1_72_ccseg.tif', 'OAS1_0007_MR1_67_ccseg.tif', 'OAS1_0063_MR1_66_ccseg.tif', 'OAS1_0052_MR1_64_ccseg.tif', 'OAS1_0066_MR1_66_ccseg.tif', 'OAS1_0448_msp_ccseg.tif', 'OAS1_0072_MR1_69_ccseg.tif', 'OAS1_0075_msp_ccseg.tif', 'OAS1_0041_MR1_68_ccseg.tif', 'OAS1_0004_MR1_69_ccseg.tif', 'OAS1_0043_MR1_68_ccseg.tif', 'OAS1_0013_msp_ccseg.tif', 'OAS1_0004_MR1_65_ccseg.tif', 'OAS1_0004_MR1_68_ccseg.tif', 'OAS1_0183_msp_ccseg.tif', 'OAS1_0365_msp_ccseg.tif', 'OAS1_0003_MR1_66_ccseg.tif', 'OAS1_0068_MR1_70_ccseg.tif', 'OAS1_0019_MR1_65_ccseg.tif', 'OAS1_0037_MR1_65_ccseg.tif', 'OAS1_0067_MR1_64_ccseg.tif', 'OAS1_0006_MR1_60_ccseg.tif', 'OAS1_0353_msp_ccseg.tif', 'OAS1_0074_MR1_67_ccseg.tif', 'OAS1_0078_MR1_64_ccseg.tif', 'OAS1_0321_msp_ccseg.tif', 'OAS1_0136_msp_ccseg.tif', 'OAS1_0295_msp_ccseg.tif', 'OAS1_0127_msp_ccseg.tif', 'OAS1_0007_MR1_65_ccseg.tif', 'OAS1_0067_MR1_61_ccseg.tif', 'OAS1_0433_msp_ccseg.tif', 'OAS1_0035_MR1_63_ccseg.tif', 'OAS1_0337_msp_ccseg.tif', 'OAS1_0022_MR1_63_ccseg.tif', 'OAS1_0069_MR1_60_ccseg.tif', 'OAS1_0028_MR1_70_ccseg.tif', 'OAS1_0004_MR1_62_ccseg.tif', 'OAS1_0021_MR1_67_ccseg.tif', 'OAS1_0006_MR1_67_ccseg.tif', 'OAS1_0071_MR1_63_ccseg.tif', 'OAS1_0003_MR1_67_ccseg.tif', 'OAS1_0371_msp_ccseg.tif', 'OAS1_0078_MR1_63_ccseg.tif', 'OAS1_0061_MR1_62_ccseg.tif', 'OAS1_0055_MR1_68_ccseg.tif', 'OAS1_0034_MR1_61_ccseg.tif', 'OAS1_0033_MR1_64_ccseg.tif', 'OAS1_0013_MR1_66_ccseg.tif', 'OAS1_0071_MR1_69_ccseg.tif', 'OAS1_0009_MR1_67_ccseg.tif', 'OAS1_0002_MR1_66_ccseg.tif', 'OAS1_0068_MR1_65_ccseg.tif', 'OAS1_0009_MR1_63_ccseg.tif', 'OAS1_0078_MR1_60_ccseg.tif', 'OAS1_0020_MR1_63_ccseg.tif', 'OAS1_0040_msp_ccseg.tif', 'OAS1_0015_MR1_66_ccseg.tif', 'OAS1_0031_MR1_65_ccseg.tif', 'OAS1_0017_MR1_61_ccseg.tif', 'OAS1_0075_MR1_63_ccseg.tif', 'OAS1_0067_MR1_60_ccseg.tif', 'OAS1_0002_msp_ccseg.tif', 'OAS1_0160_msp_ccseg.tif', 'OAS1_0033_MR1_69_ccseg.tif', 'OAS1_0045_MR1_66_ccseg.tif', 'OAS1_0020_MR1_67_ccseg.tif', 'OAS1_0370_msp_ccseg.tif', 'OAS1_0049_MR1_64_ccseg.tif', 'OAS1_0051_MR1_68_ccseg.tif', 'OAS1_0025_MR1_68_ccseg.tif', 'OAS1_0181_msp_ccseg.tif', 'OAS1_0039_MR1_68_ccseg.tif', 'OAS1_0065_MR1_69_ccseg.tif', 'OAS1_0010_MR1_69_ccseg.tif', 'OAS1_0039_MR1_67_ccseg.tif', 'OAS1_0019_MR1_60_ccseg.tif', 'OAS1_0011_MR1_67_ccseg.tif', 'OAS1_0002_MR1_65_ccseg.tif', 'OAS1_0203_msp_ccseg.tif', 'OAS1_0063_msp_ccseg.tif', 'OAS1_0167_msp_ccseg.tif', 'OAS1_0029_MR1_65_ccseg.tif', 'OAS1_0076_MR1_66_ccseg.tif', 'OAS1_0023_MR1_62_ccseg.tif', 'OAS1_0431_msp_ccseg.tif', 'OAS1_0028_MR1_68_ccseg.tif', 'OAS1_0072_MR1_64_ccseg.tif', 'OAS1_0005_MR1_65_ccseg.tif', 'OAS1_0060_MR1_68_ccseg.tif', 'OAS1_0046_MR1_70_ccseg.tif', 'OAS1_0106_msp_ccseg.tif', 'OAS1_0040_MR1_48_ccseg.tif', 'OAS1_0038_MR1_68_ccseg.tif', 'OAS1_0043_MR1_66_ccseg.tif', 'OAS1_0011_MR1_68_ccseg.tif', 'OAS1_0063_MR1_68_ccseg.tif', 'OAS1_0025_MR1_65_ccseg.tif', 'OAS1_0077_MR1_62_ccseg.tif', 'OAS1_0041_MR1_67_ccseg.tif', 'OAS1_0299_msp_ccseg.tif', 'OAS1_0075_MR1_68_ccseg.tif', 'OAS1_0012_MR1_67_ccseg.tif', 'OAS1_0349_msp_ccseg.tif', 'OAS1_0071_MR1_65_ccseg.tif', 'OAS1_0077_MR1_66_ccseg.tif', 'OAS1_0009_MR1_59_ccseg.tif', 'OAS1_0057_MR1_62_ccseg.tif', 'OAS1_0078_msp_ccseg.tif', 'OAS1_0051_MR1_66_ccseg.tif', 'OAS1_0407_msp_ccseg.tif', 'OAS1_0050_MR1_68_ccseg.tif', 'OAS1_0017_msp_ccseg.tif', 'OAS1_0244_msp_ccseg.tif', 'OAS1_0044_MR1_66_ccseg.tif', 'OAS1_0053_MR1_66_ccseg.tif', 'OAS1_0015_MR1_65_ccseg.tif', 'OAS1_0055_MR1_66_ccseg.tif', 'OAS1_0031_MR1_63_ccseg.tif', 'OAS1_0426_msp_ccseg.tif', 'OAS1_0034_MR1_67_ccseg.tif', 'OAS1_0209_msp_ccseg.tif', 'OAS1_0050_MR1_70_ccseg.tif', 'OAS1_0070_MR1_67_ccseg.tif', 'OAS1_0052_MR1_67_ccseg.tif', 'OAS1_0060_MR1_63_ccseg.tif', 'OAS1_0059_MR1_64_ccseg.tif', 'OAS1_0009_MR1_64_ccseg.tif', 'OAS1_0002_MR1_68_ccseg.tif', 'OAS1_0080_MR1_62_ccseg.tif', 'OAS1_0038_MR1_65_ccseg.tif', 'OAS1_0072_MR1_62_ccseg.tif', 'OAS1_0080_MR1_66_ccseg.tif', 'OAS1_0354_msp_ccseg.tif', 'OAS1_0065_MR1_62_ccseg.tif', 'OAS1_0076_MR1_63_ccseg.tif', 'OAS1_0075_MR1_62_ccseg.tif', 'OAS1_0063_MR1_63_ccseg.tif', 'OAS1_0044_MR1_65_ccseg.tif', 'OAS1_0057_MR1_63_ccseg.tif', 'OAS1_0070_MR1_69_ccseg.tif', 'OAS1_0200_msp_ccseg.tif', 'OAS1_0396_msp_ccseg.tif', 'OAS1_0279_msp_ccseg.tif', 'OAS1_0046_MR1_67_ccseg.tif', 'OAS1_0444_msp_ccseg.tif', 'OAS1_0020_MR1_66_ccseg.tif', 'OAS1_0026_MR1_68_ccseg.tif', 'OAS1_0007_MR1_61_ccseg.tif', 'OAS1_0075_MR1_65_ccseg.tif', 'OAS1_0256_msp_ccseg.tif', 'OAS1_0034_msp_ccseg.tif', 'OAS1_0003_MR1_59_ccseg.tif', 'OAS1_0322_msp_ccseg.tif', 'OAS1_0013_MR1_64_ccseg.tif', 'OAS1_0003_MR1_63_ccseg.tif', 'OAS1_0040_MR1_43_ccseg.tif', 'OAS1_0284_msp_ccseg.tif', 'OAS1_0208_msp_ccseg.tif', 'OAS1_0039_MR1_63_ccseg.tif', 'OAS1_0162_msp_ccseg.tif', 'OAS1_0015_MR1_68_ccseg.tif', 'OAS1_0017_MR1_65_ccseg.tif', 'OAS1_0027_MR1_65_ccseg.tif', 'OAS1_0056_MR1_68_ccseg.tif', 'OAS1_0333_msp_ccseg.tif', 'OAS1_0023_MR1_66_ccseg.tif', 'OAS1_0025_MR1_64_ccseg.tif', 'OAS1_0025_msp_ccseg.tif', 'OAS1_0439_msp_ccseg.tif', 'OAS1_0004_MR1_64_ccseg.tif', 'OAS1_0066_MR1_64_ccseg.tif', 'OAS1_0031_MR1_61_ccseg.tif', 'OAS1_0058_MR1_69_ccseg.tif', 'OAS1_0010_MR1_68_ccseg.tif', 'OAS1_0075_MR1_64_ccseg.tif', 'OAS1_0358_msp_ccseg.tif', 'OAS1_0072_MR1_63_ccseg.tif', 'OAS1_0012_MR1_62_ccseg.tif', 'OAS1_0071_msp_ccseg.tif', 'OAS1_0416_msp_ccseg.tif', 'OAS1_0254_msp_ccseg.tif', 'OAS1_0013_MR1_68_ccseg.tif', 'OAS1_0025_MR1_66_ccseg.tif']\n",
            "Contents of organized_oasis/brain_images: ['OAS1_0294_msp.tif', 'OAS1_0141_msp.tif', 'OAS1_0256_msp.tif', 'OAS1_0218_msp.tif', 'OAS1_0038_msp.tif', 'OAS1_0222_msp.tif', 'OAS1_0051_msp.tif', 'OAS1_0229_msp.tif', 'OAS1_0258_msp.tif', 'OAS1_0448_msp.tif', 'OAS1_0236_msp.tif', 'OAS1_0410_msp.tif', 'OAS1_0068_msp.tif', 'OAS1_0330_msp.tif', 'OAS1_0001_msp.tif', 'OAS1_0079_msp.tif', 'OAS1_0378_msp.tif', 'OAS1_0214_msp.tif', 'OAS1_0319_msp.tif', 'OAS1_0270_msp.tif', 'OAS1_0197_msp.tif', 'OAS1_0151_msp.tif', 'OAS1_0030_msp.tif', 'OAS1_0317_msp.tif', 'OAS1_0208_msp.tif', 'OAS1_0006_msp.tif', 'OAS1_0180_msp.tif', 'OAS1_0095_msp.tif', 'OAS1_0086_msp.tif', 'OAS1_0113_msp.tif', 'OAS1_0009_msp.tif', 'OAS1_0340_msp.tif', 'OAS1_0183_msp.tif', 'OAS1_0011_msp.tif', 'OAS1_0014_msp.tif', 'OAS1_0406_msp.tif', 'OAS1_0202_msp.tif', 'OAS1_0361_msp.tif', 'OAS1_0285_msp.tif', 'OAS1_0133_msp.tif', 'OAS1_0299_msp.tif', 'OAS1_0367_msp.tif', 'OAS1_0199_msp.tif', 'OAS1_0114_msp.tif', 'OAS1_0350_msp.tif', 'OAS1_0337_msp.tif', 'OAS1_0168_msp.tif', 'OAS1_0249_msp.tif', 'OAS1_0061_msp.tif', 'OAS1_0279_msp.tif', 'OAS1_0010_msp.tif', 'OAS1_0311_msp.tif', 'OAS1_0186_msp.tif', 'OAS1_0106_msp.tif', 'OAS1_0032_msp.tif', 'OAS1_0455_msp.tif', 'OAS1_0163_msp.tif', 'OAS1_0099_msp.tif', 'OAS1_0224_msp.tif', 'OAS1_0221_msp.tif', 'OAS1_0408_msp.tif', 'OAS1_0047_msp.tif', 'OAS1_0146_msp.tif', 'OAS1_0381_msp.tif', 'OAS1_0148_msp.tif', 'OAS1_0456_msp.tif', 'OAS1_0457_msp.tif', 'OAS1_0332_msp.tif', 'OAS1_0259_msp.tif', 'OAS1_0178_msp.tif', 'OAS1_0313_msp.tif', 'OAS1_0419_msp.tif', 'OAS1_0275_msp.tif', 'OAS1_0007_msp.tif', 'OAS1_0357_msp.tif', 'OAS1_0121_msp.tif', 'OAS1_0054_msp.tif', 'OAS1_0284_msp.tif', 'OAS1_0401_msp.tif', 'OAS1_0044_msp.tif', 'OAS1_0431_msp.tif', 'OAS1_0358_msp.tif', 'OAS1_0395_msp.tif', 'OAS1_0327_msp.tif', 'OAS1_0325_msp.tif', 'OAS1_0376_msp.tif', 'OAS1_0323_msp.tif', 'OAS1_0301_msp.tif', 'OAS1_0235_msp.tif', 'OAS1_0116_msp.tif', 'OAS1_0433_msp.tif', 'OAS1_0213_msp.tif', 'OAS1_0117_msp.tif', 'OAS1_0355_msp.tif', 'OAS1_0227_msp.tif', 'OAS1_0004_msp.tif', 'OAS1_0138_msp.tif', 'OAS1_0237_msp.tif', 'OAS1_0156_msp.tif', 'OAS1_0445_msp.tif', 'OAS1_0017_msp.tif', 'OAS1_0096_msp.tif', 'OAS1_0192_msp.tif', 'OAS1_0434_msp.tif', 'OAS1_0359_msp.tif', 'OAS1_0383_msp.tif', 'OAS1_0111_msp.tif', 'OAS1_0195_msp.tif', 'OAS1_0409_msp.tif', 'OAS1_0416_msp.tif', 'OAS1_0029_msp.tif', 'OAS1_0080_msp.tif', 'OAS1_0173_msp.tif', 'OAS1_0088_msp.tif', 'OAS1_0322_msp.tif', 'OAS1_0097_msp.tif', 'OAS1_0302_msp.tif', 'OAS1_0354_msp.tif', 'OAS1_0191_msp.tif', 'OAS1_0241_msp.tif', 'OAS1_0446_msp.tif', 'OAS1_0333_msp.tif', 'OAS1_0112_msp.tif', 'OAS1_0087_msp.tif', 'OAS1_0331_msp.tif', 'OAS1_0152_msp.tif', 'OAS1_0375_msp.tif', 'OAS1_0244_msp.tif', 'OAS1_0289_msp.tif', 'OAS1_0397_msp.tif', 'OAS1_0232_msp.tif', 'OAS1_0119_msp.tif', 'OAS1_0265_msp.tif', 'OAS1_0346_msp.tif', 'OAS1_0209_msp.tif', 'OAS1_0091_msp.tif', 'OAS1_0295_msp.tif', 'OAS1_0153_msp.tif', 'OAS1_0160_msp.tif', 'OAS1_0438_msp.tif', 'OAS1_0293_msp.tif', 'OAS1_0002_msp.tif', 'OAS1_0385_msp.tif', 'OAS1_0050_msp.tif', 'OAS1_0200_msp.tif', 'OAS1_0176_msp.tif', 'OAS1_0102_msp.tif', 'OAS1_0423_msp.tif', 'OAS1_0190_msp.tif', 'OAS1_0246_msp.tif', 'OAS1_0262_msp.tif', 'OAS1_0012_msp.tif', 'OAS1_0127_msp.tif', 'OAS1_0277_msp.tif', 'OAS1_0174_msp.tif', 'OAS1_0169_msp.tif', 'OAS1_0321_msp.tif', 'OAS1_0404_msp.tif', 'OAS1_0281_msp.tif', 'OAS1_0069_msp.tif', 'OAS1_0261_msp.tif', 'OAS1_0394_msp.tif', 'OAS1_0396_msp.tif', 'OAS1_0057_msp.tif', 'OAS1_0442_msp.tif', 'OAS1_0167_msp.tif', 'OAS1_0027_msp.tif', 'OAS1_0157_msp.tif', 'OAS1_0072_msp.tif', 'OAS1_0336_msp.tif', 'OAS1_0231_msp.tif', 'OAS1_0216_msp.tif', 'OAS1_0070_msp.tif', 'OAS1_0421_msp.tif', 'OAS1_0328_msp.tif', 'OAS1_0450_msp.tif', 'OAS1_0083_msp.tif', 'OAS1_0063_msp.tif', 'OAS1_0181_msp.tif', 'OAS1_0264_msp.tif', 'OAS1_0365_msp.tif', 'OAS1_0058_msp.tif', 'OAS1_0193_msp.tif', 'OAS1_0103_msp.tif', 'OAS1_0439_msp.tif', 'OAS1_0274_msp.tif', 'OAS1_0105_msp.tif', 'OAS1_0377_msp.tif', 'OAS1_0338_msp.tif', 'OAS1_0255_msp.tif', 'OAS1_0254_msp.tif', 'OAS1_0064_msp.tif', 'OAS1_0055_msp.tif', 'OAS1_0126_msp.tif', 'OAS1_0422_msp.tif', 'OAS1_0303_msp.tif', 'OAS1_0104_msp.tif', 'OAS1_0413_msp.tif', 'OAS1_0129_msp.tif', 'OAS1_0435_msp.tif', 'OAS1_0145_msp.tif', 'OAS1_0207_msp.tif', 'OAS1_0013_msp.tif', 'OAS1_0310_msp.tif', 'OAS1_0437_msp.tif', 'OAS1_0353_msp.tif', 'OAS1_0341_msp.tif', 'OAS1_0109_msp.tif', 'OAS1_0162_msp.tif', 'OAS1_0131_msp.tif', 'OAS1_0090_msp.tif', 'OAS1_0345_msp.tif', 'OAS1_0110_msp.tif', 'OAS1_0220_msp.tif', 'OAS1_0085_msp.tif', 'OAS1_0144_msp.tif', 'OAS1_0349_msp.tif', 'OAS1_0392_msp.tif', 'OAS1_0165_msp.tif', 'OAS1_0443_msp.tif', 'OAS1_0019_msp.tif', 'OAS1_0211_msp.tif', 'OAS1_0005_msp.tif', 'OAS1_0033_msp.tif', 'OAS1_0203_msp.tif', 'OAS1_0283_msp.tif', 'OAS1_0379_msp.tif', 'OAS1_0206_msp.tif', 'OAS1_0108_msp.tif', 'OAS1_0356_msp.tif', 'OAS1_0025_msp.tif', 'OAS1_0018_msp.tif', 'OAS1_0292_msp.tif', 'OAS1_0234_msp.tif', 'OAS1_0282_msp.tif', 'OAS1_0344_msp.tif', 'OAS1_0407_msp.tif', 'OAS1_0426_msp.tif', 'OAS1_0309_msp.tif', 'OAS1_0239_msp.tif', 'OAS1_0198_msp.tif', 'OAS1_0037_msp.tif', 'OAS1_0417_msp.tif', 'OAS1_0101_msp.tif', 'OAS1_0398_msp.tif', 'OAS1_0318_msp.tif', 'OAS1_0045_msp.tif', 'OAS1_0182_msp.tif', 'OAS1_0159_msp.tif', 'OAS1_0228_msp.tif', 'OAS1_0386_msp.tif', 'OAS1_0371_msp.tif', 'OAS1_0296_msp.tif', 'OAS1_0150_msp.tif', 'OAS1_0135_msp.tif', 'OAS1_0429_msp.tif', 'OAS1_0305_msp.tif', 'OAS1_0280_msp.tif', 'OAS1_0250_msp.tif', 'OAS1_0314_msp.tif', 'OAS1_0020_msp.tif', 'OAS1_0107_msp.tif', 'OAS1_0271_msp.tif', 'OAS1_0170_msp.tif', 'OAS1_0201_msp.tif', 'OAS1_0034_msp.tif', 'OAS1_0212_msp.tif', 'OAS1_0372_msp.tif', 'OAS1_0260_msp.tif', 'OAS1_0449_msp.tif', 'OAS1_0092_msp.tif', 'OAS1_0140_msp.tif', 'OAS1_0062_msp.tif', 'OAS1_0369_msp.tif', 'OAS1_0403_msp.tif', 'OAS1_0040_msp.tif', 'OAS1_0081_msp.tif', 'OAS1_0043_msp.tif', 'OAS1_0342_msp.tif', 'OAS1_0370_msp.tif', 'OAS1_0348_msp.tif', 'OAS1_0026_msp.tif', 'OAS1_0253_msp.tif', 'OAS1_0189_msp.tif', 'OAS1_0059_msp.tif', 'OAS1_0415_msp.tif', 'OAS1_0130_msp.tif', 'OAS1_0366_msp.tif', 'OAS1_0326_msp.tif', 'OAS1_0071_msp.tif', 'OAS1_0065_msp.tif', 'OAS1_0147_msp.tif', 'OAS1_0177_msp.tif', 'OAS1_0428_msp.tif', 'OAS1_0078_msp.tif', 'OAS1_0136_msp.tif', 'OAS1_0075_msp.tif', 'OAS1_0368_msp.tif', 'OAS1_0139_msp.tif', 'OAS1_0384_msp.tif', 'OAS1_0363_msp.tif', 'OAS1_0230_msp.tif', 'OAS1_0420_msp.tif', 'OAS1_0125_msp.tif', 'OAS1_0444_msp.tif', 'OAS1_0132_msp.tif', 'OAS1_0049_msp.tif', 'OAS1_0389_msp.tif', 'OAS1_0204_msp.tif', 'OAS1_0076_msp.tif', 'OAS1_0266_msp.tif', 'OAS1_0387_msp.tif', 'OAS1_0074_msp.tif', 'OAS1_0188_msp.tif', 'OAS1_0343_msp.tif', 'OAS1_0077_msp.tif']\n"
          ]
        }
      ]
    },
    {
      "cell_type": "markdown",
      "source": [
        "\n",
        "This code defines a function called organize_oasis_images that takes as input a source folder containing image files and organizes them into two subfolders, cc_images and brain_images, within a specified destination folder. The function uses regular expressions for flexible pattern matching on filenames to identify whether an image corresponds to corpus callosum segmentation (_ccseg.tif) or a brain image (_msp.tif). The identified images are then moved to their respective subfolders, and the resulting directory structure is printed, showing the contents of the cc_images and brain_images folders within the organized oasis directory. Overall, this code facilitates the organization of Oasis dataset images based on specific patterns in their filenames, making it easier to manage and process the data for subsequent tasks."
      ],
      "metadata": {
        "id": "6lJwn1EPScEy"
      },
      "id": "6lJwn1EPScEy"
    },
    {
      "cell_type": "code",
      "source": [
        "import os\n",
        "import cv2\n",
        "import math\n",
        "import numpy as np\n",
        "\n",
        "def normalize_coordinates(x, y, width, height, image_width, image_height):\n",
        "    # Normalize coordinates to values between 0 and 1\n",
        "    x_normalized = x / image_width\n",
        "    y_normalized = y / image_height\n",
        "    width_normalized = width / image_width\n",
        "    height_normalized = height / image_height\n",
        "    return x_normalized, y_normalized, width_normalized, height_normalized\n",
        "\n",
        "def preprocess_image(image):\n",
        "    # Resize the image to a fixed size (e.g., 224x224)\n",
        "    target_size = (224, 224)\n",
        "    resized_image = cv2.resize(image, target_size)\n",
        "\n",
        "    # Normalize pixel values to the range [0, 1]\n",
        "    normalized_image = (resized_image * 255).astype(np.uint8)  # Convert back to uint8\n",
        "\n",
        "    # Convert the image to grayscale (assuming the original image is color)\n",
        "    grayscale_image = cv2.cvtColor(normalized_image, cv2.COLOR_BGR2GRAY)\n",
        "\n",
        "    return grayscale_image\n",
        "\n",
        "\n",
        "def detectPositionsOfSquare(image):\n",
        "    # Check the number of channels in the image\n",
        "    num_channels = image.shape[-1] if len(image.shape) == 3 else 1\n",
        "\n",
        "    if num_channels == 1:\n",
        "        # If the image is already single-channel (grayscale), use it directly\n",
        "        corpus_callosum_image_gray = image\n",
        "    elif num_channels == 3:\n",
        "        # If the image is three-channel (BGR), convert it to grayscale\n",
        "        corpus_callosum_image_gray = cv2.cvtColor(image, cv2.COLOR_BGR2GRAY)\n",
        "    else:\n",
        "        raise ValueError(\"Invalid number of channels in input image\")\n",
        "\n",
        "    # Thresholding image\n",
        "    _, th2 = cv2.threshold(corpus_callosum_image_gray, 0, 255, cv2.THRESH_BINARY + cv2.THRESH_OTSU)\n",
        "\n",
        "    # Finding and drawing contours\n",
        "    contours, _ = cv2.findContours(th2, cv2.RETR_LIST, cv2.CHAIN_APPROX_NONE)\n",
        "\n",
        "    if len(contours) > 0:\n",
        "        # Take the first contour as the corpus callosum contour\n",
        "        corpus_callosum_contour = contours[0]\n",
        "        x_cc, y_cc, w_cc, h_cc = cv2.boundingRect(corpus_callosum_contour)\n",
        "\n",
        "        return x_cc, y_cc, w_cc, h_cc\n",
        "    else:\n",
        "        print(\"No contour found for the corpus callosum.\")\n",
        "        return 0, 0, 0, 0\n",
        "\n",
        "\n",
        "\n",
        "def process_images(dataset_folder, output_folder):\n",
        "    brain_images_path = os.path.join(dataset_folder, \"brain_images\")\n",
        "    cc_coordinates_path = os.path.join(dataset_folder, \"labels\")\n",
        "\n",
        "    # Ensure the \"labels\" directory exists, and if not, create it\n",
        "    if not os.path.exists(cc_coordinates_path):\n",
        "        os.makedirs(cc_coordinates_path)\n",
        "\n",
        "    for brain_image_name in os.listdir(brain_images_path):\n",
        "        # Step 2: Load brain image\n",
        "        brain_image_path = os.path.join(brain_images_path, brain_image_name)\n",
        "        brain_image = cv2.imread(brain_image_path)\n",
        "\n",
        "        # Step 3: Preprocess the image\n",
        "        preprocessed_image = preprocess_image(brain_image)\n",
        "\n",
        "        # Step 4: Detect corpus callosum and get bounding box coordinates\n",
        "        x, y, width, height = detectPositionsOfSquare(preprocessed_image)\n",
        "\n",
        "        # Step 5: Normalize coordinates\n",
        "        image_height, image_width = preprocessed_image.shape\n",
        "        x_normalized, y_normalized, width_normalized, height_normalized = normalize_coordinates(\n",
        "            x, y, width, height, image_width, image_height\n",
        "        )\n",
        "\n",
        "        # Step 6: Generate label file\n",
        "        label_file_path = os.path.join(cc_coordinates_path, os.path.splitext(brain_image_name)[0] + \".txt\")\n",
        "        with open(label_file_path, \"w\") as label_file:\n",
        "            label_file.write(f\"0 {x_normalized} {y_normalized} {width_normalized} {height_normalized}\")\n",
        "\n",
        "# Example usage for Abide dataset\n",
        "dataset_folder_abide = \"/content/organized_abide\"\n",
        "output_folder_abide = \"/content/abide_labels\"\n",
        "process_images(dataset_folder_abide, output_folder_abide)\n",
        "\n",
        "# Example usage for Oasis dataset\n",
        "dataset_folder_oasis = \"/content/organized_oasis\"\n",
        "output_folder_oasis = \"/content/oasis_labels\"\n",
        "process_images(dataset_folder_oasis, output_folder_oasis)\n"
      ],
      "metadata": {
        "id": "pGisFu02AowF"
      },
      "id": "pGisFu02AowF",
      "execution_count": 12,
      "outputs": []
    },
    {
      "cell_type": "markdown",
      "source": [
        "\n",
        "The given code defines a set of functions for preprocessing and extracting the bounding box coordinates of the corpus callosum in brain images. The normalize_coordinates function scales the bounding box coordinates to values between 0 and 1. The preprocess_image function resizes the input image to a fixed size, normalizes pixel values to the range [0, 1], and converts the image to grayscale. The detectPositionsOfSquare function applies thresholding, finds contours, and identifies the bounding box coordinates of the corpus callosum. The process_images function iterates through a dataset of brain images, preprocesses each image, detects the corpus callosum, normalizes coordinates, and generates label files containing the normalized bounding box information. The script demonstrates the usage of these functions for both the ABIDE and Oasis datasets, organizing the output labels into specified folders. Overall, this script automates the extraction and normalization of corpus callosum bounding box coordinates for further use in neural network training."
      ],
      "metadata": {
        "id": "US_7_EGuDVru"
      },
      "id": "US_7_EGuDVru"
    },
    {
      "cell_type": "code",
      "source": [
        "# For Abide dataset\n",
        "dataset_folder_abide = \"/content/organized_abide\"\n",
        "brain_images_abide = os.listdir(os.path.join(dataset_folder_abide, \"brain_images\"))\n",
        "cc_coordinates_abide = os.listdir(os.path.join(dataset_folder_abide, \"labels\"))\n",
        "\n",
        "print(f\"Length of brain images folder (Abide): {len(brain_images_abide)}\")\n",
        "print(f\"Length of corpus callosum labels (Abide): {len(cc_coordinates_abide)}\")\n",
        "\n",
        "# Accessing specific indices\n",
        "index_to_access_abide = 432\n",
        "if 0 <= index_to_access_abide < len(brain_images_abide) and 0 <= index_to_access_abide < len(cc_coordinates_abide):\n",
        "    print(f\"Abide: {brain_images_abide[index_to_access_abide]}, {cc_coordinates_abide[index_to_access_abide]}\")\n",
        "else:\n",
        "    print(\"Index out of range for Abide dataset.\")\n",
        "\n",
        "# For Oasis dataset\n",
        "dataset_folder_oasis = \"/content/organized_oasis\"\n",
        "brain_images_oasis = os.listdir(os.path.join(dataset_folder_oasis, \"brain_images\"))\n",
        "cc_coordinates_oasis = os.listdir(os.path.join(dataset_folder_oasis, \"labels\"))\n",
        "\n",
        "print(f\"Length of brain images folder (Oasis): {len(brain_images_oasis)}\")\n",
        "print(f\"Length of corpus callosum labels (Oasis): {len(cc_coordinates_oasis)}\")\n",
        "\n",
        "# Accessing specific indices\n",
        "index_to_access_oasis = 150  # Adjust this index based on the actual length of Oasis datasets\n",
        "if 0 <= index_to_access_oasis < len(brain_images_oasis) and 0 <= index_to_access_oasis < len(cc_coordinates_oasis):\n",
        "    print(f\"Oasis: {brain_images_oasis[index_to_access_oasis]}, {cc_coordinates_oasis[index_to_access_oasis]}\")\n",
        "else:\n",
        "    print(\"Index out of range for Oasis dataset.\")\n"
      ],
      "metadata": {
        "colab": {
          "base_uri": "https://localhost:8080/"
        },
        "id": "opvY353zAo0r",
        "outputId": "b9c8e278-e87b-4095-adb7-044ac2d6a456"
      },
      "id": "opvY353zAo0r",
      "execution_count": 13,
      "outputs": [
        {
          "output_type": "stream",
          "name": "stdout",
          "text": [
            "Length of brain images folder (Abide): 1100\n",
            "Length of corpus callosum labels (Abide): 1100\n",
            "Abide: Leuven_2_0050744_abide_msp.tiff, UM_1_0050306_abide_msp.txt\n",
            "Length of brain images folder (Oasis): 316\n",
            "Length of corpus callosum labels (Oasis): 316\n",
            "Oasis: OAS1_0262_msp.tif, OAS1_0069_msp.txt\n"
          ]
        }
      ]
    },
    {
      "cell_type": "markdown",
      "source": [
        "The provided code assesses and prints information about the lengths of brain image and corpus callosum label folders for both the ABIDE and Oasis datasets. It also accesses and prints specific indices within these datasets, ensuring the indices are within a valid range. For the ABIDE dataset, it prints the length of brain images and corpus callosum labels folders, and it accesses and displays information for a specific index. The same process is repeated for the Oasis dataset. The script offers insights into the dataset sizes and allows for verification of individual entries, aiding in dataset exploration and debugging."
      ],
      "metadata": {
        "id": "bqBBk0HfDfGQ"
      },
      "id": "bqBBk0HfDfGQ"
    },
    {
      "cell_type": "code",
      "source": [
        "!pip install yolov5\n"
      ],
      "metadata": {
        "colab": {
          "base_uri": "https://localhost:8080/"
        },
        "id": "3RdEQjtgAo-H",
        "outputId": "44a72f1d-0fbe-443b-fcaa-a0159485efc9"
      },
      "id": "3RdEQjtgAo-H",
      "execution_count": 14,
      "outputs": [
        {
          "output_type": "stream",
          "name": "stdout",
          "text": [
            "Requirement already satisfied: yolov5 in /usr/local/lib/python3.10/dist-packages (7.0.13)\n",
            "Requirement already satisfied: gitpython>=3.1.30 in /usr/local/lib/python3.10/dist-packages (from yolov5) (3.1.40)\n",
            "Requirement already satisfied: matplotlib>=3.3 in /usr/local/lib/python3.10/dist-packages (from yolov5) (3.7.1)\n",
            "Requirement already satisfied: numpy>=1.18.5 in /usr/local/lib/python3.10/dist-packages (from yolov5) (1.23.5)\n",
            "Requirement already satisfied: opencv-python>=4.1.1 in /usr/local/lib/python3.10/dist-packages (from yolov5) (4.7.0.72)\n",
            "Requirement already satisfied: Pillow>=7.1.2 in /usr/local/lib/python3.10/dist-packages (from yolov5) (9.4.0)\n",
            "Requirement already satisfied: psutil in /usr/local/lib/python3.10/dist-packages (from yolov5) (5.9.5)\n",
            "Requirement already satisfied: PyYAML>=5.3.1 in /usr/local/lib/python3.10/dist-packages (from yolov5) (6.0.1)\n",
            "Requirement already satisfied: requests>=2.23.0 in /usr/local/lib/python3.10/dist-packages (from yolov5) (2.31.0)\n",
            "Requirement already satisfied: scipy>=1.4.1 in /usr/local/lib/python3.10/dist-packages (from yolov5) (1.11.4)\n",
            "Requirement already satisfied: thop>=0.1.1 in /usr/local/lib/python3.10/dist-packages (from yolov5) (0.1.1.post2209072238)\n",
            "Requirement already satisfied: torch>=1.7.0 in /usr/local/lib/python3.10/dist-packages (from yolov5) (2.1.0+cu121)\n",
            "Requirement already satisfied: torchvision>=0.8.1 in /usr/local/lib/python3.10/dist-packages (from yolov5) (0.16.0+cu121)\n",
            "Requirement already satisfied: tqdm>=4.64.0 in /usr/local/lib/python3.10/dist-packages (from yolov5) (4.66.1)\n",
            "Requirement already satisfied: ultralytics>=8.0.100 in /usr/local/lib/python3.10/dist-packages (from yolov5) (8.0.236)\n",
            "Requirement already satisfied: tensorboard>=2.4.1 in /usr/local/lib/python3.10/dist-packages (from yolov5) (2.12.0)\n",
            "Requirement already satisfied: pandas>=1.1.4 in /usr/local/lib/python3.10/dist-packages (from yolov5) (1.5.3)\n",
            "Requirement already satisfied: seaborn>=0.11.0 in /usr/local/lib/python3.10/dist-packages (from yolov5) (0.12.2)\n",
            "Requirement already satisfied: setuptools>=65.5.1 in /usr/local/lib/python3.10/dist-packages (from yolov5) (67.7.2)\n",
            "Requirement already satisfied: fire in /usr/local/lib/python3.10/dist-packages (from yolov5) (0.5.0)\n",
            "Requirement already satisfied: boto3>=1.19.1 in /usr/local/lib/python3.10/dist-packages (from yolov5) (1.34.14)\n",
            "Requirement already satisfied: sahi>=0.11.10 in /usr/local/lib/python3.10/dist-packages (from yolov5) (0.11.15)\n",
            "Requirement already satisfied: huggingface-hub>=0.12.0 in /usr/local/lib/python3.10/dist-packages (from yolov5) (0.20.1)\n",
            "Requirement already satisfied: roboflow>=0.2.29 in /usr/local/lib/python3.10/dist-packages (from yolov5) (1.1.15)\n",
            "Requirement already satisfied: botocore<1.35.0,>=1.34.14 in /usr/local/lib/python3.10/dist-packages (from boto3>=1.19.1->yolov5) (1.34.14)\n",
            "Requirement already satisfied: jmespath<2.0.0,>=0.7.1 in /usr/local/lib/python3.10/dist-packages (from boto3>=1.19.1->yolov5) (1.0.1)\n",
            "Requirement already satisfied: s3transfer<0.11.0,>=0.10.0 in /usr/local/lib/python3.10/dist-packages (from boto3>=1.19.1->yolov5) (0.10.0)\n",
            "Requirement already satisfied: gitdb<5,>=4.0.1 in /usr/local/lib/python3.10/dist-packages (from gitpython>=3.1.30->yolov5) (4.0.11)\n",
            "Requirement already satisfied: filelock in /usr/local/lib/python3.10/dist-packages (from huggingface-hub>=0.12.0->yolov5) (3.13.1)\n",
            "Requirement already satisfied: fsspec>=2023.5.0 in /usr/local/lib/python3.10/dist-packages (from huggingface-hub>=0.12.0->yolov5) (2023.6.0)\n",
            "Requirement already satisfied: typing-extensions>=3.7.4.3 in /usr/local/lib/python3.10/dist-packages (from huggingface-hub>=0.12.0->yolov5) (4.5.0)\n",
            "Requirement already satisfied: packaging>=20.9 in /usr/local/lib/python3.10/dist-packages (from huggingface-hub>=0.12.0->yolov5) (23.2)\n",
            "Requirement already satisfied: contourpy>=1.0.1 in /usr/local/lib/python3.10/dist-packages (from matplotlib>=3.3->yolov5) (1.2.0)\n",
            "Requirement already satisfied: cycler>=0.10 in /usr/local/lib/python3.10/dist-packages (from matplotlib>=3.3->yolov5) (0.10.0)\n",
            "Requirement already satisfied: fonttools>=4.22.0 in /usr/local/lib/python3.10/dist-packages (from matplotlib>=3.3->yolov5) (4.47.0)\n",
            "Requirement already satisfied: kiwisolver>=1.0.1 in /usr/local/lib/python3.10/dist-packages (from matplotlib>=3.3->yolov5) (1.4.5)\n",
            "Requirement already satisfied: pyparsing>=2.3.1 in /usr/local/lib/python3.10/dist-packages (from matplotlib>=3.3->yolov5) (2.4.7)\n",
            "Requirement already satisfied: python-dateutil>=2.7 in /usr/local/lib/python3.10/dist-packages (from matplotlib>=3.3->yolov5) (2.8.2)\n",
            "Requirement already satisfied: pytz>=2020.1 in /usr/local/lib/python3.10/dist-packages (from pandas>=1.1.4->yolov5) (2023.3.post1)\n",
            "Requirement already satisfied: charset-normalizer<4,>=2 in /usr/local/lib/python3.10/dist-packages (from requests>=2.23.0->yolov5) (3.3.2)\n",
            "Requirement already satisfied: idna<4,>=2.5 in /usr/local/lib/python3.10/dist-packages (from requests>=2.23.0->yolov5) (2.10)\n",
            "Requirement already satisfied: urllib3<3,>=1.21.1 in /usr/local/lib/python3.10/dist-packages (from requests>=2.23.0->yolov5) (2.0.7)\n",
            "Requirement already satisfied: certifi>=2017.4.17 in /usr/local/lib/python3.10/dist-packages (from requests>=2.23.0->yolov5) (2023.7.22)\n",
            "Requirement already satisfied: chardet==4.0.0 in /usr/local/lib/python3.10/dist-packages (from roboflow>=0.2.29->yolov5) (4.0.0)\n",
            "Requirement already satisfied: opencv-python-headless==4.8.0.74 in /usr/local/lib/python3.10/dist-packages (from roboflow>=0.2.29->yolov5) (4.8.0.74)\n",
            "Requirement already satisfied: python-dotenv in /usr/local/lib/python3.10/dist-packages (from roboflow>=0.2.29->yolov5) (1.0.0)\n",
            "Requirement already satisfied: six in /usr/local/lib/python3.10/dist-packages (from roboflow>=0.2.29->yolov5) (1.16.0)\n",
            "Requirement already satisfied: supervision in /usr/local/lib/python3.10/dist-packages (from roboflow>=0.2.29->yolov5) (0.17.1)\n",
            "Requirement already satisfied: requests-toolbelt in /usr/local/lib/python3.10/dist-packages (from roboflow>=0.2.29->yolov5) (1.0.0)\n",
            "Requirement already satisfied: python-magic in /usr/local/lib/python3.10/dist-packages (from roboflow>=0.2.29->yolov5) (0.4.27)\n",
            "Requirement already satisfied: shapely>=1.8.0 in /usr/local/lib/python3.10/dist-packages (from sahi>=0.11.10->yolov5) (2.0.2)\n",
            "Requirement already satisfied: pybboxes==0.1.6 in /usr/local/lib/python3.10/dist-packages (from sahi>=0.11.10->yolov5) (0.1.6)\n",
            "Requirement already satisfied: terminaltables in /usr/local/lib/python3.10/dist-packages (from sahi>=0.11.10->yolov5) (3.1.10)\n",
            "Requirement already satisfied: click in /usr/local/lib/python3.10/dist-packages (from sahi>=0.11.10->yolov5) (8.1.7)\n",
            "Requirement already satisfied: absl-py>=0.4 in /usr/local/lib/python3.10/dist-packages (from tensorboard>=2.4.1->yolov5) (1.4.0)\n",
            "Requirement already satisfied: grpcio>=1.48.2 in /usr/local/lib/python3.10/dist-packages (from tensorboard>=2.4.1->yolov5) (1.60.0)\n",
            "Requirement already satisfied: google-auth<3,>=1.6.3 in /usr/local/lib/python3.10/dist-packages (from tensorboard>=2.4.1->yolov5) (2.17.3)\n",
            "Requirement already satisfied: google-auth-oauthlib<0.5,>=0.4.1 in /usr/local/lib/python3.10/dist-packages (from tensorboard>=2.4.1->yolov5) (0.4.6)\n",
            "Requirement already satisfied: markdown>=2.6.8 in /usr/local/lib/python3.10/dist-packages (from tensorboard>=2.4.1->yolov5) (3.5.1)\n",
            "Requirement already satisfied: protobuf>=3.19.6 in /usr/local/lib/python3.10/dist-packages (from tensorboard>=2.4.1->yolov5) (3.20.3)\n",
            "Requirement already satisfied: tensorboard-data-server<0.8.0,>=0.7.0 in /usr/local/lib/python3.10/dist-packages (from tensorboard>=2.4.1->yolov5) (0.7.2)\n",
            "Requirement already satisfied: tensorboard-plugin-wit>=1.6.0 in /usr/local/lib/python3.10/dist-packages (from tensorboard>=2.4.1->yolov5) (1.8.1)\n",
            "Requirement already satisfied: werkzeug>=1.0.1 in /usr/local/lib/python3.10/dist-packages (from tensorboard>=2.4.1->yolov5) (3.0.1)\n",
            "Requirement already satisfied: wheel>=0.26 in /usr/local/lib/python3.10/dist-packages (from tensorboard>=2.4.1->yolov5) (0.42.0)\n",
            "Requirement already satisfied: sympy in /usr/local/lib/python3.10/dist-packages (from torch>=1.7.0->yolov5) (1.12)\n",
            "Requirement already satisfied: networkx in /usr/local/lib/python3.10/dist-packages (from torch>=1.7.0->yolov5) (3.2.1)\n",
            "Requirement already satisfied: jinja2 in /usr/local/lib/python3.10/dist-packages (from torch>=1.7.0->yolov5) (3.1.2)\n",
            "Requirement already satisfied: triton==2.1.0 in /usr/local/lib/python3.10/dist-packages (from torch>=1.7.0->yolov5) (2.1.0)\n",
            "Requirement already satisfied: py-cpuinfo in /usr/local/lib/python3.10/dist-packages (from ultralytics>=8.0.100->yolov5) (9.0.0)\n",
            "Requirement already satisfied: termcolor in /usr/local/lib/python3.10/dist-packages (from fire->yolov5) (2.4.0)\n",
            "Requirement already satisfied: smmap<6,>=3.0.1 in /usr/local/lib/python3.10/dist-packages (from gitdb<5,>=4.0.1->gitpython>=3.1.30->yolov5) (5.0.1)\n",
            "Requirement already satisfied: cachetools<6.0,>=2.0.0 in /usr/local/lib/python3.10/dist-packages (from google-auth<3,>=1.6.3->tensorboard>=2.4.1->yolov5) (5.3.2)\n",
            "Requirement already satisfied: pyasn1-modules>=0.2.1 in /usr/local/lib/python3.10/dist-packages (from google-auth<3,>=1.6.3->tensorboard>=2.4.1->yolov5) (0.3.0)\n",
            "Requirement already satisfied: rsa<5,>=3.1.4 in /usr/local/lib/python3.10/dist-packages (from google-auth<3,>=1.6.3->tensorboard>=2.4.1->yolov5) (4.9)\n",
            "Requirement already satisfied: requests-oauthlib>=0.7.0 in /usr/local/lib/python3.10/dist-packages (from google-auth-oauthlib<0.5,>=0.4.1->tensorboard>=2.4.1->yolov5) (1.3.1)\n",
            "Requirement already satisfied: MarkupSafe>=2.1.1 in /usr/local/lib/python3.10/dist-packages (from werkzeug>=1.0.1->tensorboard>=2.4.1->yolov5) (2.1.3)\n",
            "Requirement already satisfied: mpmath>=0.19 in /usr/local/lib/python3.10/dist-packages (from sympy->torch>=1.7.0->yolov5) (1.3.0)\n",
            "Requirement already satisfied: pyasn1<0.6.0,>=0.4.6 in /usr/local/lib/python3.10/dist-packages (from pyasn1-modules>=0.2.1->google-auth<3,>=1.6.3->tensorboard>=2.4.1->yolov5) (0.5.1)\n",
            "Requirement already satisfied: oauthlib>=3.0.0 in /usr/local/lib/python3.10/dist-packages (from requests-oauthlib>=0.7.0->google-auth-oauthlib<0.5,>=0.4.1->tensorboard>=2.4.1->yolov5) (3.2.2)\n"
          ]
        }
      ]
    },
    {
      "cell_type": "code",
      "source": [
        "# Create a YAML configuration file\n",
        "# YAML content\n",
        "yolov5_config = \"\"\"\n",
        "train: /content/organized_abide  # Path to the training dataset\n",
        "val: /content/organized_oasis  # Path to the validation dataset\n",
        "\n",
        "nc: 1\n",
        "\n",
        "names: ['cc_images']\n",
        "\n",
        "img_size: 640\n",
        "\n",
        "batch_size: 16\n",
        "\n",
        "epochs: 5\n",
        "\n",
        "weights: yolov5s.pt\n",
        "\n",
        "device: 0\n",
        "augment: true\n",
        "degrees: 0\n",
        "translate: 0.1\n",
        "scale: 0.5\n",
        "shear: 0.1\n",
        "perspective: 0.0\n",
        "flipud: 0.0\n",
        "fliplr: 0.5\n",
        "mosaic: 1.0\n",
        "\n",
        "mixed_precision: true\n",
        "\n",
        "model:\n",
        "    name: YOLOv5x\n",
        "    n_classes: 1\n",
        "    anchors:\n",
        "      - 10,13, 16,30, 33,23\n",
        "      - 30,61, 62,45, 59,119\n",
        "      - 116,90, 156,198, 373,326\n",
        "\n",
        "\n",
        "\n",
        "\"\"\"\n",
        "\n",
        "# Save YAML content to a file\n",
        "with open('/content/yolov5_config.yaml', 'w') as f:\n",
        "    f.write(yolov5_config)\n",
        "\n"
      ],
      "metadata": {
        "id": "fIqIs5OYOjN3"
      },
      "id": "fIqIs5OYOjN3",
      "execution_count": 51,
      "outputs": []
    },
    {
      "cell_type": "markdown",
      "source": [
        "The provided script creates a YAML configuration file named yolov5_config.yaml for training a YOLOv5 object detection model. The configuration specifies various parameters for training, including the paths to the training and validation datasets (train and val), the number of classes (nc), class names (names), input image size (img_size), batch size (batch_size), number of training epochs (epochs), initial weights (weights), target device (device), data augmentation settings (augment, degrees, translate, scale, shear, perspective, flipud, fliplr, mosaic), mixed precision training (mixed_precision), and model architecture (model).\n",
        "\n",
        "The YOLOv5 model specified in the configuration has the name YOLOv5x with 1 class and custom anchor box coordinates. The anchor boxes are provided as a list of coordinates in the anchors section.\n",
        "\n",
        "This configuration file is then saved to the path /content/yolov5_config.yaml. The configuration can be adjusted based on specific requirements, and the file is ready for use in training a YOLOv5 object detection model."
      ],
      "metadata": {
        "id": "6GInA_wDSse-"
      },
      "id": "6GInA_wDSse-"
    },
    {
      "cell_type": "code",
      "source": [
        "model = YOLO(\"yolov8n.yaml\")\n",
        "results = model.train(data = 'yolov5_config.yaml', epochs = 5)"
      ],
      "metadata": {
        "id": "C3IXC9efOjRL"
      },
      "id": "C3IXC9efOjRL",
      "execution_count": null,
      "outputs": []
    },
    {
      "cell_type": "markdown",
      "source": [
        "The given code initializes and trains a YOLOv8n object detection model using a configuration file (yolov5_config.yaml). The configuration specifies parameters such as training and validation data paths, image size, batch size, and model architecture details. The model is trained for 5 epochs, utilizing the YOLOv8n architecture with specific anchor box values. Additionally, data augmentation techniques, mixed precision training, and GPU acceleration are enabled. The training process aims to optimize the model based on the specified configuration and improve its ability to detect objects in images, with the training progress monitored for evaluation."
      ],
      "metadata": {
        "id": "1Y-q1EotUfjm"
      },
      "id": "1Y-q1EotUfjm"
    },
    {
      "cell_type": "code",
      "source": [],
      "metadata": {
        "id": "Nyuf7mrrOjW5"
      },
      "id": "Nyuf7mrrOjW5",
      "execution_count": null,
      "outputs": []
    }
  ],
  "metadata": {
    "kernelspec": {
      "display_name": "Python 3",
      "name": "python3"
    },
    "language_info": {
      "codemirror_mode": {
        "name": "ipython",
        "version": 3
      },
      "file_extension": ".py",
      "mimetype": "text/x-python",
      "name": "python",
      "nbconvert_exporter": "python",
      "pygments_lexer": "ipython3",
      "version": "3.10.9"
    },
    "colab": {
      "provenance": []
    },
    "accelerator": "TPU"
  },
  "nbformat": 4,
  "nbformat_minor": 5
}