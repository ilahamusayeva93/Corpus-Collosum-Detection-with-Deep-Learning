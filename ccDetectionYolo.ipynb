{
 "cells": [
  {
   "cell_type": "code",
   "execution_count": 2,
   "id": "b6d0d5cd",
   "metadata": {},
   "outputs": [],
   "source": [
    "import cv2\n",
    "import matplotlib.pyplot as plt\n",
    "import numpy as np\n",
    "import pandas as pd\n",
    "import os\n",
    "import random\n",
    "import math"
   ]
  },
  {
   "cell_type": "code",
   "execution_count": 3,
   "id": "08c0f534",
   "metadata": {},
   "outputs": [],
   "source": [
    "# Defining imshow function\n",
    "def imshow(image = None, title = \"Image\", size = 10):\n",
    "    w, h = image.shape[0], image.shape[1]\n",
    "    aspect_ratio = w/h\n",
    "    plt.figure(figsize = (size * aspect_ratio, size))\n",
    "    plt.imshow(cv2.cvtColor(image, cv2.COLOR_BGR2RGB))\n",
    "    plt.title(title)\n",
    "    plt.show()"
   ]
  },
  {
   "cell_type": "markdown",
   "id": "543c8ae6",
   "metadata": {},
   "source": [
    "##### In out images folder first comes brain mri image and then segmented corpus callosum images. So we can get our only brain images and corpus callosum images with seperating them by odd and even indexes"
   ]
  },
  {
   "cell_type": "code",
   "execution_count": 4,
   "id": "05f51554",
   "metadata": {},
   "outputs": [
    {
     "name": "stdout",
     "output_type": "stream",
     "text": [
      "Oasis corpus callosum images: \n",
      " \n",
      " ['OAS1_0001_MR1_62_ccseg.tif', 'OAS1_0001_MR1_63_ccseg.tif', 'OAS1_0001_MR1_64_ccseg.tif', 'OAS1_0001_MR1_65_ccseg.tif', 'OAS1_0001_MR1_66_ccseg.tif'] \n",
      " \n",
      " \n",
      " \n",
      "\n",
      "Oasis brain mri images: \n",
      " \n",
      " ['OAS1_0001_MR1_62.tif', 'OAS1_0001_MR1_63.tif', 'OAS1_0001_MR1_64.tif', 'OAS1_0001_MR1_65.tif', 'OAS1_0001_MR1_66.tif'] \n",
      " \n",
      " \n",
      " \n",
      "\n",
      "Abide corpus callosum images: \n",
      " \n",
      " ['Caltech_0051456_abide_cc.tiff', 'Caltech_0051457_abide_cc.tiff', 'Caltech_0051458_abide_cc.tiff', 'Caltech_0051459_abide_cc.tiff', 'Caltech_0051460_abide_cc.tiff'] \n",
      " \n",
      " \n",
      " \n",
      "\n",
      "Abide brain mri images: \n",
      " \n",
      " ['Caltech_0051456_abide_msp.tiff', 'Caltech_0051457_abide_msp.tiff', 'Caltech_0051458_abide_msp.tiff', 'Caltech_0051459_abide_msp.tiff', 'Caltech_0051460_abide_msp.tiff'] \n",
      " \n",
      " \n",
      " \n",
      "\n"
     ]
    }
   ],
   "source": [
    "folder_oasis_images = \"oasis_imgs/oasis_imgs\"\n",
    "folder_abide_images = \"abide_imgs/abide_imgs\"\n",
    "def is_even(number):\n",
    "    return number % 2 != 0\n",
    "oasis_images_names = [filename for filename in os.listdir(folder_oasis_images)]\n",
    "oasis_cc_images = [oasis_images_names[i] for i in range(len(oasis_images_names)) if is_even(i)]\n",
    "oasis_brain_images = [oasis_images_names[i] for i in range(len(oasis_images_names)) if not is_even(i)]\n",
    "print(\"Oasis corpus callosum images: \\n \\n\", oasis_cc_images[:5], \"\\n \\n \\n \\n\")\n",
    "print(\"Oasis brain mri images: \\n \\n\", oasis_brain_images[:5], \"\\n \\n \\n \\n\")\n",
    "\n",
    "abide_images_names = [filename for filename in os.listdir(folder_abide_images)]\n",
    "abide_cc_images = [abide_images_names[i] for i in range(len(abide_images_names)) if not is_even(i)]\n",
    "abide_brain_images = [abide_images_names[i] for i in range(len(abide_images_names)) if is_even(i)]\n",
    "\n",
    "print(\"Abide corpus callosum images: \\n \\n\", abide_cc_images[:5], \"\\n \\n \\n \\n\")\n",
    "print(\"Abide brain mri images: \\n \\n\", abide_brain_images[:5], \"\\n \\n \\n \\n\")\n"
   ]
  },
  {
   "cell_type": "markdown",
   "id": "66964391",
   "metadata": {},
   "source": [
    "#### Now we are seperating brain images and cc images"
   ]
  },
  {
   "cell_type": "code",
   "execution_count": 5,
   "id": "dd24ed0c",
   "metadata": {},
   "outputs": [],
   "source": [
    "def add_brain_images_to_folder(index, brain_images_array, brain_images_folder_path, file_path = \"brain_images\"):\n",
    "    brain_image_name = brain_images_array[index]\n",
    "    brain_image = cv2.imread(os.path.join(brain_images_folder_path, brain_image_name))\n",
    "    file_path = f\"{file_path}/{brain_image_name}\"\n",
    "    cv2.imwrite(file_path, brain_image)"
   ]
  },
  {
   "cell_type": "code",
   "execution_count": 6,
   "id": "fceaf4a4",
   "metadata": {},
   "outputs": [],
   "source": [
    "image_index = 0\n",
    "# for filename in range(len(oasis_brain_images)):\n",
    "#     add_brain_images_to_folder(image_index, oasis_brain_images, \"oasis_imgs/oasis_imgs\")\n",
    "#     image_index+=1\n",
    "# for filename in range(len(abide_brain_images)):\n",
    "#     add_brain_images_to_folder(image_index, abide_brain_images, \"abide_imgs/abide_imgs\")\n",
    "#     image_index+=1\n"
   ]
  },
  {
   "cell_type": "code",
   "execution_count": 7,
   "id": "5685af38",
   "metadata": {},
   "outputs": [],
   "source": [
    "image_index = 0\n",
    "# for filename in range(len(oasis_cc_images)):\n",
    "#     add_brain_images_to_folder(image_index, oasis_cc_images, \"oasis_imgs/oasis_imgs\", \"cc_images\")\n",
    "# #     image_index+=1\n",
    "# for filename in range(len(abide_cc_images)):\n",
    "#     add_brain_images_to_folder(image_index, abide_cc_images, \"abide_imgs/abide_imgs\", \"cc_images\")\n",
    "#     image_index+=1"
   ]
  },
  {
   "cell_type": "markdown",
   "id": "d803d604",
   "metadata": {},
   "source": [
    "#### This functions detecting corupus callosum image in brain mri image according to segmented cc image.  Drawing rectangle around this corpus callosum image. Getting the width, height and center coordinades of this rectanlge. And normalize them between 0, 1(because this is how yolo works). Then creating txt file for each image with these coordinates like that (class, center_x, center_y, with, height. "
   ]
  },
  {
   "cell_type": "code",
   "execution_count": 9,
   "id": "11094e9c",
   "metadata": {},
   "outputs": [],
   "source": [
    "def detectPositionsOfSquare(index):\n",
    "    target_cc_path = \"cc_images\" \n",
    "    target_brain_path = \"brain_images\"\n",
    "    brain_images_name = os.listdir(target_brain_path)[index]\n",
    "    corpus_callosum_images_name = os.listdir(target_cc_path)[index]\n",
    "    target_image = os.path.join(target_cc_path, corpus_callosum_images_name)\n",
    "    corpus_callosum_image = cv2.imread(target_image)\n",
    "    # Grayscaling image\n",
    "    corpus_callosum_image_gray = cv2.cvtColor(corpus_callosum_image, cv2.COLOR_BGR2GRAY)\n",
    "    # Thresholding image\n",
    "    _, th2 = cv2.threshold(corpus_callosum_image_gray, 0, 255, cv2.THRESH_BINARY + cv2.THRESH_OTSU)\n",
    "    corpus_callosum_image_copy = corpus_callosum_image.copy()\n",
    "    # Finding and drawing contours\n",
    "    contours, hierarchy = cv2.findContours(th2, cv2.RETR_LIST, cv2.CHAIN_APPROX_NONE)\n",
    "    cv2.drawContours(corpus_callosum_image_copy, contours, -1, (0, 255, 0), thickness = 2)\n",
    "    \n",
    "    if len(contours) > 0:\n",
    "        corpus_callosum_contour = contours[0]\n",
    "        x_cc, y_cc, w_cc, h_cc = cv2.boundingRect(corpus_callosum_contour)\n",
    "\n",
    "        # Step 5: Draw the rectangle\n",
    "        cv2.rectangle(corpus_callosum_image, (x_cc, y_cc), (x_cc + w_cc, y_cc + h_cc), (0, 255, 0), 2)\n",
    "\n",
    "        # Display the image with the rectangle\n",
    "\n",
    "    else:\n",
    "        print(\"No contour found for the corpus callosum.\")\n",
    "    \n",
    "    center_coordinate = (math.floor((x_cc + w_cc/2)), math.floor((y_cc + h_cc/2)))\n",
    "    folder_name = \"labels\"\n",
    "    \n",
    "    base_name, extension = os.path.splitext(brain_images_name)\n",
    "    txt_name = base_name + \".txt\"\n",
    "\n",
    "    if not os.path.exists(folder_name):\n",
    "        os.makedirs(folder_name)\n",
    "\n",
    "    file_path = os.path.join(folder_name, txt_name)\n",
    "    x_of_center, y_of_center = center_coordinate[0], center_coordinate[1]\n",
    "\n",
    "    width, height = corpus_callosum_image.shape[0], corpus_callosum_image.shape[1]\n",
    "\n",
    "    center_x_normalized = x_of_center / width\n",
    "    center_y_normalized = y_of_center / height\n",
    "    width_normalized = w_cc / width\n",
    "    height_normalized = h_cc / height\n",
    "\n",
    "    txt_writing = f'0 {center_x_normalized} {center_y_normalized} {width_normalized} {height_normalized}'\n",
    "    with open(file_path, \"w\") as file:\n",
    "        file.write(txt_writing)"
   ]
  },
  {
   "cell_type": "code",
   "execution_count": 59,
   "id": "0092db17",
   "metadata": {},
   "outputs": [],
   "source": [
    "# image_index = 0\n",
    "# for filename in range(len(os.listdir(\"brain_images\"))):\n",
    "#     detectPositionsOfSquare(image_index)\n",
    "#     image_index += 1"
   ]
  },
  {
   "cell_type": "code",
   "execution_count": 65,
   "id": "df9d28ff",
   "metadata": {},
   "outputs": [
    {
     "name": "stdout",
     "output_type": "stream",
     "text": [
      "Length of brain images folder: 2003\n",
      "Length of corpus callosum labels is: 2003\n"
     ]
    },
    {
     "data": {
      "text/plain": [
       "('OAS1_0001_MR1_69.tif', 'OAS1_0001_MR1_69.txt')"
      ]
     },
     "execution_count": 65,
     "metadata": {},
     "output_type": "execute_result"
    }
   ],
   "source": [
    "brain_images = os.listdir(\"brain_images\")\n",
    "cc_coordinates = os.listdir(\"labels\")\n",
    "\n",
    "print(f\"Length of brain images folder: {len(brain_images)}\")\n",
    "print(f\"Length of corpus callosum labels is: {len(cc_coordinates)}\")\n",
    "\n",
    "brain_images[432], cc_coordinates[432]"
   ]
  },
  {
   "cell_type": "code",
   "execution_count": null,
   "id": "6bbee3eb",
   "metadata": {},
   "outputs": [],
   "source": [
    "from ultralytics import YOLO\n",
    "model = YOLO(\"yolov8n.yaml\")\n",
    "results = model.train(data = 'config.yaml', epochs = 3) # train the model"
   ]
  }
 ],
 "metadata": {
  "kernelspec": {
   "display_name": "Python 3 (ipykernel)",
   "language": "python",
   "name": "python3"
  },
  "language_info": {
   "codemirror_mode": {
    "name": "ipython",
    "version": 3
   },
   "file_extension": ".py",
   "mimetype": "text/x-python",
   "name": "python",
   "nbconvert_exporter": "python",
   "pygments_lexer": "ipython3",
   "version": "3.10.9"
  }
 },
 "nbformat": 4,
 "nbformat_minor": 5
}
